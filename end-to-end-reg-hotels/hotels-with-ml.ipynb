{
 "cells": [
  {
   "cell_type": "code",
   "execution_count": 2,
   "id": "71ae5d56",
   "metadata": {},
   "outputs": [],
   "source": [
    "import pandas as pd\n",
    "import numpy as np\n",
    "import os\n",
    "from pathlib import Path\n",
    "import pyreadstat\n",
    "\n",
    "path = Path(os.getcwd())\n",
    "base_dir = path.parent\n",
    "data_in = os.path.join(str(base_dir),\"datasets/\")\n",
    "\n",
    "#for future possibly find way to pull data into our dataset folder through a separate file\n",
    "hotels_stata, metastata = pyreadstat.read_dta(os.path.join(data_in,\"hotels-europe_price.dta\"), encoding=\"latin1\")\n",
    "prices_stata, metastata = pyreadstat.read_dta(os.path.join(data_in,\"hotels-europe_features.dta\"), encoding=\"latin1\")\n",
    "\n",
    "#in future rearrange data so category values are at the end and also in transformer just replace a column for a column\n"
   ]
  },
  {
   "cell_type": "code",
   "execution_count": 3,
   "id": "0710da9e",
   "metadata": {},
   "outputs": [
    {
     "data": {
      "text/plain": [
       "dict_keys([])"
      ]
     },
     "execution_count": 3,
     "metadata": {},
     "output_type": "execute_result"
    }
   ],
   "source": [
    "metastata.variable_value_labels.keys()"
   ]
  },
  {
   "cell_type": "code",
   "execution_count": 4,
   "id": "1dc20c89",
   "metadata": {},
   "outputs": [
    {
     "name": "stdout",
     "output_type": "stream",
     "text": [
      "<class 'pandas.core.frame.DataFrame'>\n",
      "RangeIndex: 148021 entries, 0 to 148020\n",
      "Data columns (total 10 columns):\n",
      " #   Column       Non-Null Count   Dtype  \n",
      "---  ------       --------------   -----  \n",
      " 0   hotel_id     148021 non-null  int64  \n",
      " 1   price        148021 non-null  int64  \n",
      " 2   scarce_room  148021 non-null  int64  \n",
      " 3   offer        148021 non-null  int64  \n",
      " 4   offer_cat    148021 non-null  object \n",
      " 5   year         148021 non-null  int64  \n",
      " 6   month        148021 non-null  int64  \n",
      " 7   weekend      148021 non-null  int64  \n",
      " 8   holiday      148021 non-null  int64  \n",
      " 9   nnights      148021 non-null  float64\n",
      "dtypes: float64(1), int64(8), object(1)\n",
      "memory usage: 11.3+ MB\n"
     ]
    }
   ],
   "source": [
    "hotels_stata.info()\n"
   ]
  },
  {
   "cell_type": "code",
   "execution_count": 5,
   "id": "927512ae",
   "metadata": {},
   "outputs": [
    {
     "name": "stdout",
     "output_type": "stream",
     "text": [
      "<class 'pandas.core.frame.DataFrame'>\n",
      "RangeIndex: 22902 entries, 0 to 22901\n",
      "Data columns (total 15 columns):\n",
      " #   Column              Non-Null Count  Dtype  \n",
      "---  ------              --------------  -----  \n",
      " 0   hotel_id            22902 non-null  int64  \n",
      " 1   country             22902 non-null  object \n",
      " 2   city_actual         22902 non-null  object \n",
      " 3   rating_count        20722 non-null  object \n",
      " 4   distance            22902 non-null  float64\n",
      " 5   center1label        22902 non-null  object \n",
      " 6   distance_alter      22902 non-null  float64\n",
      " 7   center2label        22902 non-null  object \n",
      " 8   neighbourhood       22902 non-null  object \n",
      " 9   city                22902 non-null  object \n",
      " 10  stars               17187 non-null  float64\n",
      " 11  ratingta            19909 non-null  float64\n",
      " 12  ratingta_count      19909 non-null  object \n",
      " 13  accommodation_type  22902 non-null  object \n",
      " 14  rating              20722 non-null  float64\n",
      "dtypes: float64(5), int64(1), object(9)\n",
      "memory usage: 2.6+ MB\n"
     ]
    }
   ],
   "source": [
    "prices_stata.info()"
   ]
  },
  {
   "cell_type": "code",
   "execution_count": 6,
   "id": "1bc240d5",
   "metadata": {},
   "outputs": [
    {
     "data": {
      "text/plain": [
       "22902"
      ]
     },
     "execution_count": 6,
     "metadata": {},
     "output_type": "execute_result"
    }
   ],
   "source": [
    "hotels_stata.hotel_id.nunique() #confirming merge by column"
   ]
  },
  {
   "cell_type": "code",
   "execution_count": 7,
   "id": "7a1ef2d4",
   "metadata": {},
   "outputs": [
    {
     "data": {
      "text/plain": [
       "22902"
      ]
     },
     "execution_count": 7,
     "metadata": {},
     "output_type": "execute_result"
    }
   ],
   "source": [
    "prices_stata.hotel_id.nunique()"
   ]
  },
  {
   "cell_type": "code",
   "execution_count": 8,
   "id": "7f483ca7",
   "metadata": {},
   "outputs": [],
   "source": [
    "#make function perhaps to confirm the merge by operation"
   ]
  },
  {
   "cell_type": "code",
   "execution_count": 9,
   "id": "15606aba",
   "metadata": {},
   "outputs": [
    {
     "name": "stdout",
     "output_type": "stream",
     "text": [
      "<class 'pandas.core.frame.DataFrame'>\n",
      "Int64Index: 148021 entries, 0 to 148020\n",
      "Data columns (total 24 columns):\n",
      " #   Column              Non-Null Count   Dtype  \n",
      "---  ------              --------------   -----  \n",
      " 0   hotel_id            148021 non-null  int64  \n",
      " 1   price               148021 non-null  int64  \n",
      " 2   scarce_room         148021 non-null  int64  \n",
      " 3   offer               148021 non-null  int64  \n",
      " 4   offer_cat           148021 non-null  object \n",
      " 5   year                148021 non-null  int64  \n",
      " 6   month               148021 non-null  int64  \n",
      " 7   weekend             148021 non-null  int64  \n",
      " 8   holiday             148021 non-null  int64  \n",
      " 9   nnights             148021 non-null  float64\n",
      " 10  country             148021 non-null  object \n",
      " 11  city_actual         148021 non-null  object \n",
      " 12  rating_count        137498 non-null  object \n",
      " 13  distance            148021 non-null  float64\n",
      " 14  center1label        148021 non-null  object \n",
      " 15  distance_alter      148021 non-null  float64\n",
      " 16  center2label        148021 non-null  object \n",
      " 17  neighbourhood       148021 non-null  object \n",
      " 18  city                148021 non-null  object \n",
      " 19  stars               121628 non-null  float64\n",
      " 20  ratingta            135090 non-null  float64\n",
      " 21  ratingta_count      135090 non-null  object \n",
      " 22  accommodation_type  148021 non-null  object \n",
      " 23  rating              137498 non-null  float64\n",
      "dtypes: float64(6), int64(8), object(10)\n",
      "memory usage: 28.2+ MB\n"
     ]
    }
   ],
   "source": [
    "hotels_europe = hotels_stata.merge(prices_stata,left_on='hotel_id', right_on='hotel_id')\n",
    "hotels_europe.info()"
   ]
  },
  {
   "cell_type": "code",
   "execution_count": 10,
   "id": "e3afe15c",
   "metadata": {
    "scrolled": true
   },
   "outputs": [
    {
     "data": {
      "text/html": [
       "<div>\n",
       "<style scoped>\n",
       "    .dataframe tbody tr th:only-of-type {\n",
       "        vertical-align: middle;\n",
       "    }\n",
       "\n",
       "    .dataframe tbody tr th {\n",
       "        vertical-align: top;\n",
       "    }\n",
       "\n",
       "    .dataframe thead th {\n",
       "        text-align: right;\n",
       "    }\n",
       "</style>\n",
       "<table border=\"1\" class=\"dataframe\">\n",
       "  <thead>\n",
       "    <tr style=\"text-align: right;\">\n",
       "      <th></th>\n",
       "      <th>hotel_id</th>\n",
       "      <th>price</th>\n",
       "      <th>scarce_room</th>\n",
       "      <th>offer</th>\n",
       "      <th>offer_cat</th>\n",
       "      <th>year</th>\n",
       "      <th>month</th>\n",
       "      <th>weekend</th>\n",
       "      <th>holiday</th>\n",
       "      <th>nnights</th>\n",
       "      <th>...</th>\n",
       "      <th>center1label</th>\n",
       "      <th>distance_alter</th>\n",
       "      <th>center2label</th>\n",
       "      <th>neighbourhood</th>\n",
       "      <th>city</th>\n",
       "      <th>stars</th>\n",
       "      <th>ratingta</th>\n",
       "      <th>ratingta_count</th>\n",
       "      <th>accommodation_type</th>\n",
       "      <th>rating</th>\n",
       "    </tr>\n",
       "  </thead>\n",
       "  <tbody>\n",
       "    <tr>\n",
       "      <th>0</th>\n",
       "      <td>1</td>\n",
       "      <td>114</td>\n",
       "      <td>0</td>\n",
       "      <td>1</td>\n",
       "      <td>15-50% offer</td>\n",
       "      <td>2017</td>\n",
       "      <td>11</td>\n",
       "      <td>0</td>\n",
       "      <td>0</td>\n",
       "      <td>1.0</td>\n",
       "      <td>...</td>\n",
       "      <td>City centre</td>\n",
       "      <td>3.6</td>\n",
       "      <td>Montelbaanstoren</td>\n",
       "      <td>Amsterdam</td>\n",
       "      <td>Amsterdam</td>\n",
       "      <td>4.0</td>\n",
       "      <td>4.0</td>\n",
       "      <td>1115</td>\n",
       "      <td>Hotel</td>\n",
       "      <td>4.3</td>\n",
       "    </tr>\n",
       "    <tr>\n",
       "      <th>1</th>\n",
       "      <td>1</td>\n",
       "      <td>172</td>\n",
       "      <td>0</td>\n",
       "      <td>0</td>\n",
       "      <td>0% no offer</td>\n",
       "      <td>2017</td>\n",
       "      <td>11</td>\n",
       "      <td>1</td>\n",
       "      <td>0</td>\n",
       "      <td>1.0</td>\n",
       "      <td>...</td>\n",
       "      <td>City centre</td>\n",
       "      <td>3.6</td>\n",
       "      <td>Montelbaanstoren</td>\n",
       "      <td>Amsterdam</td>\n",
       "      <td>Amsterdam</td>\n",
       "      <td>4.0</td>\n",
       "      <td>4.0</td>\n",
       "      <td>1115</td>\n",
       "      <td>Hotel</td>\n",
       "      <td>4.3</td>\n",
       "    </tr>\n",
       "    <tr>\n",
       "      <th>2</th>\n",
       "      <td>1</td>\n",
       "      <td>122</td>\n",
       "      <td>0</td>\n",
       "      <td>1</td>\n",
       "      <td>15-50% offer</td>\n",
       "      <td>2017</td>\n",
       "      <td>12</td>\n",
       "      <td>0</td>\n",
       "      <td>1</td>\n",
       "      <td>1.0</td>\n",
       "      <td>...</td>\n",
       "      <td>City centre</td>\n",
       "      <td>3.6</td>\n",
       "      <td>Montelbaanstoren</td>\n",
       "      <td>Amsterdam</td>\n",
       "      <td>Amsterdam</td>\n",
       "      <td>4.0</td>\n",
       "      <td>4.0</td>\n",
       "      <td>1115</td>\n",
       "      <td>Hotel</td>\n",
       "      <td>4.3</td>\n",
       "    </tr>\n",
       "    <tr>\n",
       "      <th>3</th>\n",
       "      <td>1</td>\n",
       "      <td>552</td>\n",
       "      <td>0</td>\n",
       "      <td>1</td>\n",
       "      <td>1-15% offer</td>\n",
       "      <td>2017</td>\n",
       "      <td>12</td>\n",
       "      <td>0</td>\n",
       "      <td>1</td>\n",
       "      <td>4.0</td>\n",
       "      <td>...</td>\n",
       "      <td>City centre</td>\n",
       "      <td>3.6</td>\n",
       "      <td>Montelbaanstoren</td>\n",
       "      <td>Amsterdam</td>\n",
       "      <td>Amsterdam</td>\n",
       "      <td>4.0</td>\n",
       "      <td>4.0</td>\n",
       "      <td>1115</td>\n",
       "      <td>Hotel</td>\n",
       "      <td>4.3</td>\n",
       "    </tr>\n",
       "    <tr>\n",
       "      <th>4</th>\n",
       "      <td>1</td>\n",
       "      <td>122</td>\n",
       "      <td>0</td>\n",
       "      <td>1</td>\n",
       "      <td>15-50% offer</td>\n",
       "      <td>2018</td>\n",
       "      <td>1</td>\n",
       "      <td>1</td>\n",
       "      <td>0</td>\n",
       "      <td>1.0</td>\n",
       "      <td>...</td>\n",
       "      <td>City centre</td>\n",
       "      <td>3.6</td>\n",
       "      <td>Montelbaanstoren</td>\n",
       "      <td>Amsterdam</td>\n",
       "      <td>Amsterdam</td>\n",
       "      <td>4.0</td>\n",
       "      <td>4.0</td>\n",
       "      <td>1115</td>\n",
       "      <td>Hotel</td>\n",
       "      <td>4.3</td>\n",
       "    </tr>\n",
       "  </tbody>\n",
       "</table>\n",
       "<p>5 rows × 24 columns</p>\n",
       "</div>"
      ],
      "text/plain": [
       "   hotel_id  price  scarce_room  offer     offer_cat  year  month  weekend  \\\n",
       "0         1    114            0      1  15-50% offer  2017     11        0   \n",
       "1         1    172            0      0   0% no offer  2017     11        1   \n",
       "2         1    122            0      1  15-50% offer  2017     12        0   \n",
       "3         1    552            0      1   1-15% offer  2017     12        0   \n",
       "4         1    122            0      1  15-50% offer  2018      1        1   \n",
       "\n",
       "   holiday  nnights  ... center1label distance_alter      center2label  \\\n",
       "0        0      1.0  ...  City centre            3.6  Montelbaanstoren   \n",
       "1        0      1.0  ...  City centre            3.6  Montelbaanstoren   \n",
       "2        1      1.0  ...  City centre            3.6  Montelbaanstoren   \n",
       "3        1      4.0  ...  City centre            3.6  Montelbaanstoren   \n",
       "4        0      1.0  ...  City centre            3.6  Montelbaanstoren   \n",
       "\n",
       "   neighbourhood       city  stars ratingta ratingta_count accommodation_type  \\\n",
       "0      Amsterdam  Amsterdam    4.0      4.0           1115              Hotel   \n",
       "1      Amsterdam  Amsterdam    4.0      4.0           1115              Hotel   \n",
       "2      Amsterdam  Amsterdam    4.0      4.0           1115              Hotel   \n",
       "3      Amsterdam  Amsterdam    4.0      4.0           1115              Hotel   \n",
       "4      Amsterdam  Amsterdam    4.0      4.0           1115              Hotel   \n",
       "\n",
       "   rating  \n",
       "0     4.3  \n",
       "1     4.3  \n",
       "2     4.3  \n",
       "3     4.3  \n",
       "4     4.3  \n",
       "\n",
       "[5 rows x 24 columns]"
      ]
     },
     "execution_count": 10,
     "metadata": {},
     "output_type": "execute_result"
    }
   ],
   "source": [
    "hotels_europe.head()"
   ]
  },
  {
   "cell_type": "code",
   "execution_count": 11,
   "id": "2cd73c70",
   "metadata": {},
   "outputs": [],
   "source": [
    "# just dropping these rows now but in future will attempt imputation\n",
    "# come back and try to use KNN to impute a value for these columns\n",
    "# check if the rows were dropping share any particular characteristics\n",
    "# hotels_europe_no_na = hotels_europe.dropna(subset=['rating_count','stars', 'ratingta', 'ratingta_count', 'rating'])\n",
    "# hotels_europe_no_na.info()"
   ]
  },
  {
   "cell_type": "code",
   "execution_count": 12,
   "id": "56fd40a6",
   "metadata": {},
   "outputs": [
    {
     "data": {
      "text/html": [
       "<div>\n",
       "<style scoped>\n",
       "    .dataframe tbody tr th:only-of-type {\n",
       "        vertical-align: middle;\n",
       "    }\n",
       "\n",
       "    .dataframe tbody tr th {\n",
       "        vertical-align: top;\n",
       "    }\n",
       "\n",
       "    .dataframe thead th {\n",
       "        text-align: right;\n",
       "    }\n",
       "</style>\n",
       "<table border=\"1\" class=\"dataframe\">\n",
       "  <thead>\n",
       "    <tr style=\"text-align: right;\">\n",
       "      <th></th>\n",
       "      <th>hotel_id</th>\n",
       "      <th>price</th>\n",
       "      <th>scarce_room</th>\n",
       "      <th>offer</th>\n",
       "      <th>offer_cat</th>\n",
       "      <th>year</th>\n",
       "      <th>month</th>\n",
       "      <th>weekend</th>\n",
       "      <th>holiday</th>\n",
       "      <th>nnights</th>\n",
       "      <th>...</th>\n",
       "      <th>center1label</th>\n",
       "      <th>distance_alter</th>\n",
       "      <th>center2label</th>\n",
       "      <th>neighbourhood</th>\n",
       "      <th>city</th>\n",
       "      <th>stars</th>\n",
       "      <th>ratingta</th>\n",
       "      <th>ratingta_count</th>\n",
       "      <th>accommodation_type</th>\n",
       "      <th>rating</th>\n",
       "    </tr>\n",
       "  </thead>\n",
       "  <tbody>\n",
       "    <tr>\n",
       "      <th>0</th>\n",
       "      <td>1</td>\n",
       "      <td>114</td>\n",
       "      <td>0</td>\n",
       "      <td>1</td>\n",
       "      <td>15-50% offer</td>\n",
       "      <td>2017</td>\n",
       "      <td>11</td>\n",
       "      <td>0</td>\n",
       "      <td>0</td>\n",
       "      <td>1.0</td>\n",
       "      <td>...</td>\n",
       "      <td>City centre</td>\n",
       "      <td>3.6</td>\n",
       "      <td>Montelbaanstoren</td>\n",
       "      <td>Amsterdam</td>\n",
       "      <td>Amsterdam</td>\n",
       "      <td>4.0</td>\n",
       "      <td>4.0</td>\n",
       "      <td>1115</td>\n",
       "      <td>Hotel</td>\n",
       "      <td>4.3</td>\n",
       "    </tr>\n",
       "    <tr>\n",
       "      <th>1</th>\n",
       "      <td>1</td>\n",
       "      <td>172</td>\n",
       "      <td>0</td>\n",
       "      <td>0</td>\n",
       "      <td>0% no offer</td>\n",
       "      <td>2017</td>\n",
       "      <td>11</td>\n",
       "      <td>1</td>\n",
       "      <td>0</td>\n",
       "      <td>1.0</td>\n",
       "      <td>...</td>\n",
       "      <td>City centre</td>\n",
       "      <td>3.6</td>\n",
       "      <td>Montelbaanstoren</td>\n",
       "      <td>Amsterdam</td>\n",
       "      <td>Amsterdam</td>\n",
       "      <td>4.0</td>\n",
       "      <td>4.0</td>\n",
       "      <td>1115</td>\n",
       "      <td>Hotel</td>\n",
       "      <td>4.3</td>\n",
       "    </tr>\n",
       "    <tr>\n",
       "      <th>2</th>\n",
       "      <td>1</td>\n",
       "      <td>122</td>\n",
       "      <td>0</td>\n",
       "      <td>1</td>\n",
       "      <td>15-50% offer</td>\n",
       "      <td>2017</td>\n",
       "      <td>12</td>\n",
       "      <td>0</td>\n",
       "      <td>1</td>\n",
       "      <td>1.0</td>\n",
       "      <td>...</td>\n",
       "      <td>City centre</td>\n",
       "      <td>3.6</td>\n",
       "      <td>Montelbaanstoren</td>\n",
       "      <td>Amsterdam</td>\n",
       "      <td>Amsterdam</td>\n",
       "      <td>4.0</td>\n",
       "      <td>4.0</td>\n",
       "      <td>1115</td>\n",
       "      <td>Hotel</td>\n",
       "      <td>4.3</td>\n",
       "    </tr>\n",
       "    <tr>\n",
       "      <th>3</th>\n",
       "      <td>1</td>\n",
       "      <td>552</td>\n",
       "      <td>0</td>\n",
       "      <td>1</td>\n",
       "      <td>1-15% offer</td>\n",
       "      <td>2017</td>\n",
       "      <td>12</td>\n",
       "      <td>0</td>\n",
       "      <td>1</td>\n",
       "      <td>4.0</td>\n",
       "      <td>...</td>\n",
       "      <td>City centre</td>\n",
       "      <td>3.6</td>\n",
       "      <td>Montelbaanstoren</td>\n",
       "      <td>Amsterdam</td>\n",
       "      <td>Amsterdam</td>\n",
       "      <td>4.0</td>\n",
       "      <td>4.0</td>\n",
       "      <td>1115</td>\n",
       "      <td>Hotel</td>\n",
       "      <td>4.3</td>\n",
       "    </tr>\n",
       "    <tr>\n",
       "      <th>4</th>\n",
       "      <td>1</td>\n",
       "      <td>122</td>\n",
       "      <td>0</td>\n",
       "      <td>1</td>\n",
       "      <td>15-50% offer</td>\n",
       "      <td>2018</td>\n",
       "      <td>1</td>\n",
       "      <td>1</td>\n",
       "      <td>0</td>\n",
       "      <td>1.0</td>\n",
       "      <td>...</td>\n",
       "      <td>City centre</td>\n",
       "      <td>3.6</td>\n",
       "      <td>Montelbaanstoren</td>\n",
       "      <td>Amsterdam</td>\n",
       "      <td>Amsterdam</td>\n",
       "      <td>4.0</td>\n",
       "      <td>4.0</td>\n",
       "      <td>1115</td>\n",
       "      <td>Hotel</td>\n",
       "      <td>4.3</td>\n",
       "    </tr>\n",
       "  </tbody>\n",
       "</table>\n",
       "<p>5 rows × 24 columns</p>\n",
       "</div>"
      ],
      "text/plain": [
       "   hotel_id  price  scarce_room  offer     offer_cat  year  month  weekend  \\\n",
       "0         1    114            0      1  15-50% offer  2017     11        0   \n",
       "1         1    172            0      0   0% no offer  2017     11        1   \n",
       "2         1    122            0      1  15-50% offer  2017     12        0   \n",
       "3         1    552            0      1   1-15% offer  2017     12        0   \n",
       "4         1    122            0      1  15-50% offer  2018      1        1   \n",
       "\n",
       "   holiday  nnights  ... center1label distance_alter      center2label  \\\n",
       "0        0      1.0  ...  City centre            3.6  Montelbaanstoren   \n",
       "1        0      1.0  ...  City centre            3.6  Montelbaanstoren   \n",
       "2        1      1.0  ...  City centre            3.6  Montelbaanstoren   \n",
       "3        1      4.0  ...  City centre            3.6  Montelbaanstoren   \n",
       "4        0      1.0  ...  City centre            3.6  Montelbaanstoren   \n",
       "\n",
       "   neighbourhood       city  stars ratingta ratingta_count accommodation_type  \\\n",
       "0      Amsterdam  Amsterdam    4.0      4.0           1115              Hotel   \n",
       "1      Amsterdam  Amsterdam    4.0      4.0           1115              Hotel   \n",
       "2      Amsterdam  Amsterdam    4.0      4.0           1115              Hotel   \n",
       "3      Amsterdam  Amsterdam    4.0      4.0           1115              Hotel   \n",
       "4      Amsterdam  Amsterdam    4.0      4.0           1115              Hotel   \n",
       "\n",
       "   rating  \n",
       "0     4.3  \n",
       "1     4.3  \n",
       "2     4.3  \n",
       "3     4.3  \n",
       "4     4.3  \n",
       "\n",
       "[5 rows x 24 columns]"
      ]
     },
     "execution_count": 12,
     "metadata": {},
     "output_type": "execute_result"
    }
   ],
   "source": [
    "hotels_europe.head()"
   ]
  },
  {
   "cell_type": "code",
   "execution_count": 13,
   "id": "76d21674",
   "metadata": {},
   "outputs": [
    {
     "data": {
      "text/plain": [
       "array([[<AxesSubplot:title={'center':'hotel_id'}>,\n",
       "        <AxesSubplot:title={'center':'price'}>,\n",
       "        <AxesSubplot:title={'center':'scarce_room'}>,\n",
       "        <AxesSubplot:title={'center':'offer'}>],\n",
       "       [<AxesSubplot:title={'center':'year'}>,\n",
       "        <AxesSubplot:title={'center':'month'}>,\n",
       "        <AxesSubplot:title={'center':'weekend'}>,\n",
       "        <AxesSubplot:title={'center':'holiday'}>],\n",
       "       [<AxesSubplot:title={'center':'nnights'}>,\n",
       "        <AxesSubplot:title={'center':'distance'}>,\n",
       "        <AxesSubplot:title={'center':'distance_alter'}>,\n",
       "        <AxesSubplot:title={'center':'stars'}>],\n",
       "       [<AxesSubplot:title={'center':'ratingta'}>,\n",
       "        <AxesSubplot:title={'center':'rating'}>, <AxesSubplot:>,\n",
       "        <AxesSubplot:>]], dtype=object)"
      ]
     },
     "execution_count": 13,
     "metadata": {},
     "output_type": "execute_result"
    },
    {
     "data": {
      "image/png": "[encoded data removed]",
      "text/plain": [
       "<Figure size 1080x1440 with 16 Axes>"
      ]
     },
     "metadata": {
      "needs_background": "light"
     },
     "output_type": "display_data"
    }
   ],
   "source": [
    "import matplotlib.pyplot as plt\n",
    "%matplotlib inline\n",
    "\n",
    "hotels_europe.hist(bins=30,figsize=(15,20))\n",
    "# a lot of the values are skewed in future could take log transformations of some of them but \n",
    "# specifically the price which we are trying to predict"
   ]
  },
  {
   "cell_type": "code",
   "execution_count": 14,
   "id": "beb16d55",
   "metadata": {},
   "outputs": [
    {
     "data": {
      "text/plain": [
       "Italy             26704\n",
       "France            22511\n",
       "United Kingdom    12178\n",
       "Turkey            11945\n",
       "Spain             11235\n",
       "Germany            9087\n",
       "Russia             8995\n",
       "Poland             5759\n",
       "Austria            5333\n",
       "Portugal           4599\n",
       "Czech Republic     3860\n",
       "Greece             3115\n",
       "Netherlands        2806\n",
       "Hungary            2683\n",
       "Belgium            2535\n",
       "Sweden             2076\n",
       "Ireland            1529\n",
       "Croatia            1380\n",
       "Latvia             1144\n",
       "Romania            1118\n",
       "Serbia              972\n",
       "Ukraine             930\n",
       "Denmark             903\n",
       "Slovakia            847\n",
       "Bulgaria            840\n",
       "Finland             813\n",
       "Estonia             746\n",
       "Lithuania           725\n",
       "Belarus             389\n",
       "Malta               253\n",
       "Cameroon             10\n",
       "Egypt                 1\n",
       "Name: country, dtype: int64"
      ]
     },
     "execution_count": 14,
     "metadata": {},
     "output_type": "execute_result"
    }
   ],
   "source": [
    "hotels_europe.country.value_counts()"
   ]
  },
  {
   "cell_type": "code",
   "execution_count": 15,
   "id": "2519937a",
   "metadata": {},
   "outputs": [],
   "source": [
    "#only really want data for a specific country\n",
    "# try dropping values only after having specififed the country\n",
    "hotels_europe_france = hotels_europe.loc[hotels_europe.country=='France',:]"
   ]
  },
  {
   "cell_type": "code",
   "execution_count": 16,
   "id": "da9871f4",
   "metadata": {},
   "outputs": [
    {
     "name": "stdout",
     "output_type": "stream",
     "text": [
      "<class 'pandas.core.frame.DataFrame'>\n",
      "Int64Index: 22511 entries, 61382 to 106306\n",
      "Data columns (total 24 columns):\n",
      " #   Column              Non-Null Count  Dtype  \n",
      "---  ------              --------------  -----  \n",
      " 0   hotel_id            22511 non-null  int64  \n",
      " 1   price               22511 non-null  int64  \n",
      " 2   scarce_room         22511 non-null  int64  \n",
      " 3   offer               22511 non-null  int64  \n",
      " 4   offer_cat           22511 non-null  object \n",
      " 5   year                22511 non-null  int64  \n",
      " 6   month               22511 non-null  int64  \n",
      " 7   weekend             22511 non-null  int64  \n",
      " 8   holiday             22511 non-null  int64  \n",
      " 9   nnights             22511 non-null  float64\n",
      " 10  country             22511 non-null  object \n",
      " 11  city_actual         22511 non-null  object \n",
      " 12  rating_count        22192 non-null  object \n",
      " 13  distance            22511 non-null  float64\n",
      " 14  center1label        22511 non-null  object \n",
      " 15  distance_alter      22511 non-null  float64\n",
      " 16  center2label        22511 non-null  object \n",
      " 17  neighbourhood       22511 non-null  object \n",
      " 18  city                22511 non-null  object \n",
      " 19  stars               18820 non-null  float64\n",
      " 20  ratingta            21937 non-null  float64\n",
      " 21  ratingta_count      21937 non-null  object \n",
      " 22  accommodation_type  22511 non-null  object \n",
      " 23  rating              22192 non-null  float64\n",
      "dtypes: float64(6), int64(8), object(10)\n",
      "memory usage: 4.3+ MB\n"
     ]
    }
   ],
   "source": [
    "hotels_europe_france.info()"
   ]
  },
  {
   "cell_type": "code",
   "execution_count": 17,
   "id": "b7635059",
   "metadata": {},
   "outputs": [
    {
     "data": {
      "text/plain": [
       "0.7    946\n",
       "1.0    893\n",
       "1.6    850\n",
       "1.1    812\n",
       "1.7    811\n",
       "      ... \n",
       "9.5     18\n",
       "8.6     11\n",
       "7.0      8\n",
       "8.8      7\n",
       "9.9      5\n",
       "Name: distance, Length: 111, dtype: int64"
      ]
     },
     "execution_count": 17,
     "metadata": {},
     "output_type": "execute_result"
    }
   ],
   "source": [
    "#going to split data now to prevent risk of data-snooping bias\n",
    "#there are many different values in distance so we'll create bins for it\n",
    "hotels_europe_france.distance.value_counts()"
   ]
  },
  {
   "cell_type": "code",
   "execution_count": 18,
   "id": "6d2813e6",
   "metadata": {},
   "outputs": [
    {
     "data": {
      "text/plain": [
       "0.0      37\n",
       "0.1     184\n",
       "0.2     220\n",
       "0.3     264\n",
       "0.4     300\n",
       "       ... \n",
       "16.0     38\n",
       "17.0     19\n",
       "18.0     58\n",
       "20.0     24\n",
       "22.0     33\n",
       "Name: distance, Length: 111, dtype: int64"
      ]
     },
     "execution_count": 18,
     "metadata": {},
     "output_type": "execute_result"
    }
   ],
   "source": [
    "hotels_europe_france.distance.value_counts().sort_index() "
   ]
  },
  {
   "cell_type": "code",
   "execution_count": 19,
   "id": "e8b96be3",
   "metadata": {},
   "outputs": [
    {
     "data": {
      "text/plain": [
       "(-0.023, 4.4]    18141\n",
       "(4.4, 8.8]        2614\n",
       "(8.8, 13.2]       1313\n",
       "(13.2, 17.6]       328\n",
       "(17.6, 22.0]       115\n",
       "Name: distance, dtype: int64"
      ]
     },
     "execution_count": 19,
     "metadata": {},
     "output_type": "execute_result"
    }
   ],
   "source": [
    "hotels_europe_france.distance.value_counts(bins=5).sort_index()"
   ]
  },
  {
   "cell_type": "code",
   "execution_count": 20,
   "id": "cef13c41",
   "metadata": {
    "scrolled": false
   },
   "outputs": [
    {
     "name": "stderr",
     "output_type": "stream",
     "text": [
      "/mnt/c/Users/Ron/git-repos/ML_repo/my_ml_env/lib/python3.8/site-packages/pandas/core/indexing.py:1667: SettingWithCopyWarning: \n",
      "A value is trying to be set on a copy of a slice from a DataFrame.\n",
      "Try using .loc[row_indexer,col_indexer] = value instead\n",
      "\n",
      "See the caveats in the documentation: https://pandas.pydata.org/pandas-docs/stable/user_guide/indexing.html#returning-a-view-versus-a-copy\n",
      "  self.obj[key] = value\n"
     ]
    },
    {
     "data": {
      "text/plain": [
       "1    17795\n",
       "2     2741\n",
       "3     1532\n",
       "4      328\n",
       "5      115\n",
       "Name: distance_cat, dtype: int64"
      ]
     },
     "execution_count": 20,
     "metadata": {},
     "output_type": "execute_result"
    }
   ],
   "source": [
    "#use this method to categorize the data and split accordingly\n",
    "#must see if it it's better to define the bins or just use defaults\n",
    "hotels_europe_france.loc[:,'distance_cat'] = pd.cut(hotels_europe_france.distance, bins=[-np.inf,4,8,13,17.,np.inf], labels=[1,2,3,4,5]) # np.inf and -np.inf is important here and 0.0\n",
    "hotels_europe_france['distance_cat'].value_counts()"
   ]
  },
  {
   "cell_type": "code",
   "execution_count": 21,
   "id": "52b1fad1",
   "metadata": {},
   "outputs": [
    {
     "data": {
      "text/plain": [
       "1    0.790502\n",
       "2    0.121763\n",
       "3    0.068056\n",
       "4    0.014571\n",
       "5    0.005109\n",
       "Name: distance_cat, dtype: float64"
      ]
     },
     "execution_count": 21,
     "metadata": {},
     "output_type": "execute_result"
    }
   ],
   "source": [
    "hotels_europe_france['distance_cat'].value_counts(dropna=False,normalize=True)"
   ]
  },
  {
   "cell_type": "markdown",
   "id": "9c94acb5",
   "metadata": {},
   "source": [
    "Splitting data"
   ]
  },
  {
   "cell_type": "code",
   "execution_count": 22,
   "id": "b4b69f09",
   "metadata": {},
   "outputs": [
    {
     "data": {
      "text/plain": [
       "(22511, 25)"
      ]
     },
     "execution_count": 22,
     "metadata": {},
     "output_type": "execute_result"
    }
   ],
   "source": [
    "hotels_europe_france.reset_index(drop=True,inplace=True)\n",
    "hotels_europe_france.shape"
   ]
  },
  {
   "cell_type": "code",
   "execution_count": 23,
   "id": "c076f59b",
   "metadata": {},
   "outputs": [],
   "source": [
    "from sklearn.model_selection import StratifiedShuffleSplit\n",
    "split = StratifiedShuffleSplit(n_splits=1,test_size=0.20, train_size=0.80,random_state=42)\n",
    "\n",
    "for train_index, test_index in split.split(hotels_europe_france,hotels_europe_france['distance_cat']):\n",
    "        train_set = hotels_europe_france.loc[train_index,:]\n",
    "        test_set = hotels_europe_france.loc[test_index,:]"
   ]
  },
  {
   "cell_type": "code",
   "execution_count": 24,
   "id": "0713f093",
   "metadata": {},
   "outputs": [
    {
     "data": {
      "text/plain": [
       "(18008, 25)"
      ]
     },
     "execution_count": 24,
     "metadata": {},
     "output_type": "execute_result"
    }
   ],
   "source": [
    "train_set.shape"
   ]
  },
  {
   "cell_type": "code",
   "execution_count": 25,
   "id": "5689a500",
   "metadata": {},
   "outputs": [
    {
     "data": {
      "text/plain": [
       "(4503, 25)"
      ]
     },
     "execution_count": 25,
     "metadata": {},
     "output_type": "execute_result"
    }
   ],
   "source": [
    "test_set.shape"
   ]
  },
  {
   "cell_type": "code",
   "execution_count": 26,
   "id": "90e1b519",
   "metadata": {},
   "outputs": [
    {
     "data": {
      "text/plain": [
       "1    0.790482\n",
       "2    0.121779\n",
       "3    0.068081\n",
       "4    0.014549\n",
       "5    0.005109\n",
       "Name: distance_cat, dtype: float64"
      ]
     },
     "execution_count": 26,
     "metadata": {},
     "output_type": "execute_result"
    }
   ],
   "source": [
    "train_set.distance_cat.value_counts(dropna=False,normalize=True)"
   ]
  },
  {
   "cell_type": "code",
   "execution_count": 27,
   "id": "73537e24",
   "metadata": {},
   "outputs": [
    {
     "data": {
      "text/plain": [
       "1    0.790584\n",
       "2    0.121697\n",
       "3    0.067955\n",
       "4    0.014657\n",
       "5    0.005108\n",
       "Name: distance_cat, dtype: float64"
      ]
     },
     "execution_count": 27,
     "metadata": {},
     "output_type": "execute_result"
    }
   ],
   "source": [
    "test_set.distance_cat.value_counts(dropna=False,normalize=True)"
   ]
  },
  {
   "cell_type": "markdown",
   "id": "2b924cad",
   "metadata": {},
   "source": [
    "can start exploring more now"
   ]
  },
  {
   "cell_type": "code",
   "execution_count": 28,
   "id": "36e172e7",
   "metadata": {
    "scrolled": false
   },
   "outputs": [
    {
     "data": {
      "text/html": [
       "<div>\n",
       "<style scoped>\n",
       "    .dataframe tbody tr th:only-of-type {\n",
       "        vertical-align: middle;\n",
       "    }\n",
       "\n",
       "    .dataframe tbody tr th {\n",
       "        vertical-align: top;\n",
       "    }\n",
       "\n",
       "    .dataframe thead th {\n",
       "        text-align: right;\n",
       "    }\n",
       "</style>\n",
       "<table border=\"1\" class=\"dataframe\">\n",
       "  <thead>\n",
       "    <tr style=\"text-align: right;\">\n",
       "      <th></th>\n",
       "      <th>hotel_id</th>\n",
       "      <th>price</th>\n",
       "      <th>scarce_room</th>\n",
       "      <th>offer</th>\n",
       "      <th>offer_cat</th>\n",
       "      <th>year</th>\n",
       "      <th>month</th>\n",
       "      <th>weekend</th>\n",
       "      <th>holiday</th>\n",
       "      <th>nnights</th>\n",
       "      <th>...</th>\n",
       "      <th>center1label</th>\n",
       "      <th>distance_alter</th>\n",
       "      <th>center2label</th>\n",
       "      <th>neighbourhood</th>\n",
       "      <th>city</th>\n",
       "      <th>stars</th>\n",
       "      <th>ratingta</th>\n",
       "      <th>ratingta_count</th>\n",
       "      <th>accommodation_type</th>\n",
       "      <th>rating</th>\n",
       "    </tr>\n",
       "  </thead>\n",
       "  <tbody>\n",
       "    <tr>\n",
       "      <th>0</th>\n",
       "      <td>12757</td>\n",
       "      <td>105</td>\n",
       "      <td>0</td>\n",
       "      <td>1</td>\n",
       "      <td>15-50% offer</td>\n",
       "      <td>2018</td>\n",
       "      <td>6</td>\n",
       "      <td>1</td>\n",
       "      <td>0</td>\n",
       "      <td>1.0</td>\n",
       "      <td>...</td>\n",
       "      <td>City centre</td>\n",
       "      <td>5.6</td>\n",
       "      <td>Billancourt Station</td>\n",
       "      <td>Clichy</td>\n",
       "      <td>Paris</td>\n",
       "      <td>3.0</td>\n",
       "      <td>4.5</td>\n",
       "      <td>61</td>\n",
       "      <td>Hotel</td>\n",
       "      <td>3.9</td>\n",
       "    </tr>\n",
       "    <tr>\n",
       "      <th>1</th>\n",
       "      <td>12746</td>\n",
       "      <td>68</td>\n",
       "      <td>0</td>\n",
       "      <td>1</td>\n",
       "      <td>15-50% offer</td>\n",
       "      <td>2017</td>\n",
       "      <td>12</td>\n",
       "      <td>0</td>\n",
       "      <td>1</td>\n",
       "      <td>1.0</td>\n",
       "      <td>...</td>\n",
       "      <td>City centre</td>\n",
       "      <td>3.4</td>\n",
       "      <td>Billancourt Station</td>\n",
       "      <td>Clamart</td>\n",
       "      <td>Paris</td>\n",
       "      <td>3.0</td>\n",
       "      <td>3.0</td>\n",
       "      <td>144</td>\n",
       "      <td>Hotel</td>\n",
       "      <td>3.4</td>\n",
       "    </tr>\n",
       "    <tr>\n",
       "      <th>2</th>\n",
       "      <td>12751</td>\n",
       "      <td>114</td>\n",
       "      <td>0</td>\n",
       "      <td>1</td>\n",
       "      <td>15-50% offer</td>\n",
       "      <td>2018</td>\n",
       "      <td>5</td>\n",
       "      <td>1</td>\n",
       "      <td>0</td>\n",
       "      <td>1.0</td>\n",
       "      <td>...</td>\n",
       "      <td>City centre</td>\n",
       "      <td>5.8</td>\n",
       "      <td>Billancourt Station</td>\n",
       "      <td>Clichy</td>\n",
       "      <td>Paris</td>\n",
       "      <td>3.0</td>\n",
       "      <td>4.5</td>\n",
       "      <td>73</td>\n",
       "      <td>Hotel</td>\n",
       "      <td>4.1</td>\n",
       "    </tr>\n",
       "    <tr>\n",
       "      <th>3</th>\n",
       "      <td>12285</td>\n",
       "      <td>161</td>\n",
       "      <td>0</td>\n",
       "      <td>1</td>\n",
       "      <td>15-50% offer</td>\n",
       "      <td>2018</td>\n",
       "      <td>5</td>\n",
       "      <td>1</td>\n",
       "      <td>0</td>\n",
       "      <td>1.0</td>\n",
       "      <td>...</td>\n",
       "      <td>City centre</td>\n",
       "      <td>4.2</td>\n",
       "      <td>Billancourt Station</td>\n",
       "      <td>Arc de Triomphe - Palais des Congres (17 arr.)</td>\n",
       "      <td>Paris</td>\n",
       "      <td>4.0</td>\n",
       "      <td>4.0</td>\n",
       "      <td>305</td>\n",
       "      <td>Hotel</td>\n",
       "      <td>3.7</td>\n",
       "    </tr>\n",
       "    <tr>\n",
       "      <th>4</th>\n",
       "      <td>12715</td>\n",
       "      <td>315</td>\n",
       "      <td>1</td>\n",
       "      <td>1</td>\n",
       "      <td>15-50% offer</td>\n",
       "      <td>2018</td>\n",
       "      <td>1</td>\n",
       "      <td>1</td>\n",
       "      <td>0</td>\n",
       "      <td>1.0</td>\n",
       "      <td>...</td>\n",
       "      <td>City centre</td>\n",
       "      <td>4.0</td>\n",
       "      <td>Billancourt Station</td>\n",
       "      <td>Champs Elysees (8 arr.)</td>\n",
       "      <td>Paris</td>\n",
       "      <td>5.0</td>\n",
       "      <td>4.5</td>\n",
       "      <td>523</td>\n",
       "      <td>Hotel</td>\n",
       "      <td>4.4</td>\n",
       "    </tr>\n",
       "  </tbody>\n",
       "</table>\n",
       "<p>5 rows × 24 columns</p>\n",
       "</div>"
      ],
      "text/plain": [
       "   hotel_id  price  scarce_room  offer     offer_cat  year  month  weekend  \\\n",
       "0     12757    105            0      1  15-50% offer  2018      6        1   \n",
       "1     12746     68            0      1  15-50% offer  2017     12        0   \n",
       "2     12751    114            0      1  15-50% offer  2018      5        1   \n",
       "3     12285    161            0      1  15-50% offer  2018      5        1   \n",
       "4     12715    315            1      1  15-50% offer  2018      1        1   \n",
       "\n",
       "   holiday  nnights  ... center1label distance_alter         center2label  \\\n",
       "0        0      1.0  ...  City centre            5.6  Billancourt Station   \n",
       "1        1      1.0  ...  City centre            3.4  Billancourt Station   \n",
       "2        0      1.0  ...  City centre            5.8  Billancourt Station   \n",
       "3        0      1.0  ...  City centre            4.2  Billancourt Station   \n",
       "4        0      1.0  ...  City centre            4.0  Billancourt Station   \n",
       "\n",
       "                                    neighbourhood   city  stars ratingta  \\\n",
       "0                                          Clichy  Paris    3.0      4.5   \n",
       "1                                         Clamart  Paris    3.0      3.0   \n",
       "2                                          Clichy  Paris    3.0      4.5   \n",
       "3  Arc de Triomphe - Palais des Congres (17 arr.)  Paris    4.0      4.0   \n",
       "4                         Champs Elysees (8 arr.)  Paris    5.0      4.5   \n",
       "\n",
       "  ratingta_count accommodation_type  rating  \n",
       "0             61              Hotel     3.9  \n",
       "1            144              Hotel     3.4  \n",
       "2             73              Hotel     4.1  \n",
       "3            305              Hotel     3.7  \n",
       "4            523              Hotel     4.4  \n",
       "\n",
       "[5 rows x 24 columns]"
      ]
     },
     "execution_count": 28,
     "metadata": {},
     "output_type": "execute_result"
    }
   ],
   "source": [
    "for a in [train_set,test_set]:\n",
    "    a.drop(columns = ['distance_cat'],inplace=True)\n",
    "    a.reset_index(drop=True,inplace=True)\n",
    "\n",
    "train_set.head()"
   ]
  },
  {
   "cell_type": "code",
   "execution_count": 29,
   "id": "b189d5f1",
   "metadata": {
    "scrolled": false
   },
   "outputs": [
    {
     "name": "stdout",
     "output_type": "stream",
     "text": [
      "<class 'pandas.core.frame.DataFrame'>\n",
      "RangeIndex: 18008 entries, 0 to 18007\n",
      "Data columns (total 24 columns):\n",
      " #   Column              Non-Null Count  Dtype  \n",
      "---  ------              --------------  -----  \n",
      " 0   hotel_id            18008 non-null  int64  \n",
      " 1   price               18008 non-null  int64  \n",
      " 2   scarce_room         18008 non-null  int64  \n",
      " 3   offer               18008 non-null  int64  \n",
      " 4   offer_cat           18008 non-null  object \n",
      " 5   year                18008 non-null  int64  \n",
      " 6   month               18008 non-null  int64  \n",
      " 7   weekend             18008 non-null  int64  \n",
      " 8   holiday             18008 non-null  int64  \n",
      " 9   nnights             18008 non-null  float64\n",
      " 10  country             18008 non-null  object \n",
      " 11  city_actual         18008 non-null  object \n",
      " 12  rating_count        17759 non-null  object \n",
      " 13  distance            18008 non-null  float64\n",
      " 14  center1label        18008 non-null  object \n",
      " 15  distance_alter      18008 non-null  float64\n",
      " 16  center2label        18008 non-null  object \n",
      " 17  neighbourhood       18008 non-null  object \n",
      " 18  city                18008 non-null  object \n",
      " 19  stars               15081 non-null  float64\n",
      " 20  ratingta            17551 non-null  float64\n",
      " 21  ratingta_count      17551 non-null  object \n",
      " 22  accommodation_type  18008 non-null  object \n",
      " 23  rating              17759 non-null  float64\n",
      "dtypes: float64(6), int64(8), object(10)\n",
      "memory usage: 3.3+ MB\n"
     ]
    }
   ],
   "source": [
    "train_set.info()"
   ]
  },
  {
   "cell_type": "code",
   "execution_count": 30,
   "id": "2e03d9d9",
   "metadata": {},
   "outputs": [],
   "source": [
    "hotels1 = train_set.copy()"
   ]
  },
  {
   "cell_type": "code",
   "execution_count": 31,
   "id": "256526f9",
   "metadata": {},
   "outputs": [],
   "source": [
    "hotels = hotels1.copy()"
   ]
  },
  {
   "cell_type": "code",
   "execution_count": 32,
   "id": "84068870",
   "metadata": {},
   "outputs": [],
   "source": [
    "for i in ['ratingta_count','rating_count']: #converting to float to be used asa numerical column\n",
    "    hotels.loc[:,i] = hotels.loc[:,i].astype(float)"
   ]
  },
  {
   "cell_type": "code",
   "execution_count": 33,
   "id": "a8606bdf",
   "metadata": {},
   "outputs": [
    {
     "name": "stdout",
     "output_type": "stream",
     "text": [
      "<class 'pandas.core.frame.DataFrame'>\n",
      "RangeIndex: 18008 entries, 0 to 18007\n",
      "Data columns (total 24 columns):\n",
      " #   Column              Non-Null Count  Dtype  \n",
      "---  ------              --------------  -----  \n",
      " 0   hotel_id            18008 non-null  int64  \n",
      " 1   price               18008 non-null  int64  \n",
      " 2   scarce_room         18008 non-null  int64  \n",
      " 3   offer               18008 non-null  int64  \n",
      " 4   offer_cat           18008 non-null  object \n",
      " 5   year                18008 non-null  int64  \n",
      " 6   month               18008 non-null  int64  \n",
      " 7   weekend             18008 non-null  int64  \n",
      " 8   holiday             18008 non-null  int64  \n",
      " 9   nnights             18008 non-null  float64\n",
      " 10  country             18008 non-null  object \n",
      " 11  city_actual         18008 non-null  object \n",
      " 12  rating_count        17759 non-null  float64\n",
      " 13  distance            18008 non-null  float64\n",
      " 14  center1label        18008 non-null  object \n",
      " 15  distance_alter      18008 non-null  float64\n",
      " 16  center2label        18008 non-null  object \n",
      " 17  neighbourhood       18008 non-null  object \n",
      " 18  city                18008 non-null  object \n",
      " 19  stars               15081 non-null  float64\n",
      " 20  ratingta            17551 non-null  float64\n",
      " 21  ratingta_count      17551 non-null  float64\n",
      " 22  accommodation_type  18008 non-null  object \n",
      " 23  rating              17759 non-null  float64\n",
      "dtypes: float64(8), int64(8), object(8)\n",
      "memory usage: 3.3+ MB\n"
     ]
    }
   ],
   "source": [
    "hotels.info() # verifiying"
   ]
  },
  {
   "cell_type": "code",
   "execution_count": 34,
   "id": "0c686be5",
   "metadata": {
    "scrolled": false
   },
   "outputs": [
    {
     "data": {
      "text/plain": [
       "array([[<AxesSubplot:xlabel='price', ylabel='price'>,\n",
       "        <AxesSubplot:xlabel='weekend', ylabel='price'>,\n",
       "        <AxesSubplot:xlabel='holiday', ylabel='price'>,\n",
       "        <AxesSubplot:xlabel='distance', ylabel='price'>,\n",
       "        <AxesSubplot:xlabel='stars', ylabel='price'>,\n",
       "        <AxesSubplot:xlabel='rating', ylabel='price'>],\n",
       "       [<AxesSubplot:xlabel='price', ylabel='weekend'>,\n",
       "        <AxesSubplot:xlabel='weekend', ylabel='weekend'>,\n",
       "        <AxesSubplot:xlabel='holiday', ylabel='weekend'>,\n",
       "        <AxesSubplot:xlabel='distance', ylabel='weekend'>,\n",
       "        <AxesSubplot:xlabel='stars', ylabel='weekend'>,\n",
       "        <AxesSubplot:xlabel='rating', ylabel='weekend'>],\n",
       "       [<AxesSubplot:xlabel='price', ylabel='holiday'>,\n",
       "        <AxesSubplot:xlabel='weekend', ylabel='holiday'>,\n",
       "        <AxesSubplot:xlabel='holiday', ylabel='holiday'>,\n",
       "        <AxesSubplot:xlabel='distance', ylabel='holiday'>,\n",
       "        <AxesSubplot:xlabel='stars', ylabel='holiday'>,\n",
       "        <AxesSubplot:xlabel='rating', ylabel='holiday'>],\n",
       "       [<AxesSubplot:xlabel='price', ylabel='distance'>,\n",
       "        <AxesSubplot:xlabel='weekend', ylabel='distance'>,\n",
       "        <AxesSubplot:xlabel='holiday', ylabel='distance'>,\n",
       "        <AxesSubplot:xlabel='distance', ylabel='distance'>,\n",
       "        <AxesSubplot:xlabel='stars', ylabel='distance'>,\n",
       "        <AxesSubplot:xlabel='rating', ylabel='distance'>],\n",
       "       [<AxesSubplot:xlabel='price', ylabel='stars'>,\n",
       "        <AxesSubplot:xlabel='weekend', ylabel='stars'>,\n",
       "        <AxesSubplot:xlabel='holiday', ylabel='stars'>,\n",
       "        <AxesSubplot:xlabel='distance', ylabel='stars'>,\n",
       "        <AxesSubplot:xlabel='stars', ylabel='stars'>,\n",
       "        <AxesSubplot:xlabel='rating', ylabel='stars'>],\n",
       "       [<AxesSubplot:xlabel='price', ylabel='rating'>,\n",
       "        <AxesSubplot:xlabel='weekend', ylabel='rating'>,\n",
       "        <AxesSubplot:xlabel='holiday', ylabel='rating'>,\n",
       "        <AxesSubplot:xlabel='distance', ylabel='rating'>,\n",
       "        <AxesSubplot:xlabel='stars', ylabel='rating'>,\n",
       "        <AxesSubplot:xlabel='rating', ylabel='rating'>]], dtype=object)"
      ]
     },
     "execution_count": 34,
     "metadata": {},
     "output_type": "execute_result"
    },
    {
     "data": {
      "image/png": "[encoded data removed]",
      "text/plain": [
       "<Figure size 1080x1440 with 36 Axes>"
      ]
     },
     "metadata": {
      "needs_background": "light"
     },
     "output_type": "display_data"
    }
   ],
   "source": [
    "from pandas.plotting import scatter_matrix\n",
    "# here we can see the correlation between different numeric values\n",
    "scatter_matrix(hotels[['price','weekend','holiday','distance','stars','rating']], figsize=(15,20),alpha=.4)"
   ]
  },
  {
   "cell_type": "markdown",
   "id": "c53235b7",
   "metadata": {},
   "source": [
    "* seems better to transform price"
   ]
  },
  {
   "cell_type": "code",
   "execution_count": 35,
   "id": "f16a64e1",
   "metadata": {},
   "outputs": [
    {
     "data": {
      "text/plain": [
       "price             1.000000\n",
       "nnights           0.581081\n",
       "stars             0.365460\n",
       "holiday           0.355609\n",
       "ratingta          0.287347\n",
       "month             0.264590\n",
       "rating            0.246239\n",
       "ratingta_count    0.159301\n",
       "hotel_id          0.126350\n",
       "scarce_room       0.093002\n",
       "rating_count     -0.000180\n",
       "offer            -0.034781\n",
       "distance_alter   -0.110144\n",
       "distance         -0.178361\n",
       "year             -0.244277\n",
       "weekend          -0.300208\n",
       "Name: price, dtype: float64"
      ]
     },
     "execution_count": 35,
     "metadata": {},
     "output_type": "execute_result"
    }
   ],
   "source": [
    "hotels.corr()['price'].sort_values(ascending=False) # seeing which variables affect price in a linear way"
   ]
  },
  {
   "cell_type": "code",
   "execution_count": 36,
   "id": "8eb9d77e",
   "metadata": {},
   "outputs": [
    {
     "data": {
      "text/html": [
       "<div>\n",
       "<style scoped>\n",
       "    .dataframe tbody tr th:only-of-type {\n",
       "        vertical-align: middle;\n",
       "    }\n",
       "\n",
       "    .dataframe tbody tr th {\n",
       "        vertical-align: top;\n",
       "    }\n",
       "\n",
       "    .dataframe thead th {\n",
       "        text-align: right;\n",
       "    }\n",
       "</style>\n",
       "<table border=\"1\" class=\"dataframe\">\n",
       "  <thead>\n",
       "    <tr style=\"text-align: right;\">\n",
       "      <th></th>\n",
       "      <th>nnights</th>\n",
       "      <th>price</th>\n",
       "    </tr>\n",
       "  </thead>\n",
       "  <tbody>\n",
       "    <tr>\n",
       "      <th>7525</th>\n",
       "      <td>1.0</td>\n",
       "      <td>22</td>\n",
       "    </tr>\n",
       "    <tr>\n",
       "      <th>2099</th>\n",
       "      <td>1.0</td>\n",
       "      <td>23</td>\n",
       "    </tr>\n",
       "    <tr>\n",
       "      <th>15515</th>\n",
       "      <td>1.0</td>\n",
       "      <td>28</td>\n",
       "    </tr>\n",
       "    <tr>\n",
       "      <th>6119</th>\n",
       "      <td>1.0</td>\n",
       "      <td>28</td>\n",
       "    </tr>\n",
       "    <tr>\n",
       "      <th>9878</th>\n",
       "      <td>1.0</td>\n",
       "      <td>30</td>\n",
       "    </tr>\n",
       "    <tr>\n",
       "      <th>...</th>\n",
       "      <td>...</td>\n",
       "      <td>...</td>\n",
       "    </tr>\n",
       "    <tr>\n",
       "      <th>7104</th>\n",
       "      <td>4.0</td>\n",
       "      <td>4555</td>\n",
       "    </tr>\n",
       "    <tr>\n",
       "      <th>12300</th>\n",
       "      <td>4.0</td>\n",
       "      <td>4604</td>\n",
       "    </tr>\n",
       "    <tr>\n",
       "      <th>11448</th>\n",
       "      <td>4.0</td>\n",
       "      <td>4638</td>\n",
       "    </tr>\n",
       "    <tr>\n",
       "      <th>9079</th>\n",
       "      <td>4.0</td>\n",
       "      <td>5075</td>\n",
       "    </tr>\n",
       "    <tr>\n",
       "      <th>5814</th>\n",
       "      <td>4.0</td>\n",
       "      <td>5572</td>\n",
       "    </tr>\n",
       "  </tbody>\n",
       "</table>\n",
       "<p>18008 rows × 2 columns</p>\n",
       "</div>"
      ],
      "text/plain": [
       "       nnights  price\n",
       "7525       1.0     22\n",
       "2099       1.0     23\n",
       "15515      1.0     28\n",
       "6119       1.0     28\n",
       "9878       1.0     30\n",
       "...        ...    ...\n",
       "7104       4.0   4555\n",
       "12300      4.0   4604\n",
       "11448      4.0   4638\n",
       "9079       4.0   5075\n",
       "5814       4.0   5572\n",
       "\n",
       "[18008 rows x 2 columns]"
      ]
     },
     "execution_count": 36,
     "metadata": {},
     "output_type": "execute_result"
    }
   ],
   "source": [
    "# exploring the values of nnights and their effect on price\n",
    "hotels[['nnights','price']].sort_values('price') "
   ]
  },
  {
   "cell_type": "code",
   "execution_count": 37,
   "id": "6bb9d7d4",
   "metadata": {
    "scrolled": true
   },
   "outputs": [
    {
     "data": {
      "text/html": [
       "<div>\n",
       "<style scoped>\n",
       "    .dataframe tbody tr th:only-of-type {\n",
       "        vertical-align: middle;\n",
       "    }\n",
       "\n",
       "    .dataframe tbody tr th {\n",
       "        vertical-align: top;\n",
       "    }\n",
       "\n",
       "    .dataframe thead th {\n",
       "        text-align: right;\n",
       "    }\n",
       "</style>\n",
       "<table border=\"1\" class=\"dataframe\">\n",
       "  <thead>\n",
       "    <tr style=\"text-align: right;\">\n",
       "      <th></th>\n",
       "      <th>nnights</th>\n",
       "      <th>price</th>\n",
       "    </tr>\n",
       "  </thead>\n",
       "  <tbody>\n",
       "    <tr>\n",
       "      <th>5814</th>\n",
       "      <td>4.0</td>\n",
       "      <td>5572</td>\n",
       "    </tr>\n",
       "    <tr>\n",
       "      <th>9079</th>\n",
       "      <td>4.0</td>\n",
       "      <td>5075</td>\n",
       "    </tr>\n",
       "    <tr>\n",
       "      <th>11448</th>\n",
       "      <td>4.0</td>\n",
       "      <td>4638</td>\n",
       "    </tr>\n",
       "    <tr>\n",
       "      <th>12300</th>\n",
       "      <td>4.0</td>\n",
       "      <td>4604</td>\n",
       "    </tr>\n",
       "    <tr>\n",
       "      <th>7104</th>\n",
       "      <td>4.0</td>\n",
       "      <td>4555</td>\n",
       "    </tr>\n",
       "    <tr>\n",
       "      <th>...</th>\n",
       "      <td>...</td>\n",
       "      <td>...</td>\n",
       "    </tr>\n",
       "    <tr>\n",
       "      <th>13300</th>\n",
       "      <td>1.0</td>\n",
       "      <td>30</td>\n",
       "    </tr>\n",
       "    <tr>\n",
       "      <th>6119</th>\n",
       "      <td>1.0</td>\n",
       "      <td>28</td>\n",
       "    </tr>\n",
       "    <tr>\n",
       "      <th>15515</th>\n",
       "      <td>1.0</td>\n",
       "      <td>28</td>\n",
       "    </tr>\n",
       "    <tr>\n",
       "      <th>2099</th>\n",
       "      <td>1.0</td>\n",
       "      <td>23</td>\n",
       "    </tr>\n",
       "    <tr>\n",
       "      <th>7525</th>\n",
       "      <td>1.0</td>\n",
       "      <td>22</td>\n",
       "    </tr>\n",
       "  </tbody>\n",
       "</table>\n",
       "<p>18008 rows × 2 columns</p>\n",
       "</div>"
      ],
      "text/plain": [
       "       nnights  price\n",
       "5814       4.0   5572\n",
       "9079       4.0   5075\n",
       "11448      4.0   4638\n",
       "12300      4.0   4604\n",
       "7104       4.0   4555\n",
       "...        ...    ...\n",
       "13300      1.0     30\n",
       "6119       1.0     28\n",
       "15515      1.0     28\n",
       "2099       1.0     23\n",
       "7525       1.0     22\n",
       "\n",
       "[18008 rows x 2 columns]"
      ]
     },
     "execution_count": 37,
     "metadata": {},
     "output_type": "execute_result"
    }
   ],
   "source": [
    "hotels[['nnights','price']].sort_values(['nnights','price'],ascending=False)"
   ]
  },
  {
   "cell_type": "code",
   "execution_count": 38,
   "id": "8c3c73ac",
   "metadata": {},
   "outputs": [
    {
     "data": {
      "text/plain": [
       "(16.448999999999998, 1409.5]    17931\n",
       "(1409.5, 2797.0]                   65\n",
       "(2797.0, 4184.5]                    6\n",
       "(4184.5, 5572.0]                    6\n",
       "Name: price, dtype: int64"
      ]
     },
     "execution_count": 38,
     "metadata": {},
     "output_type": "execute_result"
    }
   ],
   "source": [
    "hotels.price.value_counts(bins=4).sort_index(ascending=True) #the price distribution before accounting for nnights"
   ]
  },
  {
   "cell_type": "code",
   "execution_count": 39,
   "id": "6b1ee369",
   "metadata": {},
   "outputs": [
    {
     "data": {
      "text/plain": [
       "(20.048, 509.75]     17797\n",
       "(509.75, 997.5]        145\n",
       "(997.5, 1485.25]        62\n",
       "(1485.25, 1973.0]        4\n",
       "dtype: int64"
      ]
     },
     "execution_count": 39,
     "metadata": {},
     "output_type": "execute_result"
    }
   ],
   "source": [
    "(hotels.price / hotels.nnights).value_counts(bins=4).sort_index(ascending=True) #the price distribution after accounting for nnights"
   ]
  },
  {
   "cell_type": "code",
   "execution_count": 40,
   "id": "92eabd23",
   "metadata": {
    "scrolled": true
   },
   "outputs": [],
   "source": [
    "hotels.loc[:,'price_one_night'] = hotels.price / hotels.nnights\n"
   ]
  },
  {
   "cell_type": "markdown",
   "id": "b61531c2",
   "metadata": {},
   "source": [
    "* seeing if transforming price by nnight variable makes a difference and it does a lot at least for \\\n",
    "the most important variables"
   ]
  },
  {
   "cell_type": "code",
   "execution_count": 41,
   "id": "67d156a2",
   "metadata": {},
   "outputs": [
    {
     "data": {
      "text/html": [
       "<div>\n",
       "<style scoped>\n",
       "    .dataframe tbody tr th:only-of-type {\n",
       "        vertical-align: middle;\n",
       "    }\n",
       "\n",
       "    .dataframe tbody tr th {\n",
       "        vertical-align: top;\n",
       "    }\n",
       "\n",
       "    .dataframe thead th {\n",
       "        text-align: right;\n",
       "    }\n",
       "</style>\n",
       "<table border=\"1\" class=\"dataframe\">\n",
       "  <thead>\n",
       "    <tr style=\"text-align: right;\">\n",
       "      <th></th>\n",
       "      <th>price_one_night</th>\n",
       "      <th>price</th>\n",
       "    </tr>\n",
       "  </thead>\n",
       "  <tbody>\n",
       "    <tr>\n",
       "      <th>distance</th>\n",
       "      <td>-0.252262</td>\n",
       "      <td>-0.178361</td>\n",
       "    </tr>\n",
       "    <tr>\n",
       "      <th>distance_alter</th>\n",
       "      <td>-0.155488</td>\n",
       "      <td>-0.110144</td>\n",
       "    </tr>\n",
       "    <tr>\n",
       "      <th>offer</th>\n",
       "      <td>-0.090851</td>\n",
       "      <td>-0.034781</td>\n",
       "    </tr>\n",
       "    <tr>\n",
       "      <th>holiday</th>\n",
       "      <td>-0.061676</td>\n",
       "      <td>0.355609</td>\n",
       "    </tr>\n",
       "    <tr>\n",
       "      <th>nnights</th>\n",
       "      <td>-0.020876</td>\n",
       "      <td>0.581081</td>\n",
       "    </tr>\n",
       "    <tr>\n",
       "      <th>month</th>\n",
       "      <td>0.004141</td>\n",
       "      <td>0.264590</td>\n",
       "    </tr>\n",
       "    <tr>\n",
       "      <th>rating_count</th>\n",
       "      <td>0.009229</td>\n",
       "      <td>-0.000180</td>\n",
       "    </tr>\n",
       "    <tr>\n",
       "      <th>weekend</th>\n",
       "      <td>0.011054</td>\n",
       "      <td>-0.300208</td>\n",
       "    </tr>\n",
       "    <tr>\n",
       "      <th>year</th>\n",
       "      <td>0.020662</td>\n",
       "      <td>-0.244277</td>\n",
       "    </tr>\n",
       "    <tr>\n",
       "      <th>scarce_room</th>\n",
       "      <td>0.068559</td>\n",
       "      <td>0.093002</td>\n",
       "    </tr>\n",
       "    <tr>\n",
       "      <th>hotel_id</th>\n",
       "      <td>0.184887</td>\n",
       "      <td>0.126350</td>\n",
       "    </tr>\n",
       "    <tr>\n",
       "      <th>ratingta_count</th>\n",
       "      <td>0.232653</td>\n",
       "      <td>0.159301</td>\n",
       "    </tr>\n",
       "    <tr>\n",
       "      <th>rating</th>\n",
       "      <td>0.371749</td>\n",
       "      <td>0.246239</td>\n",
       "    </tr>\n",
       "    <tr>\n",
       "      <th>ratingta</th>\n",
       "      <td>0.420845</td>\n",
       "      <td>0.287347</td>\n",
       "    </tr>\n",
       "    <tr>\n",
       "      <th>stars</th>\n",
       "      <td>0.529802</td>\n",
       "      <td>0.365460</td>\n",
       "    </tr>\n",
       "    <tr>\n",
       "      <th>price</th>\n",
       "      <td>0.658369</td>\n",
       "      <td>1.000000</td>\n",
       "    </tr>\n",
       "    <tr>\n",
       "      <th>price_one_night</th>\n",
       "      <td>1.000000</td>\n",
       "      <td>0.658369</td>\n",
       "    </tr>\n",
       "  </tbody>\n",
       "</table>\n",
       "</div>"
      ],
      "text/plain": [
       "                 price_one_night     price\n",
       "distance               -0.252262 -0.178361\n",
       "distance_alter         -0.155488 -0.110144\n",
       "offer                  -0.090851 -0.034781\n",
       "holiday                -0.061676  0.355609\n",
       "nnights                -0.020876  0.581081\n",
       "month                   0.004141  0.264590\n",
       "rating_count            0.009229 -0.000180\n",
       "weekend                 0.011054 -0.300208\n",
       "year                    0.020662 -0.244277\n",
       "scarce_room             0.068559  0.093002\n",
       "hotel_id                0.184887  0.126350\n",
       "ratingta_count          0.232653  0.159301\n",
       "rating                  0.371749  0.246239\n",
       "ratingta                0.420845  0.287347\n",
       "stars                   0.529802  0.365460\n",
       "price                   0.658369  1.000000\n",
       "price_one_night         1.000000  0.658369"
      ]
     },
     "execution_count": 41,
     "metadata": {},
     "output_type": "execute_result"
    }
   ],
   "source": [
    "# seeing how the variables change when taking nnights into account as opposed to not taking it into account respectively in the dataframe\n",
    "df1 = pd.DataFrame(hotels.corr()['price_one_night'])\n",
    "df1 = pd.concat([df1,hotels.corr()['price']], axis=1)\n",
    "df1.sort_values('price_one_night') "
   ]
  },
  {
   "cell_type": "code",
   "execution_count": 42,
   "id": "fb69ff87",
   "metadata": {},
   "outputs": [
    {
     "data": {
      "text/plain": [
       "array([[<AxesSubplot:xlabel='price_one_night', ylabel='price_one_night'>,\n",
       "        <AxesSubplot:xlabel='distance', ylabel='price_one_night'>,\n",
       "        <AxesSubplot:xlabel='stars', ylabel='price_one_night'>,\n",
       "        <AxesSubplot:xlabel='ratingta', ylabel='price_one_night'>],\n",
       "       [<AxesSubplot:xlabel='price_one_night', ylabel='distance'>,\n",
       "        <AxesSubplot:xlabel='distance', ylabel='distance'>,\n",
       "        <AxesSubplot:xlabel='stars', ylabel='distance'>,\n",
       "        <AxesSubplot:xlabel='ratingta', ylabel='distance'>],\n",
       "       [<AxesSubplot:xlabel='price_one_night', ylabel='stars'>,\n",
       "        <AxesSubplot:xlabel='distance', ylabel='stars'>,\n",
       "        <AxesSubplot:xlabel='stars', ylabel='stars'>,\n",
       "        <AxesSubplot:xlabel='ratingta', ylabel='stars'>],\n",
       "       [<AxesSubplot:xlabel='price_one_night', ylabel='ratingta'>,\n",
       "        <AxesSubplot:xlabel='distance', ylabel='ratingta'>,\n",
       "        <AxesSubplot:xlabel='stars', ylabel='ratingta'>,\n",
       "        <AxesSubplot:xlabel='ratingta', ylabel='ratingta'>]], dtype=object)"
      ]
     },
     "execution_count": 42,
     "metadata": {},
     "output_type": "execute_result"
    },
    {
     "data": {
      "image/png": "[encoded data removed]",
      "text/plain": [
       "<Figure size 1080x1440 with 16 Axes>"
      ]
     },
     "metadata": {
      "needs_background": "light"
     },
     "output_type": "display_data"
    }
   ],
   "source": [
    "scatter_matrix(hotels[['price_one_night','distance','stars','ratingta']], figsize=(15,20))"
   ]
  },
  {
   "cell_type": "markdown",
   "id": "4240ed19",
   "metadata": {},
   "source": [
    "* checking out some cat. variables \\\n",
    "in the future stars could be considered a categorical variable\n"
   ]
  },
  {
   "cell_type": "code",
   "execution_count": 43,
   "id": "cc5db288",
   "metadata": {},
   "outputs": [
    {
     "data": {
      "text/html": [
       "<div>\n",
       "<style scoped>\n",
       "    .dataframe tbody tr th:only-of-type {\n",
       "        vertical-align: middle;\n",
       "    }\n",
       "\n",
       "    .dataframe tbody tr th {\n",
       "        vertical-align: top;\n",
       "    }\n",
       "\n",
       "    .dataframe thead th {\n",
       "        text-align: right;\n",
       "    }\n",
       "</style>\n",
       "<table border=\"1\" class=\"dataframe\">\n",
       "  <thead>\n",
       "    <tr style=\"text-align: right;\">\n",
       "      <th></th>\n",
       "      <th>offer_cat</th>\n",
       "      <th>country</th>\n",
       "      <th>city_actual</th>\n",
       "      <th>center1label</th>\n",
       "      <th>center2label</th>\n",
       "      <th>neighbourhood</th>\n",
       "      <th>city</th>\n",
       "      <th>accommodation_type</th>\n",
       "    </tr>\n",
       "  </thead>\n",
       "  <tbody>\n",
       "    <tr>\n",
       "      <th>0</th>\n",
       "      <td>15-50% offer</td>\n",
       "      <td>France</td>\n",
       "      <td>Clichy</td>\n",
       "      <td>City centre</td>\n",
       "      <td>Billancourt Station</td>\n",
       "      <td>Clichy</td>\n",
       "      <td>Paris</td>\n",
       "      <td>Hotel</td>\n",
       "    </tr>\n",
       "    <tr>\n",
       "      <th>1</th>\n",
       "      <td>15-50% offer</td>\n",
       "      <td>France</td>\n",
       "      <td>Clamart</td>\n",
       "      <td>City centre</td>\n",
       "      <td>Billancourt Station</td>\n",
       "      <td>Clamart</td>\n",
       "      <td>Paris</td>\n",
       "      <td>Hotel</td>\n",
       "    </tr>\n",
       "    <tr>\n",
       "      <th>2</th>\n",
       "      <td>15-50% offer</td>\n",
       "      <td>France</td>\n",
       "      <td>Clichy</td>\n",
       "      <td>City centre</td>\n",
       "      <td>Billancourt Station</td>\n",
       "      <td>Clichy</td>\n",
       "      <td>Paris</td>\n",
       "      <td>Hotel</td>\n",
       "    </tr>\n",
       "    <tr>\n",
       "      <th>3</th>\n",
       "      <td>15-50% offer</td>\n",
       "      <td>France</td>\n",
       "      <td>Paris</td>\n",
       "      <td>City centre</td>\n",
       "      <td>Billancourt Station</td>\n",
       "      <td>Arc de Triomphe - Palais des Congres (17 arr.)</td>\n",
       "      <td>Paris</td>\n",
       "      <td>Hotel</td>\n",
       "    </tr>\n",
       "    <tr>\n",
       "      <th>4</th>\n",
       "      <td>15-50% offer</td>\n",
       "      <td>France</td>\n",
       "      <td>Paris</td>\n",
       "      <td>City centre</td>\n",
       "      <td>Billancourt Station</td>\n",
       "      <td>Champs Elysees (8 arr.)</td>\n",
       "      <td>Paris</td>\n",
       "      <td>Hotel</td>\n",
       "    </tr>\n",
       "    <tr>\n",
       "      <th>...</th>\n",
       "      <td>...</td>\n",
       "      <td>...</td>\n",
       "      <td>...</td>\n",
       "      <td>...</td>\n",
       "      <td>...</td>\n",
       "      <td>...</td>\n",
       "      <td>...</td>\n",
       "      <td>...</td>\n",
       "    </tr>\n",
       "    <tr>\n",
       "      <th>18003</th>\n",
       "      <td>1-15% offer</td>\n",
       "      <td>France</td>\n",
       "      <td>Paris</td>\n",
       "      <td>City centre</td>\n",
       "      <td>Billancourt Station</td>\n",
       "      <td>Bercy</td>\n",
       "      <td>Paris</td>\n",
       "      <td>Hotel</td>\n",
       "    </tr>\n",
       "    <tr>\n",
       "      <th>18004</th>\n",
       "      <td>0% no offer</td>\n",
       "      <td>France</td>\n",
       "      <td>Paris</td>\n",
       "      <td>City centre</td>\n",
       "      <td>Billancourt Station</td>\n",
       "      <td>Pere Lachaise</td>\n",
       "      <td>Paris</td>\n",
       "      <td>Vacation home Condo</td>\n",
       "    </tr>\n",
       "    <tr>\n",
       "      <th>18005</th>\n",
       "      <td>15-50% offer</td>\n",
       "      <td>France</td>\n",
       "      <td>Paris</td>\n",
       "      <td>City centre</td>\n",
       "      <td>Billancourt Station</td>\n",
       "      <td>Champs Elysees (8 arr.)</td>\n",
       "      <td>Paris</td>\n",
       "      <td>Hotel</td>\n",
       "    </tr>\n",
       "    <tr>\n",
       "      <th>18006</th>\n",
       "      <td>0% no offer</td>\n",
       "      <td>France</td>\n",
       "      <td>Paris</td>\n",
       "      <td>City centre</td>\n",
       "      <td>Billancourt Station</td>\n",
       "      <td>Montmartre - Sacre Coeur (18 arr.)</td>\n",
       "      <td>Paris</td>\n",
       "      <td>Hotel</td>\n",
       "    </tr>\n",
       "    <tr>\n",
       "      <th>18007</th>\n",
       "      <td>15-50% offer</td>\n",
       "      <td>France</td>\n",
       "      <td>Paris</td>\n",
       "      <td>City centre</td>\n",
       "      <td>Billancourt Station</td>\n",
       "      <td>Paris</td>\n",
       "      <td>Paris</td>\n",
       "      <td>Hotel</td>\n",
       "    </tr>\n",
       "  </tbody>\n",
       "</table>\n",
       "<p>18008 rows × 8 columns</p>\n",
       "</div>"
      ],
      "text/plain": [
       "          offer_cat country city_actual center1label         center2label  \\\n",
       "0      15-50% offer  France      Clichy  City centre  Billancourt Station   \n",
       "1      15-50% offer  France     Clamart  City centre  Billancourt Station   \n",
       "2      15-50% offer  France      Clichy  City centre  Billancourt Station   \n",
       "3      15-50% offer  France       Paris  City centre  Billancourt Station   \n",
       "4      15-50% offer  France       Paris  City centre  Billancourt Station   \n",
       "...             ...     ...         ...          ...                  ...   \n",
       "18003   1-15% offer  France       Paris  City centre  Billancourt Station   \n",
       "18004   0% no offer  France       Paris  City centre  Billancourt Station   \n",
       "18005  15-50% offer  France       Paris  City centre  Billancourt Station   \n",
       "18006   0% no offer  France       Paris  City centre  Billancourt Station   \n",
       "18007  15-50% offer  France       Paris  City centre  Billancourt Station   \n",
       "\n",
       "                                        neighbourhood   city  \\\n",
       "0                                              Clichy  Paris   \n",
       "1                                             Clamart  Paris   \n",
       "2                                              Clichy  Paris   \n",
       "3      Arc de Triomphe - Palais des Congres (17 arr.)  Paris   \n",
       "4                             Champs Elysees (8 arr.)  Paris   \n",
       "...                                               ...    ...   \n",
       "18003                                           Bercy  Paris   \n",
       "18004                                   Pere Lachaise  Paris   \n",
       "18005                         Champs Elysees (8 arr.)  Paris   \n",
       "18006              Montmartre - Sacre Coeur (18 arr.)  Paris   \n",
       "18007                                           Paris  Paris   \n",
       "\n",
       "        accommodation_type  \n",
       "0                    Hotel  \n",
       "1                    Hotel  \n",
       "2                    Hotel  \n",
       "3                    Hotel  \n",
       "4                    Hotel  \n",
       "...                    ...  \n",
       "18003                Hotel  \n",
       "18004  Vacation home Condo  \n",
       "18005                Hotel  \n",
       "18006                Hotel  \n",
       "18007                Hotel  \n",
       "\n",
       "[18008 rows x 8 columns]"
      ]
     },
     "execution_count": 43,
     "metadata": {},
     "output_type": "execute_result"
    }
   ],
   "source": [
    "hotels.select_dtypes(include='object')\n"
   ]
  },
  {
   "cell_type": "code",
   "execution_count": 44,
   "id": "28e63e99",
   "metadata": {},
   "outputs": [
    {
     "data": {
      "text/plain": [
       "Hotel                  15843\n",
       "Vacation home Condo      887\n",
       "Apartment                571\n",
       "Apart-hotel              349\n",
       "Hostel                   139\n",
       "Guest House               73\n",
       "Bed and breakfast         64\n",
       "Palace                    54\n",
       "Caravan Park              18\n",
       "Cabin / Lodge              8\n",
       "House boat                 2\n",
       "Name: accommodation_type, dtype: int64"
      ]
     },
     "execution_count": 44,
     "metadata": {},
     "output_type": "execute_result"
    }
   ],
   "source": [
    "hotels.accommodation_type.value_counts()"
   ]
  },
  {
   "cell_type": "code",
   "execution_count": 45,
   "id": "18b78b67",
   "metadata": {},
   "outputs": [
    {
     "data": {
      "text/plain": [
       "15-50% offer     6909\n",
       "0% no offer      5916\n",
       "1-15% offer      3632\n",
       "50%-75% offer    1441\n",
       "75%+ offer        110\n",
       "Name: offer_cat, dtype: int64"
      ]
     },
     "execution_count": 45,
     "metadata": {},
     "output_type": "execute_result"
    }
   ],
   "source": [
    "hotels.offer_cat.value_counts()"
   ]
  },
  {
   "cell_type": "code",
   "execution_count": 46,
   "id": "7110120c",
   "metadata": {},
   "outputs": [],
   "source": [
    "from sklearn.preprocessing import OneHotEncoder\n",
    "cat_encoder = OneHotEncoder()\n",
    "acc_cat = cat_encoder.fit_transform(hotels[['accommodation_type','offer_cat']])"
   ]
  },
  {
   "cell_type": "code",
   "execution_count": 47,
   "id": "adde93f2",
   "metadata": {
    "scrolled": false
   },
   "outputs": [
    {
     "name": "stdout",
     "output_type": "stream",
     "text": [
      "[[0. 0. 0. ... 1. 0. 0.]\n",
      " [0. 0. 0. ... 1. 0. 0.]\n",
      " [0. 0. 0. ... 1. 0. 0.]\n",
      " ...\n",
      " [0. 0. 0. ... 1. 0. 0.]\n",
      " [0. 0. 0. ... 0. 0. 0.]\n",
      " [0. 0. 0. ... 1. 0. 0.]]\n",
      "(18008, 16)\n"
     ]
    }
   ],
   "source": [
    "print(acc_cat.toarray())\n",
    "print(acc_cat.toarray().shape)"
   ]
  },
  {
   "cell_type": "code",
   "execution_count": 48,
   "id": "ff12cdbe",
   "metadata": {},
   "outputs": [
    {
     "data": {
      "text/plain": [
       "[array(['Apart-hotel', 'Apartment', 'Bed and breakfast', 'Cabin / Lodge',\n",
       "        'Caravan Park', 'Guest House', 'Hostel', 'Hotel', 'House boat',\n",
       "        'Palace', 'Vacation home Condo'], dtype=object),\n",
       " array(['0% no offer', '1-15% offer', '15-50% offer', '50%-75% offer',\n",
       "        '75%+ offer'], dtype=object)]"
      ]
     },
     "execution_count": 48,
     "metadata": {},
     "output_type": "execute_result"
    }
   ],
   "source": [
    "cat_encoder.categories_"
   ]
  },
  {
   "cell_type": "code",
   "execution_count": null,
   "id": "c5bbac22",
   "metadata": {},
   "outputs": [],
   "source": []
  },
  {
   "cell_type": "code",
   "execution_count": 49,
   "id": "6583fc3e",
   "metadata": {},
   "outputs": [
    {
     "data": {
      "text/plain": [
       "distance          -0.204826\n",
       "distance_alter    -0.187498\n",
       "holiday           -0.013970\n",
       "nnights           -0.007629\n",
       "year              -0.006278\n",
       "month              0.004376\n",
       "weekend            0.011416\n",
       "scarce_room        0.038094\n",
       "offer              0.059290\n",
       "hotel_id           0.066969\n",
       "rating_count       0.093760\n",
       "ratingta_count     0.282428\n",
       "price              0.287347\n",
       "price_one_night    0.420845\n",
       "stars              0.527386\n",
       "rating             0.845261\n",
       "ratingta           1.000000\n",
       "Name: ratingta, dtype: float64"
      ]
     },
     "execution_count": 49,
     "metadata": {},
     "output_type": "execute_result"
    }
   ],
   "source": [
    "hotels.corr()['ratingta'].sort_values()"
   ]
  },
  {
   "cell_type": "code",
   "execution_count": 50,
   "id": "570ce622",
   "metadata": {},
   "outputs": [
    {
     "data": {
      "text/plain": [
       "distance          -0.147646\n",
       "distance_alter    -0.139701\n",
       "scarce_room       -0.132384\n",
       "offer             -0.026709\n",
       "holiday           -0.011757\n",
       "year              -0.005146\n",
       "nnights           -0.004647\n",
       "weekend            0.003565\n",
       "month              0.005087\n",
       "hotel_id           0.076233\n",
       "rating_count       0.135021\n",
       "ratingta_count     0.319354\n",
       "price              0.365460\n",
       "ratingta           0.527386\n",
       "price_one_night    0.529802\n",
       "rating             0.591449\n",
       "stars              1.000000\n",
       "Name: stars, dtype: float64"
      ]
     },
     "execution_count": 50,
     "metadata": {},
     "output_type": "execute_result"
    }
   ],
   "source": [
    "hotels.corr()['stars'].sort_values()"
   ]
  },
  {
   "cell_type": "code",
   "execution_count": 51,
   "id": "cf529cca",
   "metadata": {},
   "outputs": [
    {
     "data": {
      "text/html": [
       "<div>\n",
       "<style scoped>\n",
       "    .dataframe tbody tr th:only-of-type {\n",
       "        vertical-align: middle;\n",
       "    }\n",
       "\n",
       "    .dataframe tbody tr th {\n",
       "        vertical-align: top;\n",
       "    }\n",
       "\n",
       "    .dataframe thead th {\n",
       "        text-align: right;\n",
       "    }\n",
       "</style>\n",
       "<table border=\"1\" class=\"dataframe\">\n",
       "  <thead>\n",
       "    <tr style=\"text-align: right;\">\n",
       "      <th></th>\n",
       "      <th>stars</th>\n",
       "      <th>ratingta</th>\n",
       "      <th>rating</th>\n",
       "      <th>price_one_night</th>\n",
       "    </tr>\n",
       "  </thead>\n",
       "  <tbody>\n",
       "    <tr>\n",
       "      <th>22</th>\n",
       "      <td>NaN</td>\n",
       "      <td>NaN</td>\n",
       "      <td>NaN</td>\n",
       "      <td>226.0</td>\n",
       "    </tr>\n",
       "    <tr>\n",
       "      <th>50</th>\n",
       "      <td>NaN</td>\n",
       "      <td>NaN</td>\n",
       "      <td>NaN</td>\n",
       "      <td>116.0</td>\n",
       "    </tr>\n",
       "    <tr>\n",
       "      <th>67</th>\n",
       "      <td>NaN</td>\n",
       "      <td>NaN</td>\n",
       "      <td>3.2</td>\n",
       "      <td>720.0</td>\n",
       "    </tr>\n",
       "    <tr>\n",
       "      <th>160</th>\n",
       "      <td>NaN</td>\n",
       "      <td>NaN</td>\n",
       "      <td>NaN</td>\n",
       "      <td>405.0</td>\n",
       "    </tr>\n",
       "    <tr>\n",
       "      <th>207</th>\n",
       "      <td>NaN</td>\n",
       "      <td>NaN</td>\n",
       "      <td>NaN</td>\n",
       "      <td>168.0</td>\n",
       "    </tr>\n",
       "    <tr>\n",
       "      <th>240</th>\n",
       "      <td>NaN</td>\n",
       "      <td>NaN</td>\n",
       "      <td>5.0</td>\n",
       "      <td>253.0</td>\n",
       "    </tr>\n",
       "    <tr>\n",
       "      <th>246</th>\n",
       "      <td>NaN</td>\n",
       "      <td>NaN</td>\n",
       "      <td>3.0</td>\n",
       "      <td>105.0</td>\n",
       "    </tr>\n",
       "    <tr>\n",
       "      <th>266</th>\n",
       "      <td>NaN</td>\n",
       "      <td>NaN</td>\n",
       "      <td>5.0</td>\n",
       "      <td>127.0</td>\n",
       "    </tr>\n",
       "    <tr>\n",
       "      <th>269</th>\n",
       "      <td>NaN</td>\n",
       "      <td>NaN</td>\n",
       "      <td>NaN</td>\n",
       "      <td>220.0</td>\n",
       "    </tr>\n",
       "    <tr>\n",
       "      <th>271</th>\n",
       "      <td>NaN</td>\n",
       "      <td>NaN</td>\n",
       "      <td>2.0</td>\n",
       "      <td>78.0</td>\n",
       "    </tr>\n",
       "  </tbody>\n",
       "</table>\n",
       "</div>"
      ],
      "text/plain": [
       "     stars  ratingta  rating  price_one_night\n",
       "22     NaN       NaN     NaN            226.0\n",
       "50     NaN       NaN     NaN            116.0\n",
       "67     NaN       NaN     3.2            720.0\n",
       "160    NaN       NaN     NaN            405.0\n",
       "207    NaN       NaN     NaN            168.0\n",
       "240    NaN       NaN     5.0            253.0\n",
       "246    NaN       NaN     3.0            105.0\n",
       "266    NaN       NaN     5.0            127.0\n",
       "269    NaN       NaN     NaN            220.0\n",
       "271    NaN       NaN     2.0             78.0"
      ]
     },
     "execution_count": 51,
     "metadata": {},
     "output_type": "execute_result"
    }
   ],
   "source": [
    "impute_col = ['stars','ratingta','rating','price_one_night']\n",
    "index_sample = hotels.loc[(hotels['ratingta'].isna()) & (hotels['stars'].isna()), impute_col].head(10).index\n",
    "hotels.loc[(hotels['ratingta'].isna()) & (hotels['stars'].isna()), impute_col].head(10) \n",
    "#some sample values for reference before doing the transformation"
   ]
  },
  {
   "cell_type": "code",
   "execution_count": 52,
   "id": "4e55948f",
   "metadata": {},
   "outputs": [
    {
     "data": {
      "text/html": [
       "<div>\n",
       "<style scoped>\n",
       "    .dataframe tbody tr th:only-of-type {\n",
       "        vertical-align: middle;\n",
       "    }\n",
       "\n",
       "    .dataframe tbody tr th {\n",
       "        vertical-align: top;\n",
       "    }\n",
       "\n",
       "    .dataframe thead th {\n",
       "        text-align: right;\n",
       "    }\n",
       "</style>\n",
       "<table border=\"1\" class=\"dataframe\">\n",
       "  <thead>\n",
       "    <tr style=\"text-align: right;\">\n",
       "      <th></th>\n",
       "      <th>stars</th>\n",
       "      <th>ratingta</th>\n",
       "      <th>rating</th>\n",
       "      <th>price_one_night</th>\n",
       "    </tr>\n",
       "  </thead>\n",
       "  <tbody>\n",
       "    <tr>\n",
       "      <th>mean</th>\n",
       "      <td>3.172336</td>\n",
       "      <td>3.762663</td>\n",
       "      <td>3.814871</td>\n",
       "      <td>149.38097</td>\n",
       "    </tr>\n",
       "    <tr>\n",
       "      <th>median</th>\n",
       "      <td>3.000000</td>\n",
       "      <td>4.000000</td>\n",
       "      <td>3.900000</td>\n",
       "      <td>123.00000</td>\n",
       "    </tr>\n",
       "  </tbody>\n",
       "</table>\n",
       "</div>"
      ],
      "text/plain": [
       "           stars  ratingta    rating  price_one_night\n",
       "mean    3.172336  3.762663  3.814871        149.38097\n",
       "median  3.000000  4.000000  3.900000        123.00000"
      ]
     },
     "execution_count": 52,
     "metadata": {},
     "output_type": "execute_result"
    }
   ],
   "source": [
    "hotels.loc[:,impute_col].agg(['mean','median'])\n",
    "#some aggregations for reference before doing the transformation"
   ]
  },
  {
   "cell_type": "code",
   "execution_count": 53,
   "id": "7bc3ff28",
   "metadata": {},
   "outputs": [],
   "source": [
    "hotels_to_impute = hotels.loc[:,impute_col].copy() #separating the data that I want to use to impute the values\n",
    "from sklearn.impute import KNNImputer\n",
    "imputer = KNNImputer(n_neighbors=7) #using the KNN imputer with seven neighbors"
   ]
  },
  {
   "cell_type": "code",
   "execution_count": 54,
   "id": "d7741a44",
   "metadata": {},
   "outputs": [],
   "source": [
    "hotels_to_impute_new_values = imputer.fit_transform(hotels_to_impute)"
   ]
  },
  {
   "cell_type": "code",
   "execution_count": 55,
   "id": "b5f2d7ef",
   "metadata": {
    "scrolled": true
   },
   "outputs": [
    {
     "data": {
      "text/html": [
       "<div>\n",
       "<style scoped>\n",
       "    .dataframe tbody tr th:only-of-type {\n",
       "        vertical-align: middle;\n",
       "    }\n",
       "\n",
       "    .dataframe tbody tr th {\n",
       "        vertical-align: top;\n",
       "    }\n",
       "\n",
       "    .dataframe thead th {\n",
       "        text-align: right;\n",
       "    }\n",
       "</style>\n",
       "<table border=\"1\" class=\"dataframe\">\n",
       "  <thead>\n",
       "    <tr style=\"text-align: right;\">\n",
       "      <th></th>\n",
       "      <th>stars</th>\n",
       "      <th>ratingta</th>\n",
       "      <th>rating</th>\n",
       "      <th>price_one_night</th>\n",
       "    </tr>\n",
       "  </thead>\n",
       "  <tbody>\n",
       "    <tr>\n",
       "      <th>22</th>\n",
       "      <td>3.428571</td>\n",
       "      <td>4.285714</td>\n",
       "      <td>4.171429</td>\n",
       "      <td>226.0</td>\n",
       "    </tr>\n",
       "    <tr>\n",
       "      <th>50</th>\n",
       "      <td>2.714286</td>\n",
       "      <td>3.642857</td>\n",
       "      <td>3.871429</td>\n",
       "      <td>116.0</td>\n",
       "    </tr>\n",
       "    <tr>\n",
       "      <th>67</th>\n",
       "      <td>3.857143</td>\n",
       "      <td>4.214286</td>\n",
       "      <td>3.200000</td>\n",
       "      <td>720.0</td>\n",
       "    </tr>\n",
       "    <tr>\n",
       "      <th>160</th>\n",
       "      <td>4.714286</td>\n",
       "      <td>4.214286</td>\n",
       "      <td>4.171429</td>\n",
       "      <td>405.0</td>\n",
       "    </tr>\n",
       "    <tr>\n",
       "      <th>207</th>\n",
       "      <td>3.000000</td>\n",
       "      <td>4.142857</td>\n",
       "      <td>3.985714</td>\n",
       "      <td>168.0</td>\n",
       "    </tr>\n",
       "    <tr>\n",
       "      <th>240</th>\n",
       "      <td>4.285714</td>\n",
       "      <td>4.428571</td>\n",
       "      <td>5.000000</td>\n",
       "      <td>253.0</td>\n",
       "    </tr>\n",
       "    <tr>\n",
       "      <th>246</th>\n",
       "      <td>2.857143</td>\n",
       "      <td>2.714286</td>\n",
       "      <td>3.000000</td>\n",
       "      <td>105.0</td>\n",
       "    </tr>\n",
       "    <tr>\n",
       "      <th>266</th>\n",
       "      <td>3.714286</td>\n",
       "      <td>4.428571</td>\n",
       "      <td>5.000000</td>\n",
       "      <td>127.0</td>\n",
       "    </tr>\n",
       "    <tr>\n",
       "      <th>269</th>\n",
       "      <td>3.428571</td>\n",
       "      <td>4.285714</td>\n",
       "      <td>4.171429</td>\n",
       "      <td>220.0</td>\n",
       "    </tr>\n",
       "    <tr>\n",
       "      <th>271</th>\n",
       "      <td>2.428571</td>\n",
       "      <td>2.285714</td>\n",
       "      <td>2.000000</td>\n",
       "      <td>78.0</td>\n",
       "    </tr>\n",
       "  </tbody>\n",
       "</table>\n",
       "</div>"
      ],
      "text/plain": [
       "        stars  ratingta    rating  price_one_night\n",
       "22   3.428571  4.285714  4.171429            226.0\n",
       "50   2.714286  3.642857  3.871429            116.0\n",
       "67   3.857143  4.214286  3.200000            720.0\n",
       "160  4.714286  4.214286  4.171429            405.0\n",
       "207  3.000000  4.142857  3.985714            168.0\n",
       "240  4.285714  4.428571  5.000000            253.0\n",
       "246  2.857143  2.714286  3.000000            105.0\n",
       "266  3.714286  4.428571  5.000000            127.0\n",
       "269  3.428571  4.285714  4.171429            220.0\n",
       "271  2.428571  2.285714  2.000000             78.0"
      ]
     },
     "execution_count": 55,
     "metadata": {},
     "output_type": "execute_result"
    }
   ],
   "source": [
    "hotels_tr = pd.DataFrame(hotels_to_impute_new_values, columns = hotels_to_impute.columns, index=hotels_to_impute.index)\n",
    "hotels_tr.iloc[index_sample,:] #reference after the transformation to see how the values changed"
   ]
  },
  {
   "cell_type": "code",
   "execution_count": 56,
   "id": "48dba66e",
   "metadata": {
    "scrolled": true
   },
   "outputs": [
    {
     "data": {
      "text/html": [
       "<div>\n",
       "<style scoped>\n",
       "    .dataframe tbody tr th:only-of-type {\n",
       "        vertical-align: middle;\n",
       "    }\n",
       "\n",
       "    .dataframe tbody tr th {\n",
       "        vertical-align: top;\n",
       "    }\n",
       "\n",
       "    .dataframe thead th {\n",
       "        text-align: right;\n",
       "    }\n",
       "</style>\n",
       "<table border=\"1\" class=\"dataframe\">\n",
       "  <thead>\n",
       "    <tr style=\"text-align: right;\">\n",
       "      <th></th>\n",
       "      <th>stars</th>\n",
       "      <th>ratingta</th>\n",
       "      <th>rating</th>\n",
       "      <th>price_one_night</th>\n",
       "    </tr>\n",
       "  </thead>\n",
       "  <tbody>\n",
       "    <tr>\n",
       "      <th>mean</th>\n",
       "      <td>3.129903</td>\n",
       "      <td>3.763399</td>\n",
       "      <td>3.815847</td>\n",
       "      <td>149.38097</td>\n",
       "    </tr>\n",
       "    <tr>\n",
       "      <th>median</th>\n",
       "      <td>3.000000</td>\n",
       "      <td>4.000000</td>\n",
       "      <td>3.900000</td>\n",
       "      <td>123.00000</td>\n",
       "    </tr>\n",
       "  </tbody>\n",
       "</table>\n",
       "</div>"
      ],
      "text/plain": [
       "           stars  ratingta    rating  price_one_night\n",
       "mean    3.129903  3.763399  3.815847        149.38097\n",
       "median  3.000000  4.000000  3.900000        123.00000"
      ]
     },
     "execution_count": 56,
     "metadata": {},
     "output_type": "execute_result"
    }
   ],
   "source": [
    "hotels_tr.loc[:,impute_col].agg(['mean','median']) #reference after the transformation to see how the values changed"
   ]
  },
  {
   "cell_type": "markdown",
   "id": "8705ecb4",
   "metadata": {},
   "source": [
    "transformer time"
   ]
  },
  {
   "cell_type": "code",
   "execution_count": 57,
   "id": "b21dffef",
   "metadata": {},
   "outputs": [],
   "source": [
    "from sklearn.base import BaseEstimator,TransformerMixin\n",
    "\n"
   ]
  },
  {
   "cell_type": "code",
   "execution_count": 58,
   "id": "6e2a9497",
   "metadata": {},
   "outputs": [],
   "source": [
    "num_col = ['ratingta_count','rating_count','nnights','price']\n",
    "\n",
    "ratingta_count_ix, rating_count_ix, nnights_ix, price_ix = [hotels.columns.get_loc(x) for x in num_col]\n"
   ]
  },
  {
   "cell_type": "code",
   "execution_count": 59,
   "id": "0acd6e6e",
   "metadata": {},
   "outputs": [
    {
     "name": "stdout",
     "output_type": "stream",
     "text": [
      "3495590\n",
      "2690052.5\n"
     ]
    }
   ],
   "source": [
    "print(hotels.values[:,price_ix].sum()) # reference to make sure values are changed\n",
    "print((hotels.values[:,price_ix] / hotels.values[:,nnights_ix]).sum())"
   ]
  },
  {
   "cell_type": "code",
   "execution_count": 60,
   "id": "11416d31",
   "metadata": {},
   "outputs": [],
   "source": [
    "class hotels_attribute_adder(BaseEstimator,TransformerMixin):\n",
    "\n",
    "    def __init__(self,change_rating_count_float=False):\n",
    "        self.change_rating_count_float = change_rating_count_float\n",
    "\n",
    "    def fit(self,X,y=None):\n",
    "        return self #nothing to fit since we are just creating new and editing new columns\n",
    "    def transform(self,X):\n",
    "\n",
    "        ratingta_count_float = X[:, ratingta_count_ix].astype(float)\n",
    "        rating_count_float = X[:, rating_count_ix].astype(float)\n",
    "        price_one_night = X[:,price_ix] / X[:,nnights_ix]\n",
    "\n",
    "        if self.change_rating_count_float :\n",
    "                array = np.c_[rating_count_float, ratingta_count_float, price_one_night, X  ]\n",
    "                \n",
    "                return array\n",
    "        else:\n",
    "                return np.c_[X, price_one_night]"
   ]
  },
  {
   "cell_type": "code",
   "execution_count": 61,
   "id": "be75c387",
   "metadata": {},
   "outputs": [
    {
     "data": {
      "text/plain": [
       "hotels_attribute_adder(change_rating_count_float=True)"
      ]
     },
     "execution_count": 61,
     "metadata": {},
     "output_type": "execute_result"
    }
   ],
   "source": [
    "attr_adder = hotels_attribute_adder(change_rating_count_float=True)\n",
    "attr_adder"
   ]
  },
  {
   "cell_type": "code",
   "execution_count": 62,
   "id": "60725357",
   "metadata": {},
   "outputs": [],
   "source": [
    "\n",
    "hotels_test = attr_adder.transform(hotels1.values)\n"
   ]
  },
  {
   "cell_type": "code",
   "execution_count": 63,
   "id": "5e46834b",
   "metadata": {},
   "outputs": [
    {
     "data": {
      "text/plain": [
       "(18008, 27)"
      ]
     },
     "execution_count": 63,
     "metadata": {},
     "output_type": "execute_result"
    }
   ],
   "source": [
    "hotels_test.shape"
   ]
  },
  {
   "cell_type": "code",
   "execution_count": 64,
   "id": "1516b64c",
   "metadata": {
    "scrolled": true
   },
   "outputs": [
    {
     "data": {
      "text/html": [
       "<div>\n",
       "<style scoped>\n",
       "    .dataframe tbody tr th:only-of-type {\n",
       "        vertical-align: middle;\n",
       "    }\n",
       "\n",
       "    .dataframe tbody tr th {\n",
       "        vertical-align: top;\n",
       "    }\n",
       "\n",
       "    .dataframe thead th {\n",
       "        text-align: right;\n",
       "    }\n",
       "</style>\n",
       "<table border=\"1\" class=\"dataframe\">\n",
       "  <thead>\n",
       "    <tr style=\"text-align: right;\">\n",
       "      <th></th>\n",
       "      <th>rating_count_float</th>\n",
       "      <th>ratingta_count_float</th>\n",
       "      <th>price_one_night</th>\n",
       "      <th>hotel_id</th>\n",
       "      <th>price</th>\n",
       "      <th>scarce_room</th>\n",
       "      <th>offer</th>\n",
       "      <th>offer_cat</th>\n",
       "      <th>year</th>\n",
       "      <th>month</th>\n",
       "      <th>...</th>\n",
       "      <th>center1label</th>\n",
       "      <th>distance_alter</th>\n",
       "      <th>center2label</th>\n",
       "      <th>neighbourhood</th>\n",
       "      <th>city</th>\n",
       "      <th>stars</th>\n",
       "      <th>ratingta</th>\n",
       "      <th>ratingta_count</th>\n",
       "      <th>accommodation_type</th>\n",
       "      <th>rating</th>\n",
       "    </tr>\n",
       "  </thead>\n",
       "  <tbody>\n",
       "    <tr>\n",
       "      <th>0</th>\n",
       "      <td>32.0</td>\n",
       "      <td>61.0</td>\n",
       "      <td>105.0</td>\n",
       "      <td>12757</td>\n",
       "      <td>105</td>\n",
       "      <td>0</td>\n",
       "      <td>1</td>\n",
       "      <td>15-50% offer</td>\n",
       "      <td>2018</td>\n",
       "      <td>6</td>\n",
       "      <td>...</td>\n",
       "      <td>City centre</td>\n",
       "      <td>5.6</td>\n",
       "      <td>Billancourt Station</td>\n",
       "      <td>Clichy</td>\n",
       "      <td>Paris</td>\n",
       "      <td>3.0</td>\n",
       "      <td>4.5</td>\n",
       "      <td>61</td>\n",
       "      <td>Hotel</td>\n",
       "      <td>3.9</td>\n",
       "    </tr>\n",
       "    <tr>\n",
       "      <th>1</th>\n",
       "      <td>56.0</td>\n",
       "      <td>144.0</td>\n",
       "      <td>68.0</td>\n",
       "      <td>12746</td>\n",
       "      <td>68</td>\n",
       "      <td>0</td>\n",
       "      <td>1</td>\n",
       "      <td>15-50% offer</td>\n",
       "      <td>2017</td>\n",
       "      <td>12</td>\n",
       "      <td>...</td>\n",
       "      <td>City centre</td>\n",
       "      <td>3.4</td>\n",
       "      <td>Billancourt Station</td>\n",
       "      <td>Clamart</td>\n",
       "      <td>Paris</td>\n",
       "      <td>3.0</td>\n",
       "      <td>3.0</td>\n",
       "      <td>144</td>\n",
       "      <td>Hotel</td>\n",
       "      <td>3.4</td>\n",
       "    </tr>\n",
       "    <tr>\n",
       "      <th>2</th>\n",
       "      <td>92.0</td>\n",
       "      <td>73.0</td>\n",
       "      <td>114.0</td>\n",
       "      <td>12751</td>\n",
       "      <td>114</td>\n",
       "      <td>0</td>\n",
       "      <td>1</td>\n",
       "      <td>15-50% offer</td>\n",
       "      <td>2018</td>\n",
       "      <td>5</td>\n",
       "      <td>...</td>\n",
       "      <td>City centre</td>\n",
       "      <td>5.8</td>\n",
       "      <td>Billancourt Station</td>\n",
       "      <td>Clichy</td>\n",
       "      <td>Paris</td>\n",
       "      <td>3.0</td>\n",
       "      <td>4.5</td>\n",
       "      <td>73</td>\n",
       "      <td>Hotel</td>\n",
       "      <td>4.1</td>\n",
       "    </tr>\n",
       "    <tr>\n",
       "      <th>3</th>\n",
       "      <td>79.0</td>\n",
       "      <td>305.0</td>\n",
       "      <td>161.0</td>\n",
       "      <td>12285</td>\n",
       "      <td>161</td>\n",
       "      <td>0</td>\n",
       "      <td>1</td>\n",
       "      <td>15-50% offer</td>\n",
       "      <td>2018</td>\n",
       "      <td>5</td>\n",
       "      <td>...</td>\n",
       "      <td>City centre</td>\n",
       "      <td>4.2</td>\n",
       "      <td>Billancourt Station</td>\n",
       "      <td>Arc de Triomphe - Palais des Congres (17 arr.)</td>\n",
       "      <td>Paris</td>\n",
       "      <td>4.0</td>\n",
       "      <td>4.0</td>\n",
       "      <td>305</td>\n",
       "      <td>Hotel</td>\n",
       "      <td>3.7</td>\n",
       "    </tr>\n",
       "    <tr>\n",
       "      <th>4</th>\n",
       "      <td>102.0</td>\n",
       "      <td>523.0</td>\n",
       "      <td>315.0</td>\n",
       "      <td>12715</td>\n",
       "      <td>315</td>\n",
       "      <td>1</td>\n",
       "      <td>1</td>\n",
       "      <td>15-50% offer</td>\n",
       "      <td>2018</td>\n",
       "      <td>1</td>\n",
       "      <td>...</td>\n",
       "      <td>City centre</td>\n",
       "      <td>4.0</td>\n",
       "      <td>Billancourt Station</td>\n",
       "      <td>Champs Elysees (8 arr.)</td>\n",
       "      <td>Paris</td>\n",
       "      <td>5.0</td>\n",
       "      <td>4.5</td>\n",
       "      <td>523</td>\n",
       "      <td>Hotel</td>\n",
       "      <td>4.4</td>\n",
       "    </tr>\n",
       "  </tbody>\n",
       "</table>\n",
       "<p>5 rows × 27 columns</p>\n",
       "</div>"
      ],
      "text/plain": [
       "  rating_count_float ratingta_count_float price_one_night hotel_id price  \\\n",
       "0               32.0                 61.0           105.0    12757   105   \n",
       "1               56.0                144.0            68.0    12746    68   \n",
       "2               92.0                 73.0           114.0    12751   114   \n",
       "3               79.0                305.0           161.0    12285   161   \n",
       "4              102.0                523.0           315.0    12715   315   \n",
       "\n",
       "  scarce_room offer     offer_cat  year month  ... center1label  \\\n",
       "0           0     1  15-50% offer  2018     6  ...  City centre   \n",
       "1           0     1  15-50% offer  2017    12  ...  City centre   \n",
       "2           0     1  15-50% offer  2018     5  ...  City centre   \n",
       "3           0     1  15-50% offer  2018     5  ...  City centre   \n",
       "4           1     1  15-50% offer  2018     1  ...  City centre   \n",
       "\n",
       "  distance_alter         center2label  \\\n",
       "0            5.6  Billancourt Station   \n",
       "1            3.4  Billancourt Station   \n",
       "2            5.8  Billancourt Station   \n",
       "3            4.2  Billancourt Station   \n",
       "4            4.0  Billancourt Station   \n",
       "\n",
       "                                    neighbourhood   city stars ratingta  \\\n",
       "0                                          Clichy  Paris   3.0      4.5   \n",
       "1                                         Clamart  Paris   3.0      3.0   \n",
       "2                                          Clichy  Paris   3.0      4.5   \n",
       "3  Arc de Triomphe - Palais des Congres (17 arr.)  Paris   4.0      4.0   \n",
       "4                         Champs Elysees (8 arr.)  Paris   5.0      4.5   \n",
       "\n",
       "  ratingta_count accommodation_type rating  \n",
       "0             61              Hotel    3.9  \n",
       "1            144              Hotel    3.4  \n",
       "2             73              Hotel    4.1  \n",
       "3            305              Hotel    3.7  \n",
       "4            523              Hotel    4.4  \n",
       "\n",
       "[5 rows x 27 columns]"
      ]
     },
     "execution_count": 64,
     "metadata": {},
     "output_type": "execute_result"
    }
   ],
   "source": [
    "hotels_extra_attr = pd.DataFrame(hotels_test, columns = ['rating_count_float'] + ['ratingta_count_float'] +\\\n",
    "         ['price_one_night'] + hotels1.columns.tolist(), index=hotels1.index)\n",
    "hotels_extra_attr.head()"
   ]
  },
  {
   "cell_type": "code",
   "execution_count": 65,
   "id": "2bc43ef1",
   "metadata": {
    "scrolled": true
   },
   "outputs": [
    {
     "name": "stdout",
     "output_type": "stream",
     "text": [
      "<class 'pandas.core.frame.DataFrame'>\n",
      "RangeIndex: 18008 entries, 0 to 18007\n",
      "Data columns (total 27 columns):\n",
      " #   Column                Non-Null Count  Dtype \n",
      "---  ------                --------------  ----- \n",
      " 0   rating_count_float    17759 non-null  object\n",
      " 1   ratingta_count_float  17551 non-null  object\n",
      " 2   price_one_night       18008 non-null  object\n",
      " 3   hotel_id              18008 non-null  object\n",
      " 4   price                 18008 non-null  object\n",
      " 5   scarce_room           18008 non-null  object\n",
      " 6   offer                 18008 non-null  object\n",
      " 7   offer_cat             18008 non-null  object\n",
      " 8   year                  18008 non-null  object\n",
      " 9   month                 18008 non-null  object\n",
      " 10  weekend               18008 non-null  object\n",
      " 11  holiday               18008 non-null  object\n",
      " 12  nnights               18008 non-null  object\n",
      " 13  country               18008 non-null  object\n",
      " 14  city_actual           18008 non-null  object\n",
      " 15  rating_count          17759 non-null  object\n",
      " 16  distance              18008 non-null  object\n",
      " 17  center1label          18008 non-null  object\n",
      " 18  distance_alter        18008 non-null  object\n",
      " 19  center2label          18008 non-null  object\n",
      " 20  neighbourhood         18008 non-null  object\n",
      " 21  city                  18008 non-null  object\n",
      " 22  stars                 15081 non-null  object\n",
      " 23  ratingta              17551 non-null  object\n",
      " 24  ratingta_count        17551 non-null  object\n",
      " 25  accommodation_type    18008 non-null  object\n",
      " 26  rating                17759 non-null  object\n",
      "dtypes: object(27)\n",
      "memory usage: 3.7+ MB\n"
     ]
    }
   ],
   "source": [
    "hotels_extra_attr.info()"
   ]
  },
  {
   "cell_type": "code",
   "execution_count": 66,
   "id": "1357dd92",
   "metadata": {
    "scrolled": false
   },
   "outputs": [
    {
     "data": {
      "text/html": [
       "<div>\n",
       "<style scoped>\n",
       "    .dataframe tbody tr th:only-of-type {\n",
       "        vertical-align: middle;\n",
       "    }\n",
       "\n",
       "    .dataframe tbody tr th {\n",
       "        vertical-align: top;\n",
       "    }\n",
       "\n",
       "    .dataframe thead th {\n",
       "        text-align: right;\n",
       "    }\n",
       "</style>\n",
       "<table border=\"1\" class=\"dataframe\">\n",
       "  <thead>\n",
       "    <tr style=\"text-align: right;\">\n",
       "      <th></th>\n",
       "      <th>rating_count_float</th>\n",
       "      <th>ratingta_count_float</th>\n",
       "      <th>price_one_night</th>\n",
       "      <th>hotel_id</th>\n",
       "      <th>price</th>\n",
       "      <th>scarce_room</th>\n",
       "      <th>offer</th>\n",
       "      <th>year</th>\n",
       "      <th>month</th>\n",
       "      <th>weekend</th>\n",
       "      <th>holiday</th>\n",
       "      <th>nnights</th>\n",
       "      <th>rating_count</th>\n",
       "      <th>distance</th>\n",
       "      <th>distance_alter</th>\n",
       "      <th>stars</th>\n",
       "      <th>ratingta</th>\n",
       "      <th>ratingta_count</th>\n",
       "      <th>rating</th>\n",
       "    </tr>\n",
       "  </thead>\n",
       "  <tbody>\n",
       "    <tr>\n",
       "      <th>mean</th>\n",
       "      <td>147.53128</td>\n",
       "      <td>425.317532</td>\n",
       "      <td>149.38097</td>\n",
       "      <td>12571.015993</td>\n",
       "      <td>194.113172</td>\n",
       "      <td>0.403154</td>\n",
       "      <td>0.671479</td>\n",
       "      <td>2017.613394</td>\n",
       "      <td>6.598068</td>\n",
       "      <td>0.695469</td>\n",
       "      <td>0.214294</td>\n",
       "      <td>1.314194</td>\n",
       "      <td>147.53128</td>\n",
       "      <td>3.053771</td>\n",
       "      <td>5.462006</td>\n",
       "      <td>3.172336</td>\n",
       "      <td>3.762663</td>\n",
       "      <td>425.317532</td>\n",
       "      <td>3.814871</td>\n",
       "    </tr>\n",
       "    <tr>\n",
       "      <th>median</th>\n",
       "      <td>104.00000</td>\n",
       "      <td>287.000000</td>\n",
       "      <td>123.00000</td>\n",
       "      <td>13055.000000</td>\n",
       "      <td>136.000000</td>\n",
       "      <td>0.000000</td>\n",
       "      <td>1.000000</td>\n",
       "      <td>2018.000000</td>\n",
       "      <td>5.000000</td>\n",
       "      <td>1.000000</td>\n",
       "      <td>0.000000</td>\n",
       "      <td>1.000000</td>\n",
       "      <td>104.00000</td>\n",
       "      <td>1.900000</td>\n",
       "      <td>5.100000</td>\n",
       "      <td>3.000000</td>\n",
       "      <td>4.000000</td>\n",
       "      <td>287.000000</td>\n",
       "      <td>3.900000</td>\n",
       "    </tr>\n",
       "  </tbody>\n",
       "</table>\n",
       "</div>"
      ],
      "text/plain": [
       "        rating_count_float  ratingta_count_float  price_one_night  \\\n",
       "mean             147.53128            425.317532        149.38097   \n",
       "median           104.00000            287.000000        123.00000   \n",
       "\n",
       "            hotel_id       price  scarce_room     offer         year  \\\n",
       "mean    12571.015993  194.113172     0.403154  0.671479  2017.613394   \n",
       "median  13055.000000  136.000000     0.000000  1.000000  2018.000000   \n",
       "\n",
       "           month   weekend   holiday   nnights  rating_count  distance  \\\n",
       "mean    6.598068  0.695469  0.214294  1.314194     147.53128  3.053771   \n",
       "median  5.000000  1.000000  0.000000  1.000000     104.00000  1.900000   \n",
       "\n",
       "        distance_alter     stars  ratingta  ratingta_count    rating  \n",
       "mean          5.462006  3.172336  3.762663      425.317532  3.814871  \n",
       "median        5.100000  3.000000  4.000000      287.000000  3.900000  "
      ]
     },
     "execution_count": 66,
     "metadata": {},
     "output_type": "execute_result"
    }
   ],
   "source": [
    "hotels_extra_attr.agg(['mean','median'])"
   ]
  },
  {
   "cell_type": "code",
   "execution_count": 67,
   "id": "02f7b5d8",
   "metadata": {},
   "outputs": [
    {
     "data": {
      "text/html": [
       "<div>\n",
       "<style scoped>\n",
       "    .dataframe tbody tr th:only-of-type {\n",
       "        vertical-align: middle;\n",
       "    }\n",
       "\n",
       "    .dataframe tbody tr th {\n",
       "        vertical-align: top;\n",
       "    }\n",
       "\n",
       "    .dataframe thead th {\n",
       "        text-align: right;\n",
       "    }\n",
       "</style>\n",
       "<table border=\"1\" class=\"dataframe\">\n",
       "  <thead>\n",
       "    <tr style=\"text-align: right;\">\n",
       "      <th></th>\n",
       "      <th>stars</th>\n",
       "      <th>ratingta</th>\n",
       "      <th>rating</th>\n",
       "      <th>price_one_night</th>\n",
       "    </tr>\n",
       "  </thead>\n",
       "  <tbody>\n",
       "    <tr>\n",
       "      <th>mean</th>\n",
       "      <td>3.172336</td>\n",
       "      <td>3.762663</td>\n",
       "      <td>3.814871</td>\n",
       "      <td>149.38097</td>\n",
       "    </tr>\n",
       "    <tr>\n",
       "      <th>median</th>\n",
       "      <td>3.000000</td>\n",
       "      <td>4.000000</td>\n",
       "      <td>3.900000</td>\n",
       "      <td>123.00000</td>\n",
       "    </tr>\n",
       "  </tbody>\n",
       "</table>\n",
       "</div>"
      ],
      "text/plain": [
       "           stars  ratingta    rating  price_one_night\n",
       "mean    3.172336  3.762663  3.814871        149.38097\n",
       "median  3.000000  4.000000  3.900000        123.00000"
      ]
     },
     "execution_count": 67,
     "metadata": {},
     "output_type": "execute_result"
    }
   ],
   "source": [
    "hotels.loc[:,impute_col].agg(['mean','median']) #clean transformation"
   ]
  },
  {
   "cell_type": "markdown",
   "id": "a0427f50",
   "metadata": {},
   "source": [
    "going to start on a pipeline"
   ]
  },
  {
   "cell_type": "code",
   "execution_count": 68,
   "id": "421bc723",
   "metadata": {},
   "outputs": [],
   "source": [
    "from sklearn.pipeline import Pipeline\n",
    "\n"
   ]
  },
  {
   "cell_type": "code",
   "execution_count": 69,
   "id": "6c526d4f",
   "metadata": {},
   "outputs": [],
   "source": [
    "#this pipeline forces me to use .values\n",
    "num_pipeline = Pipeline([('attr_add', hotels_attribute_adder(change_rating_count_float=True)),\\\n",
    "                         ('imputer', KNNImputer(n_neighbors=7))])\n",
    "num_pipeline2 = Pipeline(\n",
    "                        [('imputer', KNNImputer(n_neighbors=7)),\n",
    "                        ('attr_add', hotels_attribute_adder(change_rating_count_float=True)) \n",
    "                        ])\n",
    "#this pipeline throws an array into our transformer"
   ]
  },
  {
   "cell_type": "code",
   "execution_count": 70,
   "id": "042af96b",
   "metadata": {
    "scrolled": false
   },
   "outputs": [
    {
     "data": {
      "text/plain": [
       "(18008, 16)"
      ]
     },
     "execution_count": 70,
     "metadata": {},
     "output_type": "execute_result"
    }
   ],
   "source": [
    "#our pipeline only works with numeric data so we have to test it on a DF with just numeric columns\n",
    "pipeline_col = ['hotel_id',\n",
    " 'price',\n",
    " 'scarce_room',\n",
    " 'offer',\n",
    " 'year',\n",
    " 'month',\n",
    " 'weekend',\n",
    " 'holiday',\n",
    " 'nnights',\n",
    " 'distance',\n",
    " 'distance_alter',\n",
    " 'stars',\n",
    " 'ratingta',\n",
    " 'rating','ratingta_count','rating_count']\n",
    "\n",
    "hotels_num = hotels.loc[:,pipeline_col]\n",
    "hotels_num.shape"
   ]
  },
  {
   "cell_type": "code",
   "execution_count": 71,
   "id": "fa8a2eaf",
   "metadata": {},
   "outputs": [],
   "source": [
    "num_col = ['ratingta_count','rating_count','nnights','price']\n",
    "ratingta_count_ix, rating_count_ix, nnights_ix, price_ix = [hotels_num.columns.get_loc(x) for x in num_col] #getting the new column locations for the pipeline"
   ]
  },
  {
   "cell_type": "code",
   "execution_count": 72,
   "id": "4bc4eb73",
   "metadata": {},
   "outputs": [
    {
     "data": {
      "text/plain": [
       "(18008, 19)"
      ]
     },
     "execution_count": 72,
     "metadata": {},
     "output_type": "execute_result"
    }
   ],
   "source": [
    "\n",
    "hotel_num_transform = num_pipeline.fit_transform(hotels_num.values)\n",
    "\n",
    "hotel_num_transform.shape\n"
   ]
  },
  {
   "cell_type": "code",
   "execution_count": 73,
   "id": "5ba26cd4",
   "metadata": {
    "scrolled": true
   },
   "outputs": [
    {
     "data": {
      "text/plain": [
       "array([[  32. ,   61. ,  105. , ...,    3.9,   61. ,   32. ],\n",
       "       [  56. ,  144. ,   68. , ...,    3.4,  144. ,   56. ],\n",
       "       [  92. ,   73. ,  114. , ...,    4.1,   73. ,   92. ],\n",
       "       ...,\n",
       "       [ 125. , 1080. ,  207. , ...,    4. , 1080. ,  125. ],\n",
       "       [ 107. ,  131. ,   87. , ...,    3.5,  131. ,  107. ],\n",
       "       [  68. ,  905. ,  260. , ...,    4.5,  905. ,   68. ]])"
      ]
     },
     "execution_count": 73,
     "metadata": {},
     "output_type": "execute_result"
    }
   ],
   "source": [
    "hotel_num_transform"
   ]
  },
  {
   "cell_type": "code",
   "execution_count": 74,
   "id": "c9afdca9",
   "metadata": {
    "scrolled": true
   },
   "outputs": [],
   "source": [
    "hotels_extra_attr2 = pd.DataFrame(hotel_num_transform, columns = ['rating_count_float'] + ['ratingta_count_float'] +\\\n",
    "         ['price_one_night'] + hotels_num.columns.tolist(), index=hotels_num.index)"
   ]
  },
  {
   "cell_type": "code",
   "execution_count": 75,
   "id": "cf1ad07e",
   "metadata": {
    "scrolled": false
   },
   "outputs": [
    {
     "data": {
      "text/html": [
       "<div>\n",
       "<style scoped>\n",
       "    .dataframe tbody tr th:only-of-type {\n",
       "        vertical-align: middle;\n",
       "    }\n",
       "\n",
       "    .dataframe tbody tr th {\n",
       "        vertical-align: top;\n",
       "    }\n",
       "\n",
       "    .dataframe thead th {\n",
       "        text-align: right;\n",
       "    }\n",
       "</style>\n",
       "<table border=\"1\" class=\"dataframe\">\n",
       "  <thead>\n",
       "    <tr style=\"text-align: right;\">\n",
       "      <th></th>\n",
       "      <th>rating_count_float</th>\n",
       "      <th>ratingta_count_float</th>\n",
       "      <th>price_one_night</th>\n",
       "      <th>hotel_id</th>\n",
       "      <th>price</th>\n",
       "      <th>scarce_room</th>\n",
       "      <th>offer</th>\n",
       "      <th>year</th>\n",
       "      <th>month</th>\n",
       "      <th>weekend</th>\n",
       "      <th>holiday</th>\n",
       "      <th>nnights</th>\n",
       "      <th>distance</th>\n",
       "      <th>distance_alter</th>\n",
       "      <th>stars</th>\n",
       "      <th>ratingta</th>\n",
       "      <th>rating</th>\n",
       "      <th>ratingta_count</th>\n",
       "      <th>rating_count</th>\n",
       "    </tr>\n",
       "  </thead>\n",
       "  <tbody>\n",
       "    <tr>\n",
       "      <th>0</th>\n",
       "      <td>32.0</td>\n",
       "      <td>61.0</td>\n",
       "      <td>105.0</td>\n",
       "      <td>12757.0</td>\n",
       "      <td>105.0</td>\n",
       "      <td>0.0</td>\n",
       "      <td>1.0</td>\n",
       "      <td>2018.0</td>\n",
       "      <td>6.0</td>\n",
       "      <td>1.0</td>\n",
       "      <td>0.0</td>\n",
       "      <td>1.0</td>\n",
       "      <td>3.0</td>\n",
       "      <td>5.6</td>\n",
       "      <td>3.0</td>\n",
       "      <td>4.5</td>\n",
       "      <td>3.9</td>\n",
       "      <td>61.0</td>\n",
       "      <td>32.0</td>\n",
       "    </tr>\n",
       "    <tr>\n",
       "      <th>1</th>\n",
       "      <td>56.0</td>\n",
       "      <td>144.0</td>\n",
       "      <td>68.0</td>\n",
       "      <td>12746.0</td>\n",
       "      <td>68.0</td>\n",
       "      <td>0.0</td>\n",
       "      <td>1.0</td>\n",
       "      <td>2017.0</td>\n",
       "      <td>12.0</td>\n",
       "      <td>0.0</td>\n",
       "      <td>1.0</td>\n",
       "      <td>1.0</td>\n",
       "      <td>7.1</td>\n",
       "      <td>3.4</td>\n",
       "      <td>3.0</td>\n",
       "      <td>3.0</td>\n",
       "      <td>3.4</td>\n",
       "      <td>144.0</td>\n",
       "      <td>56.0</td>\n",
       "    </tr>\n",
       "    <tr>\n",
       "      <th>2</th>\n",
       "      <td>92.0</td>\n",
       "      <td>73.0</td>\n",
       "      <td>114.0</td>\n",
       "      <td>12751.0</td>\n",
       "      <td>114.0</td>\n",
       "      <td>0.0</td>\n",
       "      <td>1.0</td>\n",
       "      <td>2018.0</td>\n",
       "      <td>5.0</td>\n",
       "      <td>1.0</td>\n",
       "      <td>0.0</td>\n",
       "      <td>1.0</td>\n",
       "      <td>3.3</td>\n",
       "      <td>5.8</td>\n",
       "      <td>3.0</td>\n",
       "      <td>4.5</td>\n",
       "      <td>4.1</td>\n",
       "      <td>73.0</td>\n",
       "      <td>92.0</td>\n",
       "    </tr>\n",
       "    <tr>\n",
       "      <th>3</th>\n",
       "      <td>79.0</td>\n",
       "      <td>305.0</td>\n",
       "      <td>161.0</td>\n",
       "      <td>12285.0</td>\n",
       "      <td>161.0</td>\n",
       "      <td>0.0</td>\n",
       "      <td>1.0</td>\n",
       "      <td>2018.0</td>\n",
       "      <td>5.0</td>\n",
       "      <td>1.0</td>\n",
       "      <td>0.0</td>\n",
       "      <td>1.0</td>\n",
       "      <td>2.6</td>\n",
       "      <td>4.2</td>\n",
       "      <td>4.0</td>\n",
       "      <td>4.0</td>\n",
       "      <td>3.7</td>\n",
       "      <td>305.0</td>\n",
       "      <td>79.0</td>\n",
       "    </tr>\n",
       "    <tr>\n",
       "      <th>4</th>\n",
       "      <td>102.0</td>\n",
       "      <td>523.0</td>\n",
       "      <td>315.0</td>\n",
       "      <td>12715.0</td>\n",
       "      <td>315.0</td>\n",
       "      <td>1.0</td>\n",
       "      <td>1.0</td>\n",
       "      <td>2018.0</td>\n",
       "      <td>1.0</td>\n",
       "      <td>1.0</td>\n",
       "      <td>0.0</td>\n",
       "      <td>1.0</td>\n",
       "      <td>1.6</td>\n",
       "      <td>4.0</td>\n",
       "      <td>5.0</td>\n",
       "      <td>4.5</td>\n",
       "      <td>4.4</td>\n",
       "      <td>523.0</td>\n",
       "      <td>102.0</td>\n",
       "    </tr>\n",
       "    <tr>\n",
       "      <th>...</th>\n",
       "      <td>...</td>\n",
       "      <td>...</td>\n",
       "      <td>...</td>\n",
       "      <td>...</td>\n",
       "      <td>...</td>\n",
       "      <td>...</td>\n",
       "      <td>...</td>\n",
       "      <td>...</td>\n",
       "      <td>...</td>\n",
       "      <td>...</td>\n",
       "      <td>...</td>\n",
       "      <td>...</td>\n",
       "      <td>...</td>\n",
       "      <td>...</td>\n",
       "      <td>...</td>\n",
       "      <td>...</td>\n",
       "      <td>...</td>\n",
       "      <td>...</td>\n",
       "      <td>...</td>\n",
       "    </tr>\n",
       "    <tr>\n",
       "      <th>18003</th>\n",
       "      <td>109.0</td>\n",
       "      <td>230.0</td>\n",
       "      <td>92.0</td>\n",
       "      <td>12498.0</td>\n",
       "      <td>92.0</td>\n",
       "      <td>1.0</td>\n",
       "      <td>1.0</td>\n",
       "      <td>2018.0</td>\n",
       "      <td>1.0</td>\n",
       "      <td>1.0</td>\n",
       "      <td>0.0</td>\n",
       "      <td>1.0</td>\n",
       "      <td>1.6</td>\n",
       "      <td>6.1</td>\n",
       "      <td>3.0</td>\n",
       "      <td>3.5</td>\n",
       "      <td>3.4</td>\n",
       "      <td>230.0</td>\n",
       "      <td>109.0</td>\n",
       "    </tr>\n",
       "    <tr>\n",
       "      <th>18004</th>\n",
       "      <td>44.0</td>\n",
       "      <td>1839.0</td>\n",
       "      <td>145.0</td>\n",
       "      <td>14102.0</td>\n",
       "      <td>145.0</td>\n",
       "      <td>0.0</td>\n",
       "      <td>0.0</td>\n",
       "      <td>2018.0</td>\n",
       "      <td>5.0</td>\n",
       "      <td>1.0</td>\n",
       "      <td>0.0</td>\n",
       "      <td>1.0</td>\n",
       "      <td>2.7</td>\n",
       "      <td>7.7</td>\n",
       "      <td>3.0</td>\n",
       "      <td>4.0</td>\n",
       "      <td>4.3</td>\n",
       "      <td>1839.0</td>\n",
       "      <td>44.0</td>\n",
       "    </tr>\n",
       "    <tr>\n",
       "      <th>18005</th>\n",
       "      <td>125.0</td>\n",
       "      <td>1080.0</td>\n",
       "      <td>207.0</td>\n",
       "      <td>12635.0</td>\n",
       "      <td>207.0</td>\n",
       "      <td>0.0</td>\n",
       "      <td>1.0</td>\n",
       "      <td>2018.0</td>\n",
       "      <td>3.0</td>\n",
       "      <td>1.0</td>\n",
       "      <td>0.0</td>\n",
       "      <td>1.0</td>\n",
       "      <td>2.0</td>\n",
       "      <td>4.2</td>\n",
       "      <td>4.0</td>\n",
       "      <td>4.0</td>\n",
       "      <td>4.0</td>\n",
       "      <td>1080.0</td>\n",
       "      <td>125.0</td>\n",
       "    </tr>\n",
       "    <tr>\n",
       "      <th>18006</th>\n",
       "      <td>107.0</td>\n",
       "      <td>131.0</td>\n",
       "      <td>87.0</td>\n",
       "      <td>13621.0</td>\n",
       "      <td>87.0</td>\n",
       "      <td>0.0</td>\n",
       "      <td>0.0</td>\n",
       "      <td>2017.0</td>\n",
       "      <td>12.0</td>\n",
       "      <td>0.0</td>\n",
       "      <td>1.0</td>\n",
       "      <td>1.0</td>\n",
       "      <td>2.3</td>\n",
       "      <td>6.5</td>\n",
       "      <td>4.0</td>\n",
       "      <td>4.0</td>\n",
       "      <td>3.5</td>\n",
       "      <td>131.0</td>\n",
       "      <td>107.0</td>\n",
       "    </tr>\n",
       "    <tr>\n",
       "      <th>18007</th>\n",
       "      <td>68.0</td>\n",
       "      <td>905.0</td>\n",
       "      <td>260.0</td>\n",
       "      <td>14100.0</td>\n",
       "      <td>260.0</td>\n",
       "      <td>0.0</td>\n",
       "      <td>1.0</td>\n",
       "      <td>2018.0</td>\n",
       "      <td>4.0</td>\n",
       "      <td>1.0</td>\n",
       "      <td>0.0</td>\n",
       "      <td>1.0</td>\n",
       "      <td>1.4</td>\n",
       "      <td>4.0</td>\n",
       "      <td>4.0</td>\n",
       "      <td>4.5</td>\n",
       "      <td>4.5</td>\n",
       "      <td>905.0</td>\n",
       "      <td>68.0</td>\n",
       "    </tr>\n",
       "  </tbody>\n",
       "</table>\n",
       "<p>18008 rows × 19 columns</p>\n",
       "</div>"
      ],
      "text/plain": [
       "       rating_count_float  ratingta_count_float  price_one_night  hotel_id  \\\n",
       "0                    32.0                  61.0            105.0   12757.0   \n",
       "1                    56.0                 144.0             68.0   12746.0   \n",
       "2                    92.0                  73.0            114.0   12751.0   \n",
       "3                    79.0                 305.0            161.0   12285.0   \n",
       "4                   102.0                 523.0            315.0   12715.0   \n",
       "...                   ...                   ...              ...       ...   \n",
       "18003               109.0                 230.0             92.0   12498.0   \n",
       "18004                44.0                1839.0            145.0   14102.0   \n",
       "18005               125.0                1080.0            207.0   12635.0   \n",
       "18006               107.0                 131.0             87.0   13621.0   \n",
       "18007                68.0                 905.0            260.0   14100.0   \n",
       "\n",
       "       price  scarce_room  offer    year  month  weekend  holiday  nnights  \\\n",
       "0      105.0          0.0    1.0  2018.0    6.0      1.0      0.0      1.0   \n",
       "1       68.0          0.0    1.0  2017.0   12.0      0.0      1.0      1.0   \n",
       "2      114.0          0.0    1.0  2018.0    5.0      1.0      0.0      1.0   \n",
       "3      161.0          0.0    1.0  2018.0    5.0      1.0      0.0      1.0   \n",
       "4      315.0          1.0    1.0  2018.0    1.0      1.0      0.0      1.0   \n",
       "...      ...          ...    ...     ...    ...      ...      ...      ...   \n",
       "18003   92.0          1.0    1.0  2018.0    1.0      1.0      0.0      1.0   \n",
       "18004  145.0          0.0    0.0  2018.0    5.0      1.0      0.0      1.0   \n",
       "18005  207.0          0.0    1.0  2018.0    3.0      1.0      0.0      1.0   \n",
       "18006   87.0          0.0    0.0  2017.0   12.0      0.0      1.0      1.0   \n",
       "18007  260.0          0.0    1.0  2018.0    4.0      1.0      0.0      1.0   \n",
       "\n",
       "       distance  distance_alter  stars  ratingta  rating  ratingta_count  \\\n",
       "0           3.0             5.6    3.0       4.5     3.9            61.0   \n",
       "1           7.1             3.4    3.0       3.0     3.4           144.0   \n",
       "2           3.3             5.8    3.0       4.5     4.1            73.0   \n",
       "3           2.6             4.2    4.0       4.0     3.7           305.0   \n",
       "4           1.6             4.0    5.0       4.5     4.4           523.0   \n",
       "...         ...             ...    ...       ...     ...             ...   \n",
       "18003       1.6             6.1    3.0       3.5     3.4           230.0   \n",
       "18004       2.7             7.7    3.0       4.0     4.3          1839.0   \n",
       "18005       2.0             4.2    4.0       4.0     4.0          1080.0   \n",
       "18006       2.3             6.5    4.0       4.0     3.5           131.0   \n",
       "18007       1.4             4.0    4.0       4.5     4.5           905.0   \n",
       "\n",
       "       rating_count  \n",
       "0              32.0  \n",
       "1              56.0  \n",
       "2              92.0  \n",
       "3              79.0  \n",
       "4             102.0  \n",
       "...             ...  \n",
       "18003         109.0  \n",
       "18004          44.0  \n",
       "18005         125.0  \n",
       "18006         107.0  \n",
       "18007          68.0  \n",
       "\n",
       "[18008 rows x 19 columns]"
      ]
     },
     "execution_count": 75,
     "metadata": {},
     "output_type": "execute_result"
    }
   ],
   "source": [
    "hotels_extra_attr2"
   ]
  },
  {
   "cell_type": "markdown",
   "id": "678bcb97",
   "metadata": {},
   "source": [
    "Making a better pipeline"
   ]
  },
  {
   "cell_type": "code",
   "execution_count": 76,
   "id": "e7bb5a8a",
   "metadata": {},
   "outputs": [],
   "source": [
    "num_col = ['ratingta_count','rating_count','nnights','price']\n",
    "\n",
    "\n",
    "\n",
    "num_attribs = ['ratingta_count','rating_count','nnights','price','stars','ratingta','rating','distance']\n",
    "cat_attribs  = ['accommodation_type','offer_cat']\n",
    "\n",
    "ratingta_count_ix, rating_count_ix, nnights_ix, price_ix = [x for x,y in enumerate(num_attribs[:4])] # so my transformer in numpipeline2 will know the col locations\n",
    "\n",
    "from sklearn.compose import ColumnTransformer\n"
   ]
  },
  {
   "cell_type": "code",
   "execution_count": 77,
   "id": "c5cc4ce6",
   "metadata": {},
   "outputs": [],
   "source": [
    "\n",
    "full_pipeline = ColumnTransformer([\n",
    "                        ('num_val', num_pipeline2, num_attribs), #in the future separate KNNimputer so that I can use 'price_on_night' to imputes values as well\n",
    "                        ('cat_val', OneHotEncoder(), cat_attribs)])\n",
    "\n",
    "hotels1_prepared = full_pipeline.fit_transform(hotels1)"
   ]
  },
  {
   "cell_type": "code",
   "execution_count": 78,
   "id": "564cdec8",
   "metadata": {},
   "outputs": [
    {
     "data": {
      "text/plain": [
       "(18008, 27)"
      ]
     },
     "execution_count": 78,
     "metadata": {},
     "output_type": "execute_result"
    }
   ],
   "source": [
    "hotels1_prepared.shape"
   ]
  },
  {
   "cell_type": "code",
   "execution_count": 79,
   "id": "88bbc56e",
   "metadata": {
    "scrolled": true
   },
   "outputs": [
    {
     "data": {
      "text/plain": [
       "array([ 56. , 144. ,  68. , 144. ,  56. ,   1. ,  68. ,   3. ,   3. ,\n",
       "         3.4,   7.1,   0. ,   0. ,   0. ,   0. ,   0. ,   0. ,   0. ,\n",
       "         1. ,   0. ,   0. ,   0. ,   0. ,   0. ,   1. ,   0. ,   0. ])"
      ]
     },
     "execution_count": 79,
     "metadata": {},
     "output_type": "execute_result"
    }
   ],
   "source": [
    "hotels1_prepared[1]"
   ]
  },
  {
   "cell_type": "code",
   "execution_count": 80,
   "id": "ade9be54",
   "metadata": {},
   "outputs": [
    {
     "data": {
      "text/plain": [
       "array([105.,  68., 114., ..., 207.,  87., 260.])"
      ]
     },
     "execution_count": 80,
     "metadata": {},
     "output_type": "execute_result"
    }
   ],
   "source": [
    "y_labels = hotels1_prepared[:,6]\n",
    "y_labels"
   ]
  },
  {
   "cell_type": "code",
   "execution_count": 81,
   "id": "2db4f172",
   "metadata": {
    "scrolled": false
   },
   "outputs": [
    {
     "data": {
      "text/plain": [
       "array([3. , 3. , 3.4, 7.1, 0. , 0. , 0. , 0. , 0. , 0. , 0. , 1. , 0. ,\n",
       "       0. , 0. , 0. , 0. , 1. , 0. , 0. ])"
      ]
     },
     "execution_count": 81,
     "metadata": {},
     "output_type": "execute_result"
    }
   ],
   "source": [
    "np.delete(hotels1_prepared,list(range(7)), axis=1)[1] #getting rid of the first couple columns in num_attribs "
   ]
  },
  {
   "cell_type": "code",
   "execution_count": 82,
   "id": "eec573a9",
   "metadata": {},
   "outputs": [],
   "source": [
    "hotels1_prepared_cut = np.delete(hotels1_prepared,list(range(7)), axis=1)"
   ]
  },
  {
   "cell_type": "code",
   "execution_count": 83,
   "id": "ea308207",
   "metadata": {
    "scrolled": true
   },
   "outputs": [
    {
     "data": {
      "text/plain": [
       "array([3. , 3. , 3.4, 7.1, 0. , 0. , 0. , 0. , 0. , 0. , 0. , 1. , 0. ,\n",
       "       0. , 0. , 0. , 0. , 1. , 0. , 0. ])"
      ]
     },
     "execution_count": 83,
     "metadata": {},
     "output_type": "execute_result"
    }
   ],
   "source": [
    "hotels1_prepared_cut[1]"
   ]
  },
  {
   "cell_type": "markdown",
   "id": "2062108e",
   "metadata": {},
   "source": [
    "selecting a model"
   ]
  },
  {
   "cell_type": "code",
   "execution_count": 84,
   "id": "21cfe23a",
   "metadata": {},
   "outputs": [
    {
     "data": {
      "text/plain": [
       "LinearRegression()"
      ]
     },
     "execution_count": 84,
     "metadata": {},
     "output_type": "execute_result"
    }
   ],
   "source": [
    "from sklearn.linear_model import LinearRegression\n",
    "\n",
    "lin_reg = LinearRegression()\n",
    "lin_reg.fit(hotels1_prepared_cut,y_labels)"
   ]
  },
  {
   "cell_type": "code",
   "execution_count": 85,
   "id": "d850a32a",
   "metadata": {},
   "outputs": [],
   "source": [
    "sample_data = hotels1.iloc[:5,:]\n",
    "prepared_sample_data = full_pipeline.transform(sample_data)"
   ]
  },
  {
   "cell_type": "code",
   "execution_count": 86,
   "id": "601334f5",
   "metadata": {},
   "outputs": [
    {
     "data": {
      "text/plain": [
       "array([105.,  68., 114., 161., 315.])"
      ]
     },
     "execution_count": 86,
     "metadata": {},
     "output_type": "execute_result"
    }
   ],
   "source": [
    "sample_y_labels = prepared_sample_data[:,6]\n",
    "sample_y_labels"
   ]
  },
  {
   "cell_type": "code",
   "execution_count": 87,
   "id": "bcbf6ab9",
   "metadata": {},
   "outputs": [],
   "source": [
    "prepared_sample_data = np.delete(prepared_sample_data,list(range(7)), axis=1)"
   ]
  },
  {
   "cell_type": "code",
   "execution_count": 88,
   "id": "6534b12e",
   "metadata": {},
   "outputs": [
    {
     "name": "stdout",
     "output_type": "stream",
     "text": [
      "Predictions:\n",
      "[200.48746152 117.54585648 196.82318182 262.85862407 361.72055755]\n"
     ]
    }
   ],
   "source": [
    "print('Predictions:', lin_reg.predict(prepared_sample_data), sep='\\n')"
   ]
  },
  {
   "cell_type": "code",
   "execution_count": 89,
   "id": "8ca8042f",
   "metadata": {},
   "outputs": [
    {
     "name": "stdout",
     "output_type": "stream",
     "text": [
      "actual values:\n",
      "[105.  68. 114. 161. 315.]\n"
     ]
    }
   ],
   "source": [
    "print('actual values:', sample_y_labels, sep='\\n')"
   ]
  },
  {
   "cell_type": "code",
   "execution_count": 90,
   "id": "76118f62",
   "metadata": {},
   "outputs": [
    {
     "data": {
      "text/plain": [
       "array([ 7.81425187e+01,  4.01837143e+01, -8.47807904e+00, -6.56221296e+00,\n",
       "       -1.86656266e+02, -7.94053670e+01, -2.09579519e+02, -9.42517218e+01,\n",
       "       -2.11827913e+02, -1.80925886e+02, -2.57698548e+02, -1.77091089e+02,\n",
       "        8.00204269e+02,  8.01731923e+02, -2.04499881e+02,  1.58905947e+01,\n",
       "        2.31122160e+01, -3.44304960e+00, -3.48840557e+01, -6.75705424e-01])"
      ]
     },
     "execution_count": 90,
     "metadata": {},
     "output_type": "execute_result"
    }
   ],
   "source": [
    "lin_reg.coef_"
   ]
  },
  {
   "cell_type": "code",
   "execution_count": 91,
   "id": "45e2108d",
   "metadata": {},
   "outputs": [],
   "source": [
    "hotel_predictions = lin_reg.predict(hotels1_prepared_cut)"
   ]
  },
  {
   "cell_type": "code",
   "execution_count": 92,
   "id": "541347f6",
   "metadata": {},
   "outputs": [
    {
     "data": {
      "text/plain": [
       "192.0554286074114"
      ]
     },
     "execution_count": 92,
     "metadata": {},
     "output_type": "execute_result"
    }
   ],
   "source": [
    "from sklearn.metrics import mean_squared_error\n",
    "lin_rmse = mean_squared_error(y_labels,hotel_predictions,squared=False)\n",
    "lin_rmse"
   ]
  },
  {
   "cell_type": "code",
   "execution_count": 93,
   "id": "0f47b1ed",
   "metadata": {},
   "outputs": [
    {
     "data": {
      "text/plain": [
       "100.76626580806372"
      ]
     },
     "execution_count": 93,
     "metadata": {},
     "output_type": "execute_result"
    }
   ],
   "source": [
    "from sklearn.metrics import mean_absolute_error\n",
    "\n",
    "lin_mae = mean_absolute_error(y_labels, hotel_predictions)\n",
    "lin_mae"
   ]
  },
  {
   "cell_type": "code",
   "execution_count": 94,
   "id": "8da2f2b7",
   "metadata": {},
   "outputs": [
    {
     "data": {
      "text/plain": [
       "DecisionTreeRegressor(random_state=42)"
      ]
     },
     "execution_count": 94,
     "metadata": {},
     "output_type": "execute_result"
    }
   ],
   "source": [
    "from sklearn.tree import DecisionTreeRegressor\n",
    "tree_reg = DecisionTreeRegressor(random_state=42)\n",
    "tree_reg.fit(hotels1_prepared_cut,y_labels)"
   ]
  },
  {
   "cell_type": "code",
   "execution_count": 95,
   "id": "c893d6ed",
   "metadata": {},
   "outputs": [],
   "source": [
    "tree_hotel_predictions = tree_reg.predict(hotels1_prepared_cut)"
   ]
  },
  {
   "cell_type": "code",
   "execution_count": 96,
   "id": "c3cc2b95",
   "metadata": {},
   "outputs": [
    {
     "data": {
      "text/plain": [
       "136.9415626836758"
      ]
     },
     "execution_count": 96,
     "metadata": {},
     "output_type": "execute_result"
    }
   ],
   "source": [
    "tree_rmse = mean_squared_error(y_labels,tree_hotel_predictions, squared=False)\n",
    "tree_rmse\n"
   ]
  },
  {
   "cell_type": "markdown",
   "id": "587a39a5",
   "metadata": {},
   "source": [
    "Going to experiment with cross_validation now"
   ]
  },
  {
   "cell_type": "code",
   "execution_count": 97,
   "id": "b4f76096",
   "metadata": {},
   "outputs": [],
   "source": [
    "from sklearn.model_selection import cross_val_score"
   ]
  },
  {
   "cell_type": "code",
   "execution_count": 98,
   "id": "b29a4109",
   "metadata": {},
   "outputs": [],
   "source": [
    "tree_scores = cross_val_score(tree_reg, hotels1_prepared_cut, y_labels, cv=5, scoring='neg_mean_squared_error')\n",
    "tree_scores_rmse = np.sqrt(-tree_scores)\n",
    "def show_scores(scores):\n",
    "    print('scores:',scores)\n",
    "    print('mean:',scores.mean())\n",
    "    print('std:',scores.std())"
   ]
  },
  {
   "cell_type": "code",
   "execution_count": 99,
   "id": "730e9333",
   "metadata": {},
   "outputs": [
    {
     "name": "stdout",
     "output_type": "stream",
     "text": [
      "scores: [213.75759117 210.68301167 215.31788069 202.82270558 179.053353  ]\n",
      "mean: 204.32690842256073\n",
      "std: 13.350314804165365\n"
     ]
    }
   ],
   "source": [
    "show_scores(tree_scores_rmse)"
   ]
  },
  {
   "cell_type": "code",
   "execution_count": 100,
   "id": "8ff52693",
   "metadata": {},
   "outputs": [
    {
     "name": "stdout",
     "output_type": "stream",
     "text": [
      "scores: [187.89929787 212.6756002  181.72346753 200.02086906 180.0740123 ]\n",
      "mean: 192.47864939244874\n",
      "std: 12.29082030109544\n"
     ]
    }
   ],
   "source": [
    "lin_reg_scores = cross_val_score(lin_reg,hotels1_prepared_cut,y_labels,cv=5,scoring='neg_mean_squared_error')\n",
    "lin_reg_scores_rmse = np.sqrt(-lin_reg_scores)\n",
    "show_scores(lin_reg_scores_rmse) # less overfitting on the data"
   ]
  },
  {
   "cell_type": "code",
   "execution_count": 101,
   "id": "37115d1f",
   "metadata": {},
   "outputs": [
    {
     "data": {
      "text/plain": [
       "RandomForestRegressor(random_state=42)"
      ]
     },
     "execution_count": 101,
     "metadata": {},
     "output_type": "execute_result"
    }
   ],
   "source": [
    "from sklearn.ensemble import RandomForestRegressor\n",
    "\n",
    "forest_reg = RandomForestRegressor(n_estimators=100,random_state=42)\n",
    "forest_reg.fit(hotels1_prepared_cut,y_labels)"
   ]
  },
  {
   "cell_type": "code",
   "execution_count": 102,
   "id": "28359437",
   "metadata": {},
   "outputs": [
    {
     "data": {
      "text/plain": [
       "140.80225885706298"
      ]
     },
     "execution_count": 102,
     "metadata": {},
     "output_type": "execute_result"
    }
   ],
   "source": [
    "forest_hotel_predictions = forest_reg.predict(hotels1_prepared_cut)\n",
    "forest_rmse = mean_squared_error(y_labels,forest_hotel_predictions,squared=False)\n",
    "forest_rmse"
   ]
  },
  {
   "cell_type": "code",
   "execution_count": 103,
   "id": "6e2a0041",
   "metadata": {},
   "outputs": [
    {
     "name": "stdout",
     "output_type": "stream",
     "text": [
      "scores: [196.49541871 202.73735992 178.22091256 194.44787139 170.71403016]\n",
      "mean: 188.52311854568674\n",
      "std: 12.033320417608858\n"
     ]
    }
   ],
   "source": [
    "forest_scores = cross_val_score(forest_reg,hotels1_prepared_cut,y_labels,cv=5,scoring='neg_mean_squared_error')\n",
    "forest_scores_rmse = np.sqrt(-forest_scores)\n",
    "show_scores(forest_scores_rmse)"
   ]
  },
  {
   "cell_type": "code",
   "execution_count": 104,
   "id": "f3ea836d",
   "metadata": {},
   "outputs": [
    {
     "data": {
      "text/plain": [
       "SVR(kernel='linear')"
      ]
     },
     "execution_count": 104,
     "metadata": {},
     "output_type": "execute_result"
    }
   ],
   "source": [
    "from sklearn.svm import SVR\n",
    "svm_reg = SVR(kernel='linear')\n",
    "svm_reg.fit(hotels1_prepared_cut,y_labels)"
   ]
  },
  {
   "cell_type": "code",
   "execution_count": 105,
   "id": "b6cc3cf4",
   "metadata": {},
   "outputs": [
    {
     "data": {
      "text/plain": [
       "209.77812586690104"
      ]
     },
     "execution_count": 105,
     "metadata": {},
     "output_type": "execute_result"
    }
   ],
   "source": [
    "svm_predictions = svm_reg.predict(hotels1_prepared_cut)\n",
    "svm_rmse = mean_squared_error(y_labels,svm_predictions,squared=False)\n",
    "svm_rmse"
   ]
  },
  {
   "cell_type": "markdown",
   "id": "5dccb73d",
   "metadata": {},
   "source": [
    "Fine-tuning the model"
   ]
  },
  {
   "cell_type": "code",
   "execution_count": 106,
   "id": "8302ada1",
   "metadata": {},
   "outputs": [],
   "source": [
    "from sklearn.model_selection import GridSearchCV\n",
    "param_grid = [{'n_estimators':[10,25,50], 'random_state':[42], 'max_features':[2,4,6,8]}, \\\n",
    "                {'bootstrap':[False], 'n_estimators': [3, 10], 'max_features': [2, 3, 4]}]"
   ]
  },
  {
   "cell_type": "code",
   "execution_count": 107,
   "id": "a88f27c5",
   "metadata": {},
   "outputs": [
    {
     "data": {
      "text/plain": [
       "GridSearchCV(cv=5, estimator=RandomForestRegressor(random_state=42),\n",
       "             param_grid=[{'max_features': [2, 4, 6, 8],\n",
       "                          'n_estimators': [10, 25, 50], 'random_state': [42]},\n",
       "                         {'bootstrap': [False], 'max_features': [2, 3, 4],\n",
       "                          'n_estimators': [3, 10]}],\n",
       "             return_train_score=True, scoring='neg_mean_squared_error')"
      ]
     },
     "execution_count": 107,
     "metadata": {},
     "output_type": "execute_result"
    }
   ],
   "source": [
    "forest_reg = RandomForestRegressor(random_state=42)\n",
    "clf = GridSearchCV(forest_reg, param_grid, return_train_score=True, scoring='neg_mean_squared_error', cv=5 )\n",
    "clf.fit(hotels1_prepared_cut,y_labels)"
   ]
  },
  {
   "cell_type": "code",
   "execution_count": 108,
   "id": "1fea2ced",
   "metadata": {},
   "outputs": [
    {
     "data": {
      "text/plain": [
       "{'max_features': 2, 'n_estimators': 50, 'random_state': 42}"
      ]
     },
     "execution_count": 108,
     "metadata": {},
     "output_type": "execute_result"
    }
   ],
   "source": [
    "clf.best_params_"
   ]
  },
  {
   "cell_type": "code",
   "execution_count": 109,
   "id": "c95d07bf",
   "metadata": {},
   "outputs": [
    {
     "data": {
      "text/plain": [
       "RandomForestRegressor(max_features=2, n_estimators=50, random_state=42)"
      ]
     },
     "execution_count": 109,
     "metadata": {},
     "output_type": "execute_result"
    }
   ],
   "source": [
    "clf.best_estimator_"
   ]
  },
  {
   "cell_type": "code",
   "execution_count": 110,
   "id": "5aeb851f",
   "metadata": {},
   "outputs": [
    {
     "data": {
      "text/plain": [
       "dict_keys(['mean_fit_time', 'std_fit_time', 'mean_score_time', 'std_score_time', 'param_max_features', 'param_n_estimators', 'param_random_state', 'param_bootstrap', 'params', 'split0_test_score', 'split1_test_score', 'split2_test_score', 'split3_test_score', 'split4_test_score', 'mean_test_score', 'std_test_score', 'rank_test_score', 'split0_train_score', 'split1_train_score', 'split2_train_score', 'split3_train_score', 'split4_train_score', 'mean_train_score', 'std_train_score'])"
      ]
     },
     "execution_count": 110,
     "metadata": {},
     "output_type": "execute_result"
    }
   ],
   "source": [
    "clf.cv_results_.keys()"
   ]
  },
  {
   "cell_type": "code",
   "execution_count": 111,
   "id": "b7bfb5b9",
   "metadata": {},
   "outputs": [
    {
     "name": "stdout",
     "output_type": "stream",
     "text": [
      "190.32328368650516 {'max_features': 2, 'n_estimators': 10, 'random_state': 42}\n",
      "187.1786931004308 {'max_features': 2, 'n_estimators': 25, 'random_state': 42}\n",
      "186.5049611389159 {'max_features': 2, 'n_estimators': 50, 'random_state': 42}\n",
      "189.59578182238977 {'max_features': 4, 'n_estimators': 10, 'random_state': 42}\n",
      "186.91612875991524 {'max_features': 4, 'n_estimators': 25, 'random_state': 42}\n",
      "187.03393309696816 {'max_features': 4, 'n_estimators': 50, 'random_state': 42}\n",
      "190.21608869429068 {'max_features': 6, 'n_estimators': 10, 'random_state': 42}\n",
      "187.64148380335334 {'max_features': 6, 'n_estimators': 25, 'random_state': 42}\n",
      "186.92270678510286 {'max_features': 6, 'n_estimators': 50, 'random_state': 42}\n",
      "191.3456695814883 {'max_features': 8, 'n_estimators': 10, 'random_state': 42}\n",
      "188.01740200650957 {'max_features': 8, 'n_estimators': 25, 'random_state': 42}\n",
      "187.0235975307704 {'max_features': 8, 'n_estimators': 50, 'random_state': 42}\n",
      "195.70114837339108 {'bootstrap': False, 'max_features': 2, 'n_estimators': 3}\n",
      "192.3671211966251 {'bootstrap': False, 'max_features': 2, 'n_estimators': 10}\n",
      "194.70258185797422 {'bootstrap': False, 'max_features': 3, 'n_estimators': 3}\n",
      "191.2716491453143 {'bootstrap': False, 'max_features': 3, 'n_estimators': 10}\n",
      "191.8784145489928 {'bootstrap': False, 'max_features': 4, 'n_estimators': 3}\n",
      "191.1493822337078 {'bootstrap': False, 'max_features': 4, 'n_estimators': 10}\n"
     ]
    }
   ],
   "source": [
    "cv_scores = clf.cv_results_\n",
    "for mean_score, params in zip(cv_scores['mean_test_score'], cv_scores['params']):\n",
    "        print(np.sqrt(-mean_score), params)"
   ]
  },
  {
   "cell_type": "code",
   "execution_count": 112,
   "id": "ef468e20",
   "metadata": {
    "scrolled": true
   },
   "outputs": [
    {
     "data": {
      "text/html": [
       "<div>\n",
       "<style scoped>\n",
       "    .dataframe tbody tr th:only-of-type {\n",
       "        vertical-align: middle;\n",
       "    }\n",
       "\n",
       "    .dataframe tbody tr th {\n",
       "        vertical-align: top;\n",
       "    }\n",
       "\n",
       "    .dataframe thead th {\n",
       "        text-align: right;\n",
       "    }\n",
       "</style>\n",
       "<table border=\"1\" class=\"dataframe\">\n",
       "  <thead>\n",
       "    <tr style=\"text-align: right;\">\n",
       "      <th></th>\n",
       "      <th>mean_fit_time</th>\n",
       "      <th>std_fit_time</th>\n",
       "      <th>mean_score_time</th>\n",
       "      <th>std_score_time</th>\n",
       "      <th>param_max_features</th>\n",
       "      <th>param_n_estimators</th>\n",
       "      <th>param_random_state</th>\n",
       "      <th>param_bootstrap</th>\n",
       "      <th>params</th>\n",
       "      <th>split0_test_score</th>\n",
       "      <th>...</th>\n",
       "      <th>mean_test_score</th>\n",
       "      <th>std_test_score</th>\n",
       "      <th>rank_test_score</th>\n",
       "      <th>split0_train_score</th>\n",
       "      <th>split1_train_score</th>\n",
       "      <th>split2_train_score</th>\n",
       "      <th>split3_train_score</th>\n",
       "      <th>split4_train_score</th>\n",
       "      <th>mean_train_score</th>\n",
       "      <th>std_train_score</th>\n",
       "    </tr>\n",
       "  </thead>\n",
       "  <tbody>\n",
       "    <tr>\n",
       "      <th>0</th>\n",
       "      <td>0.131402</td>\n",
       "      <td>0.033318</td>\n",
       "      <td>0.012324</td>\n",
       "      <td>0.002365</td>\n",
       "      <td>2</td>\n",
       "      <td>10</td>\n",
       "      <td>42</td>\n",
       "      <td>NaN</td>\n",
       "      <td>{'max_features': 2, 'n_estimators': 10, 'rando...</td>\n",
       "      <td>-39248.114891</td>\n",
       "      <td>...</td>\n",
       "      <td>-36222.952313</td>\n",
       "      <td>4168.112179</td>\n",
       "      <td>11</td>\n",
       "      <td>-18784.572752</td>\n",
       "      <td>-18253.619026</td>\n",
       "      <td>-20654.780016</td>\n",
       "      <td>-18871.246431</td>\n",
       "      <td>-20708.576097</td>\n",
       "      <td>-19454.558864</td>\n",
       "      <td>1024.156366</td>\n",
       "    </tr>\n",
       "    <tr>\n",
       "      <th>1</th>\n",
       "      <td>0.250567</td>\n",
       "      <td>0.027808</td>\n",
       "      <td>0.026682</td>\n",
       "      <td>0.004296</td>\n",
       "      <td>2</td>\n",
       "      <td>25</td>\n",
       "      <td>42</td>\n",
       "      <td>NaN</td>\n",
       "      <td>{'max_features': 2, 'n_estimators': 25, 'rando...</td>\n",
       "      <td>-37433.141310</td>\n",
       "      <td>...</td>\n",
       "      <td>-35035.863151</td>\n",
       "      <td>4087.874240</td>\n",
       "      <td>6</td>\n",
       "      <td>-18403.753376</td>\n",
       "      <td>-17881.339148</td>\n",
       "      <td>-20264.648105</td>\n",
       "      <td>-18671.879525</td>\n",
       "      <td>-20032.457717</td>\n",
       "      <td>-19050.815574</td>\n",
       "      <td>934.555278</td>\n",
       "    </tr>\n",
       "    <tr>\n",
       "      <th>2</th>\n",
       "      <td>0.449955</td>\n",
       "      <td>0.029625</td>\n",
       "      <td>0.039828</td>\n",
       "      <td>0.000648</td>\n",
       "      <td>2</td>\n",
       "      <td>50</td>\n",
       "      <td>42</td>\n",
       "      <td>NaN</td>\n",
       "      <td>{'max_features': 2, 'n_estimators': 50, 'rando...</td>\n",
       "      <td>-37001.067381</td>\n",
       "      <td>...</td>\n",
       "      <td>-34784.100529</td>\n",
       "      <td>4205.356042</td>\n",
       "      <td>1</td>\n",
       "      <td>-18236.643464</td>\n",
       "      <td>-17711.678903</td>\n",
       "      <td>-20066.429774</td>\n",
       "      <td>-18544.130814</td>\n",
       "      <td>-20006.912267</td>\n",
       "      <td>-18913.159044</td>\n",
       "      <td>955.378373</td>\n",
       "    </tr>\n",
       "    <tr>\n",
       "      <th>3</th>\n",
       "      <td>0.093188</td>\n",
       "      <td>0.000552</td>\n",
       "      <td>0.008486</td>\n",
       "      <td>0.000079</td>\n",
       "      <td>4</td>\n",
       "      <td>10</td>\n",
       "      <td>42</td>\n",
       "      <td>NaN</td>\n",
       "      <td>{'max_features': 4, 'n_estimators': 10, 'rando...</td>\n",
       "      <td>-39096.678442</td>\n",
       "      <td>...</td>\n",
       "      <td>-35946.560485</td>\n",
       "      <td>4404.570830</td>\n",
       "      <td>9</td>\n",
       "      <td>-18824.941341</td>\n",
       "      <td>-18259.559843</td>\n",
       "      <td>-20633.084803</td>\n",
       "      <td>-18956.386100</td>\n",
       "      <td>-20755.819273</td>\n",
       "      <td>-19485.958272</td>\n",
       "      <td>1014.878260</td>\n",
       "    </tr>\n",
       "    <tr>\n",
       "      <th>4</th>\n",
       "      <td>0.229523</td>\n",
       "      <td>0.002727</td>\n",
       "      <td>0.020782</td>\n",
       "      <td>0.000885</td>\n",
       "      <td>4</td>\n",
       "      <td>25</td>\n",
       "      <td>42</td>\n",
       "      <td>NaN</td>\n",
       "      <td>{'max_features': 4, 'n_estimators': 25, 'rando...</td>\n",
       "      <td>-37224.428069</td>\n",
       "      <td>...</td>\n",
       "      <td>-34937.639191</td>\n",
       "      <td>4188.831442</td>\n",
       "      <td>2</td>\n",
       "      <td>-18416.280724</td>\n",
       "      <td>-17849.114663</td>\n",
       "      <td>-20214.700368</td>\n",
       "      <td>-18671.945035</td>\n",
       "      <td>-20046.506971</td>\n",
       "      <td>-19039.709552</td>\n",
       "      <td>931.200826</td>\n",
       "    </tr>\n",
       "    <tr>\n",
       "      <th>5</th>\n",
       "      <td>0.474103</td>\n",
       "      <td>0.013216</td>\n",
       "      <td>0.042916</td>\n",
       "      <td>0.005857</td>\n",
       "      <td>4</td>\n",
       "      <td>50</td>\n",
       "      <td>42</td>\n",
       "      <td>NaN</td>\n",
       "      <td>{'max_features': 4, 'n_estimators': 50, 'rando...</td>\n",
       "      <td>-37072.541109</td>\n",
       "      <td>...</td>\n",
       "      <td>-34981.692130</td>\n",
       "      <td>4078.407753</td>\n",
       "      <td>5</td>\n",
       "      <td>-18272.835213</td>\n",
       "      <td>-17724.727752</td>\n",
       "      <td>-20085.464484</td>\n",
       "      <td>-18551.475805</td>\n",
       "      <td>-19989.866398</td>\n",
       "      <td>-18924.873930</td>\n",
       "      <td>947.218126</td>\n",
       "    </tr>\n",
       "    <tr>\n",
       "      <th>6</th>\n",
       "      <td>0.107325</td>\n",
       "      <td>0.001011</td>\n",
       "      <td>0.008883</td>\n",
       "      <td>0.000433</td>\n",
       "      <td>6</td>\n",
       "      <td>10</td>\n",
       "      <td>42</td>\n",
       "      <td>NaN</td>\n",
       "      <td>{'max_features': 6, 'n_estimators': 10, 'rando...</td>\n",
       "      <td>-38904.852953</td>\n",
       "      <td>...</td>\n",
       "      <td>-36182.160398</td>\n",
       "      <td>4038.845327</td>\n",
       "      <td>10</td>\n",
       "      <td>-18802.432480</td>\n",
       "      <td>-18409.336713</td>\n",
       "      <td>-20575.644972</td>\n",
       "      <td>-18954.662470</td>\n",
       "      <td>-20806.225618</td>\n",
       "      <td>-19509.660451</td>\n",
       "      <td>983.494862</td>\n",
       "    </tr>\n",
       "    <tr>\n",
       "      <th>7</th>\n",
       "      <td>0.264008</td>\n",
       "      <td>0.003955</td>\n",
       "      <td>0.020137</td>\n",
       "      <td>0.000760</td>\n",
       "      <td>6</td>\n",
       "      <td>25</td>\n",
       "      <td>42</td>\n",
       "      <td>NaN</td>\n",
       "      <td>{'max_features': 6, 'n_estimators': 25, 'rando...</td>\n",
       "      <td>-37454.696815</td>\n",
       "      <td>...</td>\n",
       "      <td>-35209.326444</td>\n",
       "      <td>3849.699965</td>\n",
       "      <td>7</td>\n",
       "      <td>-18381.772624</td>\n",
       "      <td>-17930.619157</td>\n",
       "      <td>-20224.526429</td>\n",
       "      <td>-18692.939210</td>\n",
       "      <td>-20105.154447</td>\n",
       "      <td>-19067.002373</td>\n",
       "      <td>929.349401</td>\n",
       "    </tr>\n",
       "    <tr>\n",
       "      <th>8</th>\n",
       "      <td>0.561625</td>\n",
       "      <td>0.030098</td>\n",
       "      <td>0.042924</td>\n",
       "      <td>0.004183</td>\n",
       "      <td>6</td>\n",
       "      <td>50</td>\n",
       "      <td>42</td>\n",
       "      <td>NaN</td>\n",
       "      <td>{'max_features': 6, 'n_estimators': 50, 'rando...</td>\n",
       "      <td>-37248.283482</td>\n",
       "      <td>...</td>\n",
       "      <td>-34940.098312</td>\n",
       "      <td>4048.103289</td>\n",
       "      <td>3</td>\n",
       "      <td>-18278.565133</td>\n",
       "      <td>-17734.344366</td>\n",
       "      <td>-20094.665861</td>\n",
       "      <td>-18571.968836</td>\n",
       "      <td>-20050.798076</td>\n",
       "      <td>-18946.068455</td>\n",
       "      <td>958.487352</td>\n",
       "    </tr>\n",
       "    <tr>\n",
       "      <th>9</th>\n",
       "      <td>0.122231</td>\n",
       "      <td>0.001364</td>\n",
       "      <td>0.008453</td>\n",
       "      <td>0.000225</td>\n",
       "      <td>8</td>\n",
       "      <td>10</td>\n",
       "      <td>42</td>\n",
       "      <td>NaN</td>\n",
       "      <td>{'max_features': 8, 'n_estimators': 10, 'rando...</td>\n",
       "      <td>-38682.132838</td>\n",
       "      <td>...</td>\n",
       "      <td>-36613.165268</td>\n",
       "      <td>4340.989328</td>\n",
       "      <td>14</td>\n",
       "      <td>-18665.511731</td>\n",
       "      <td>-18367.455341</td>\n",
       "      <td>-20590.526817</td>\n",
       "      <td>-18897.402119</td>\n",
       "      <td>-20795.078638</td>\n",
       "      <td>-19463.194929</td>\n",
       "      <td>1019.985944</td>\n",
       "    </tr>\n",
       "    <tr>\n",
       "      <th>10</th>\n",
       "      <td>0.298733</td>\n",
       "      <td>0.002148</td>\n",
       "      <td>0.019973</td>\n",
       "      <td>0.000569</td>\n",
       "      <td>8</td>\n",
       "      <td>25</td>\n",
       "      <td>42</td>\n",
       "      <td>NaN</td>\n",
       "      <td>{'max_features': 8, 'n_estimators': 25, 'rando...</td>\n",
       "      <td>-37174.621600</td>\n",
       "      <td>...</td>\n",
       "      <td>-35350.543457</td>\n",
       "      <td>4010.921930</td>\n",
       "      <td>8</td>\n",
       "      <td>-18384.018743</td>\n",
       "      <td>-17930.269538</td>\n",
       "      <td>-20175.654092</td>\n",
       "      <td>-18675.793706</td>\n",
       "      <td>-20100.846881</td>\n",
       "      <td>-19053.316592</td>\n",
       "      <td>917.461606</td>\n",
       "    </tr>\n",
       "    <tr>\n",
       "      <th>11</th>\n",
       "      <td>0.601824</td>\n",
       "      <td>0.012098</td>\n",
       "      <td>0.038891</td>\n",
       "      <td>0.000762</td>\n",
       "      <td>8</td>\n",
       "      <td>50</td>\n",
       "      <td>42</td>\n",
       "      <td>NaN</td>\n",
       "      <td>{'max_features': 8, 'n_estimators': 50, 'rando...</td>\n",
       "      <td>-37331.881762</td>\n",
       "      <td>...</td>\n",
       "      <td>-34977.826033</td>\n",
       "      <td>4298.322003</td>\n",
       "      <td>4</td>\n",
       "      <td>-18282.854021</td>\n",
       "      <td>-17816.775948</td>\n",
       "      <td>-20072.681569</td>\n",
       "      <td>-18559.402580</td>\n",
       "      <td>-20063.939224</td>\n",
       "      <td>-18959.130668</td>\n",
       "      <td>936.237631</td>\n",
       "    </tr>\n",
       "    <tr>\n",
       "      <th>12</th>\n",
       "      <td>0.033105</td>\n",
       "      <td>0.000751</td>\n",
       "      <td>0.003315</td>\n",
       "      <td>0.000065</td>\n",
       "      <td>2</td>\n",
       "      <td>3</td>\n",
       "      <td>NaN</td>\n",
       "      <td>False</td>\n",
       "      <td>{'bootstrap': False, 'max_features': 2, 'n_est...</td>\n",
       "      <td>-40814.296454</td>\n",
       "      <td>...</td>\n",
       "      <td>-38298.939475</td>\n",
       "      <td>4021.157502</td>\n",
       "      <td>18</td>\n",
       "      <td>-17084.327491</td>\n",
       "      <td>-16602.302138</td>\n",
       "      <td>-18975.850397</td>\n",
       "      <td>-17495.138621</td>\n",
       "      <td>-18652.964859</td>\n",
       "      <td>-17762.116701</td>\n",
       "      <td>910.231317</td>\n",
       "    </tr>\n",
       "    <tr>\n",
       "      <th>13</th>\n",
       "      <td>0.105425</td>\n",
       "      <td>0.001868</td>\n",
       "      <td>0.009932</td>\n",
       "      <td>0.000465</td>\n",
       "      <td>2</td>\n",
       "      <td>10</td>\n",
       "      <td>NaN</td>\n",
       "      <td>False</td>\n",
       "      <td>{'bootstrap': False, 'max_features': 2, 'n_est...</td>\n",
       "      <td>-40284.358872</td>\n",
       "      <td>...</td>\n",
       "      <td>-37005.109317</td>\n",
       "      <td>4237.953607</td>\n",
       "      <td>16</td>\n",
       "      <td>-17084.297788</td>\n",
       "      <td>-16602.302138</td>\n",
       "      <td>-18975.850721</td>\n",
       "      <td>-17495.159157</td>\n",
       "      <td>-18652.964859</td>\n",
       "      <td>-17762.114932</td>\n",
       "      <td>910.234623</td>\n",
       "    </tr>\n",
       "    <tr>\n",
       "      <th>14</th>\n",
       "      <td>0.034326</td>\n",
       "      <td>0.000196</td>\n",
       "      <td>0.003427</td>\n",
       "      <td>0.000207</td>\n",
       "      <td>3</td>\n",
       "      <td>3</td>\n",
       "      <td>NaN</td>\n",
       "      <td>False</td>\n",
       "      <td>{'bootstrap': False, 'max_features': 3, 'n_est...</td>\n",
       "      <td>-42999.644317</td>\n",
       "      <td>...</td>\n",
       "      <td>-37909.095382</td>\n",
       "      <td>4543.864050</td>\n",
       "      <td>17</td>\n",
       "      <td>-17084.294851</td>\n",
       "      <td>-16602.302138</td>\n",
       "      <td>-18975.850397</td>\n",
       "      <td>-17495.123273</td>\n",
       "      <td>-18652.964859</td>\n",
       "      <td>-17762.107103</td>\n",
       "      <td>910.237079</td>\n",
       "    </tr>\n",
       "    <tr>\n",
       "      <th>15</th>\n",
       "      <td>0.110768</td>\n",
       "      <td>0.000873</td>\n",
       "      <td>0.009322</td>\n",
       "      <td>0.000314</td>\n",
       "      <td>3</td>\n",
       "      <td>10</td>\n",
       "      <td>NaN</td>\n",
       "      <td>False</td>\n",
       "      <td>{'bootstrap': False, 'max_features': 3, 'n_est...</td>\n",
       "      <td>-40627.969058</td>\n",
       "      <td>...</td>\n",
       "      <td>-36584.843767</td>\n",
       "      <td>4696.870014</td>\n",
       "      <td>13</td>\n",
       "      <td>-17084.299953</td>\n",
       "      <td>-16602.325425</td>\n",
       "      <td>-18975.850397</td>\n",
       "      <td>-17495.120144</td>\n",
       "      <td>-18653.254072</td>\n",
       "      <td>-17762.169998</td>\n",
       "      <td>910.287185</td>\n",
       "    </tr>\n",
       "    <tr>\n",
       "      <th>16</th>\n",
       "      <td>0.037884</td>\n",
       "      <td>0.000287</td>\n",
       "      <td>0.003664</td>\n",
       "      <td>0.000203</td>\n",
       "      <td>4</td>\n",
       "      <td>3</td>\n",
       "      <td>NaN</td>\n",
       "      <td>False</td>\n",
       "      <td>{'bootstrap': False, 'max_features': 4, 'n_est...</td>\n",
       "      <td>-40691.469240</td>\n",
       "      <td>...</td>\n",
       "      <td>-36817.325970</td>\n",
       "      <td>4485.531482</td>\n",
       "      <td>15</td>\n",
       "      <td>-17084.294851</td>\n",
       "      <td>-16602.561512</td>\n",
       "      <td>-18975.853996</td>\n",
       "      <td>-17495.118276</td>\n",
       "      <td>-18652.966305</td>\n",
       "      <td>-17762.158988</td>\n",
       "      <td>910.172521</td>\n",
       "    </tr>\n",
       "    <tr>\n",
       "      <th>17</th>\n",
       "      <td>0.129737</td>\n",
       "      <td>0.012723</td>\n",
       "      <td>0.010468</td>\n",
       "      <td>0.002490</td>\n",
       "      <td>4</td>\n",
       "      <td>10</td>\n",
       "      <td>NaN</td>\n",
       "      <td>False</td>\n",
       "      <td>{'bootstrap': False, 'max_features': 4, 'n_est...</td>\n",
       "      <td>-40104.655736</td>\n",
       "      <td>...</td>\n",
       "      <td>-36538.086328</td>\n",
       "      <td>4279.207095</td>\n",
       "      <td>12</td>\n",
       "      <td>-17084.294885</td>\n",
       "      <td>-16602.329621</td>\n",
       "      <td>-18975.888251</td>\n",
       "      <td>-17495.118356</td>\n",
       "      <td>-18652.970143</td>\n",
       "      <td>-17762.120251</td>\n",
       "      <td>910.241488</td>\n",
       "    </tr>\n",
       "  </tbody>\n",
       "</table>\n",
       "<p>18 rows × 24 columns</p>\n",
       "</div>"
      ],
      "text/plain": [
       "    mean_fit_time  std_fit_time  mean_score_time  std_score_time  \\\n",
       "0        0.131402      0.033318         0.012324        0.002365   \n",
       "1        0.250567      0.027808         0.026682        0.004296   \n",
       "2        0.449955      0.029625         0.039828        0.000648   \n",
       "3        0.093188      0.000552         0.008486        0.000079   \n",
       "4        0.229523      0.002727         0.020782        0.000885   \n",
       "5        0.474103      0.013216         0.042916        0.005857   \n",
       "6        0.107325      0.001011         0.008883        0.000433   \n",
       "7        0.264008      0.003955         0.020137        0.000760   \n",
       "8        0.561625      0.030098         0.042924        0.004183   \n",
       "9        0.122231      0.001364         0.008453        0.000225   \n",
       "10       0.298733      0.002148         0.019973        0.000569   \n",
       "11       0.601824      0.012098         0.038891        0.000762   \n",
       "12       0.033105      0.000751         0.003315        0.000065   \n",
       "13       0.105425      0.001868         0.009932        0.000465   \n",
       "14       0.034326      0.000196         0.003427        0.000207   \n",
       "15       0.110768      0.000873         0.009322        0.000314   \n",
       "16       0.037884      0.000287         0.003664        0.000203   \n",
       "17       0.129737      0.012723         0.010468        0.002490   \n",
       "\n",
       "   param_max_features param_n_estimators param_random_state param_bootstrap  \\\n",
       "0                   2                 10                 42             NaN   \n",
       "1                   2                 25                 42             NaN   \n",
       "2                   2                 50                 42             NaN   \n",
       "3                   4                 10                 42             NaN   \n",
       "4                   4                 25                 42             NaN   \n",
       "5                   4                 50                 42             NaN   \n",
       "6                   6                 10                 42             NaN   \n",
       "7                   6                 25                 42             NaN   \n",
       "8                   6                 50                 42             NaN   \n",
       "9                   8                 10                 42             NaN   \n",
       "10                  8                 25                 42             NaN   \n",
       "11                  8                 50                 42             NaN   \n",
       "12                  2                  3                NaN           False   \n",
       "13                  2                 10                NaN           False   \n",
       "14                  3                  3                NaN           False   \n",
       "15                  3                 10                NaN           False   \n",
       "16                  4                  3                NaN           False   \n",
       "17                  4                 10                NaN           False   \n",
       "\n",
       "                                               params  split0_test_score  ...  \\\n",
       "0   {'max_features': 2, 'n_estimators': 10, 'rando...      -39248.114891  ...   \n",
       "1   {'max_features': 2, 'n_estimators': 25, 'rando...      -37433.141310  ...   \n",
       "2   {'max_features': 2, 'n_estimators': 50, 'rando...      -37001.067381  ...   \n",
       "3   {'max_features': 4, 'n_estimators': 10, 'rando...      -39096.678442  ...   \n",
       "4   {'max_features': 4, 'n_estimators': 25, 'rando...      -37224.428069  ...   \n",
       "5   {'max_features': 4, 'n_estimators': 50, 'rando...      -37072.541109  ...   \n",
       "6   {'max_features': 6, 'n_estimators': 10, 'rando...      -38904.852953  ...   \n",
       "7   {'max_features': 6, 'n_estimators': 25, 'rando...      -37454.696815  ...   \n",
       "8   {'max_features': 6, 'n_estimators': 50, 'rando...      -37248.283482  ...   \n",
       "9   {'max_features': 8, 'n_estimators': 10, 'rando...      -38682.132838  ...   \n",
       "10  {'max_features': 8, 'n_estimators': 25, 'rando...      -37174.621600  ...   \n",
       "11  {'max_features': 8, 'n_estimators': 50, 'rando...      -37331.881762  ...   \n",
       "12  {'bootstrap': False, 'max_features': 2, 'n_est...      -40814.296454  ...   \n",
       "13  {'bootstrap': False, 'max_features': 2, 'n_est...      -40284.358872  ...   \n",
       "14  {'bootstrap': False, 'max_features': 3, 'n_est...      -42999.644317  ...   \n",
       "15  {'bootstrap': False, 'max_features': 3, 'n_est...      -40627.969058  ...   \n",
       "16  {'bootstrap': False, 'max_features': 4, 'n_est...      -40691.469240  ...   \n",
       "17  {'bootstrap': False, 'max_features': 4, 'n_est...      -40104.655736  ...   \n",
       "\n",
       "    mean_test_score  std_test_score  rank_test_score  split0_train_score  \\\n",
       "0     -36222.952313     4168.112179               11       -18784.572752   \n",
       "1     -35035.863151     4087.874240                6       -18403.753376   \n",
       "2     -34784.100529     4205.356042                1       -18236.643464   \n",
       "3     -35946.560485     4404.570830                9       -18824.941341   \n",
       "4     -34937.639191     4188.831442                2       -18416.280724   \n",
       "5     -34981.692130     4078.407753                5       -18272.835213   \n",
       "6     -36182.160398     4038.845327               10       -18802.432480   \n",
       "7     -35209.326444     3849.699965                7       -18381.772624   \n",
       "8     -34940.098312     4048.103289                3       -18278.565133   \n",
       "9     -36613.165268     4340.989328               14       -18665.511731   \n",
       "10    -35350.543457     4010.921930                8       -18384.018743   \n",
       "11    -34977.826033     4298.322003                4       -18282.854021   \n",
       "12    -38298.939475     4021.157502               18       -17084.327491   \n",
       "13    -37005.109317     4237.953607               16       -17084.297788   \n",
       "14    -37909.095382     4543.864050               17       -17084.294851   \n",
       "15    -36584.843767     4696.870014               13       -17084.299953   \n",
       "16    -36817.325970     4485.531482               15       -17084.294851   \n",
       "17    -36538.086328     4279.207095               12       -17084.294885   \n",
       "\n",
       "    split1_train_score  split2_train_score  split3_train_score  \\\n",
       "0        -18253.619026       -20654.780016       -18871.246431   \n",
       "1        -17881.339148       -20264.648105       -18671.879525   \n",
       "2        -17711.678903       -20066.429774       -18544.130814   \n",
       "3        -18259.559843       -20633.084803       -18956.386100   \n",
       "4        -17849.114663       -20214.700368       -18671.945035   \n",
       "5        -17724.727752       -20085.464484       -18551.475805   \n",
       "6        -18409.336713       -20575.644972       -18954.662470   \n",
       "7        -17930.619157       -20224.526429       -18692.939210   \n",
       "8        -17734.344366       -20094.665861       -18571.968836   \n",
       "9        -18367.455341       -20590.526817       -18897.402119   \n",
       "10       -17930.269538       -20175.654092       -18675.793706   \n",
       "11       -17816.775948       -20072.681569       -18559.402580   \n",
       "12       -16602.302138       -18975.850397       -17495.138621   \n",
       "13       -16602.302138       -18975.850721       -17495.159157   \n",
       "14       -16602.302138       -18975.850397       -17495.123273   \n",
       "15       -16602.325425       -18975.850397       -17495.120144   \n",
       "16       -16602.561512       -18975.853996       -17495.118276   \n",
       "17       -16602.329621       -18975.888251       -17495.118356   \n",
       "\n",
       "    split4_train_score  mean_train_score  std_train_score  \n",
       "0        -20708.576097     -19454.558864      1024.156366  \n",
       "1        -20032.457717     -19050.815574       934.555278  \n",
       "2        -20006.912267     -18913.159044       955.378373  \n",
       "3        -20755.819273     -19485.958272      1014.878260  \n",
       "4        -20046.506971     -19039.709552       931.200826  \n",
       "5        -19989.866398     -18924.873930       947.218126  \n",
       "6        -20806.225618     -19509.660451       983.494862  \n",
       "7        -20105.154447     -19067.002373       929.349401  \n",
       "8        -20050.798076     -18946.068455       958.487352  \n",
       "9        -20795.078638     -19463.194929      1019.985944  \n",
       "10       -20100.846881     -19053.316592       917.461606  \n",
       "11       -20063.939224     -18959.130668       936.237631  \n",
       "12       -18652.964859     -17762.116701       910.231317  \n",
       "13       -18652.964859     -17762.114932       910.234623  \n",
       "14       -18652.964859     -17762.107103       910.237079  \n",
       "15       -18653.254072     -17762.169998       910.287185  \n",
       "16       -18652.966305     -17762.158988       910.172521  \n",
       "17       -18652.970143     -17762.120251       910.241488  \n",
       "\n",
       "[18 rows x 24 columns]"
      ]
     },
     "execution_count": 112,
     "metadata": {},
     "output_type": "execute_result"
    }
   ],
   "source": [
    "pd.DataFrame(clf.cv_results_)"
   ]
  },
  {
   "cell_type": "code",
   "execution_count": 113,
   "id": "9ee1b7b5",
   "metadata": {},
   "outputs": [],
   "source": [
    "from sklearn.model_selection import RandomizedSearchCV\n",
    "from scipy.stats import randint\n",
    "param_distribution = {'n_estimators':randint(low=1,high=100), 'max_features':randint(low=1,high=8)}\n",
    "forest_reg = RandomForestRegressor(random_state=42)"
   ]
  },
  {
   "cell_type": "code",
   "execution_count": 114,
   "id": "8c6a974c",
   "metadata": {},
   "outputs": [
    {
     "data": {
      "text/plain": [
       "RandomizedSearchCV(cv=5, estimator=RandomForestRegressor(random_state=42),\n",
       "                   param_distributions={'max_features': <scipy.stats._distn_infrastructure.rv_frozen object at 0x7f4574a97d90>,\n",
       "                                        'n_estimators': <scipy.stats._distn_infrastructure.rv_frozen object at 0x7f4574a97100>},\n",
       "                   return_train_score=True, scoring='neg_mean_squared_error')"
      ]
     },
     "execution_count": 114,
     "metadata": {},
     "output_type": "execute_result"
    }
   ],
   "source": [
    "random_search_cv = RandomizedSearchCV(forest_reg, param_distribution, scoring='neg_mean_squared_error', return_train_score=True, cv=5 )\n",
    "random_search_cv.fit(hotels1_prepared_cut,y_labels)"
   ]
  },
  {
   "cell_type": "code",
   "execution_count": 115,
   "id": "7c4f0a0d",
   "metadata": {},
   "outputs": [
    {
     "data": {
      "text/plain": [
       "dict_keys(['mean_fit_time', 'std_fit_time', 'mean_score_time', 'std_score_time', 'param_max_features', 'param_n_estimators', 'params', 'split0_test_score', 'split1_test_score', 'split2_test_score', 'split3_test_score', 'split4_test_score', 'mean_test_score', 'std_test_score', 'rank_test_score', 'split0_train_score', 'split1_train_score', 'split2_train_score', 'split3_train_score', 'split4_train_score', 'mean_train_score', 'std_train_score'])"
      ]
     },
     "execution_count": 115,
     "metadata": {},
     "output_type": "execute_result"
    }
   ],
   "source": [
    "random_search_cv.cv_results_.keys()"
   ]
  },
  {
   "cell_type": "code",
   "execution_count": 116,
   "id": "8c443795",
   "metadata": {},
   "outputs": [
    {
     "name": "stdout",
     "output_type": "stream",
     "text": [
      "186.51288709966624 {'max_features': 6, 'n_estimators': 69}\n",
      "186.9844348366575 {'max_features': 2, 'n_estimators': 31}\n",
      "186.7615470405868 {'max_features': 6, 'n_estimators': 86}\n",
      "186.57073707744436 {'max_features': 7, 'n_estimators': 53}\n",
      "187.1016079387465 {'max_features': 2, 'n_estimators': 29}\n",
      "187.18069356221503 {'max_features': 2, 'n_estimators': 21}\n",
      "213.77114067932004 {'max_features': 3, 'n_estimators': 1}\n",
      "186.96464475728152 {'max_features': 4, 'n_estimators': 66}\n",
      "187.26285376849654 {'max_features': 2, 'n_estimators': 27}\n",
      "189.08686907020893 {'max_features': 4, 'n_estimators': 11}\n"
     ]
    }
   ],
   "source": [
    "cv_scores = random_search_cv.cv_results_\n",
    "for mean_score , params in zip(cv_scores['mean_test_score'], cv_scores['params']):\n",
    "        print(np.sqrt(-mean_score), params)"
   ]
  },
  {
   "cell_type": "code",
   "execution_count": 117,
   "id": "747c0cb9",
   "metadata": {},
   "outputs": [
    {
     "data": {
      "text/plain": [
       "RandomForestRegressor(max_features=6, n_estimators=69, random_state=42)"
      ]
     },
     "execution_count": 117,
     "metadata": {},
     "output_type": "execute_result"
    }
   ],
   "source": [
    "random_search_cv.best_estimator_"
   ]
  },
  {
   "cell_type": "markdown",
   "id": "876b88ea",
   "metadata": {},
   "source": [
    "now going to analyze the best models and see where they can improve"
   ]
  },
  {
   "cell_type": "code",
   "execution_count": 118,
   "id": "14103aef",
   "metadata": {},
   "outputs": [
    {
     "data": {
      "text/plain": [
       "array([2.94046660e-01, 1.09723101e-01, 1.90988514e-01, 2.31147606e-01,\n",
       "       2.97087642e-03, 2.12446701e-02, 3.10626320e-04, 2.18243584e-04,\n",
       "       4.95457962e-05, 1.02399136e-03, 1.16250727e-03, 1.80920278e-02,\n",
       "       1.15322504e-03, 6.31808046e-02, 6.02439249e-03, 2.25233847e-02,\n",
       "       1.43480623e-02, 1.45363594e-02, 6.27010834e-03, 9.85293182e-04])"
      ]
     },
     "execution_count": 118,
     "metadata": {},
     "output_type": "execute_result"
    }
   ],
   "source": [
    "random_search_cv.best_estimator_.feature_importances_"
   ]
  },
  {
   "cell_type": "code",
   "execution_count": 119,
   "id": "ff825ed1",
   "metadata": {},
   "outputs": [
    {
     "data": {
      "text/plain": [
       "{'num_val': Pipeline(steps=[('imputer', KNNImputer(n_neighbors=7)),\n",
       "                 ('attr_add',\n",
       "                  hotels_attribute_adder(change_rating_count_float=True))]),\n",
       " 'cat_val': OneHotEncoder(),\n",
       " 'remainder': 'drop'}"
      ]
     },
     "execution_count": 119,
     "metadata": {},
     "output_type": "execute_result"
    }
   ],
   "source": [
    "full_pipeline.named_transformers_"
   ]
  },
  {
   "cell_type": "code",
   "execution_count": 120,
   "id": "b4425a6d",
   "metadata": {},
   "outputs": [],
   "source": [
    "# full_pipeline.named_transformers_['num_val'].categories_ not possible\n",
    "accomodation_cat = full_pipeline.named_transformers_['cat_val'].categories_[0].tolist()\n",
    "offer_cat = full_pipeline.named_transformers_['cat_val'].categories_[1].tolist()\n",
    "manual_columns = ['stars','ratingta','rating','distance']"
   ]
  },
  {
   "cell_type": "code",
   "execution_count": 121,
   "id": "d3f67fed",
   "metadata": {},
   "outputs": [
    {
     "data": {
      "text/plain": [
       "True"
      ]
     },
     "execution_count": 121,
     "metadata": {},
     "output_type": "execute_result"
    }
   ],
   "source": [
    "features = random_search_cv.best_estimator_.feature_importances_\n",
    "labels = manual_columns + accomodation_cat + offer_cat\n",
    "len(features)== len(labels)"
   ]
  },
  {
   "cell_type": "code",
   "execution_count": null,
   "id": "675bd98e",
   "metadata": {},
   "outputs": [],
   "source": []
  },
  {
   "cell_type": "code",
   "execution_count": 122,
   "id": "6c25022f",
   "metadata": {},
   "outputs": [
    {
     "name": "stdout",
     "output_type": "stream",
     "text": [
      "0.29404666034959775 stars\n",
      "0.10972310068194267 ratingta\n",
      "0.19098851407554993 rating\n",
      "0.2311476063230376 distance\n",
      "0.002970876424671745 Apart-hotel\n",
      "0.021244670067241223 Apartment\n",
      "0.0003106263204640219 Bed and breakfast\n",
      "0.0002182435839650007 Cabin / Lodge\n",
      "4.954579618716977e-05 Caravan Park\n",
      "0.0010239913578064007 Guest House\n",
      "0.0011625072668029826 Hostel\n",
      "0.01809202777518778 Hotel\n",
      "0.0011532250445122204 House boat\n",
      "0.06318080456029544 Palace\n",
      "0.006024392490059224 Vacation home Condo\n",
      "0.022523384664902543 0% no offer\n",
      "0.014348062288224005 1-15% offer\n",
      "0.01453635940878571 15-50% offer\n",
      "0.006270108338342588 50%-75% offer\n",
      "0.0009852931824239938 75%+ offer\n"
     ]
    }
   ],
   "source": [
    "for feature, label in zip(features,labels):\n",
    "        print(feature,label)"
   ]
  },
  {
   "cell_type": "code",
   "execution_count": 123,
   "id": "09bd887f",
   "metadata": {},
   "outputs": [
    {
     "data": {
      "text/plain": [
       "[(0.29404666034959775, 'stars'),\n",
       " (0.2311476063230376, 'distance'),\n",
       " (0.19098851407554993, 'rating'),\n",
       " (0.10972310068194267, 'ratingta'),\n",
       " (0.06318080456029544, 'Palace'),\n",
       " (0.022523384664902543, '0% no offer'),\n",
       " (0.021244670067241223, 'Apartment'),\n",
       " (0.01809202777518778, 'Hotel'),\n",
       " (0.01453635940878571, '15-50% offer'),\n",
       " (0.014348062288224005, '1-15% offer'),\n",
       " (0.006270108338342588, '50%-75% offer'),\n",
       " (0.006024392490059224, 'Vacation home Condo'),\n",
       " (0.002970876424671745, 'Apart-hotel'),\n",
       " (0.0011625072668029826, 'Hostel'),\n",
       " (0.0011532250445122204, 'House boat'),\n",
       " (0.0010239913578064007, 'Guest House'),\n",
       " (0.0009852931824239938, '75%+ offer'),\n",
       " (0.0003106263204640219, 'Bed and breakfast'),\n",
       " (0.0002182435839650007, 'Cabin / Lodge'),\n",
       " (4.954579618716977e-05, 'Caravan Park')]"
      ]
     },
     "execution_count": 123,
     "metadata": {},
     "output_type": "execute_result"
    }
   ],
   "source": [
    "sorted(zip(features,labels),reverse=True) #find a way to easily drop the worst categories"
   ]
  },
  {
   "cell_type": "markdown",
   "id": "f391f00f",
   "metadata": {},
   "source": [
    "going to evaluate on test set now"
   ]
  },
  {
   "cell_type": "code",
   "execution_count": 124,
   "id": "a35515e8",
   "metadata": {},
   "outputs": [
    {
     "data": {
      "text/plain": [
       "RandomForestRegressor(max_features=2, n_estimators=50, random_state=42)"
      ]
     },
     "execution_count": 124,
     "metadata": {},
     "output_type": "execute_result"
    }
   ],
   "source": [
    "forest_reg_final = clf.best_estimator_\n",
    "forest_reg_final"
   ]
  },
  {
   "cell_type": "code",
   "execution_count": 125,
   "id": "fb708558",
   "metadata": {},
   "outputs": [],
   "source": [
    "hotels_test_prepared = full_pipeline.transform(test_set)"
   ]
  },
  {
   "cell_type": "code",
   "execution_count": 126,
   "id": "ea79f9cc",
   "metadata": {},
   "outputs": [
    {
     "data": {
      "text/plain": [
       "array([128., 141., 156., ...,  93.,  41., 529.])"
      ]
     },
     "execution_count": 126,
     "metadata": {},
     "output_type": "execute_result"
    }
   ],
   "source": [
    "y_test_labels = hotels_test_prepared[:,6]\n",
    "y_test_labels"
   ]
  },
  {
   "cell_type": "code",
   "execution_count": 127,
   "id": "523ac7c5",
   "metadata": {},
   "outputs": [
    {
     "data": {
      "text/plain": [
       "array([3. , 4. , 3.9, 0.8, 0. , 0. , 0. , 0. , 0. , 0. , 0. , 1. , 0. ,\n",
       "       0. , 0. , 0. , 0. , 1. , 0. , 0. ])"
      ]
     },
     "execution_count": 127,
     "metadata": {},
     "output_type": "execute_result"
    }
   ],
   "source": [
    "hotels_test_prepared_cut = np.delete(hotels_test_prepared,list(range(7)),axis=1)\n",
    "hotels_test_prepared_cut[1]"
   ]
  },
  {
   "cell_type": "code",
   "execution_count": 128,
   "id": "0b2f9e0e",
   "metadata": {},
   "outputs": [],
   "source": [
    "forest_reg_final_predictions = forest_reg_final.predict(hotels_test_prepared_cut)"
   ]
  },
  {
   "cell_type": "code",
   "execution_count": 129,
   "id": "86d46201",
   "metadata": {},
   "outputs": [
    {
     "data": {
      "text/plain": [
       "173.04594577446701"
      ]
     },
     "execution_count": 129,
     "metadata": {},
     "output_type": "execute_result"
    }
   ],
   "source": [
    "forest_reg_final_rmse = mean_squared_error(y_test_labels, forest_reg_final_predictions, squared=False)\n",
    "forest_reg_final_rmse"
   ]
  },
  {
   "cell_type": "markdown",
   "id": "720131d6",
   "metadata": {},
   "source": [
    "95% confidence interval for rmse"
   ]
  },
  {
   "cell_type": "code",
   "execution_count": 130,
   "id": "c6aabe43",
   "metadata": {},
   "outputs": [
    {
     "data": {
      "text/plain": [
       "array([159.51451371, 185.59342287])"
      ]
     },
     "execution_count": 130,
     "metadata": {},
     "output_type": "execute_result"
    }
   ],
   "source": [
    "from scipy import stats\n",
    "\n",
    "confidence = 0.95\n",
    "squared_errors = (forest_reg_final_predictions - y_test_labels) ** 2\n",
    "np.sqrt(stats.t.interval(confidence, len(squared_errors) - 1,\n",
    "                         loc=squared_errors.mean(),\n",
    "                         scale=stats.sem(squared_errors)))"
   ]
  },
  {
   "cell_type": "code",
   "execution_count": 131,
   "id": "bf4ba848",
   "metadata": {},
   "outputs": [],
   "source": [
    "import joblib"
   ]
  },
  {
   "cell_type": "code",
   "execution_count": 132,
   "id": "d278cdfa",
   "metadata": {},
   "outputs": [
    {
     "data": {
      "text/plain": [
       "['clf.pkl']"
      ]
     },
     "execution_count": 132,
     "metadata": {},
     "output_type": "execute_result"
    }
   ],
   "source": [
    "joblib.dump(forest_reg_final,\"forest_reg_final.pkl\")\n",
    "joblib.dump(forest_reg_final_predictions,\"forest_reg_final_predictions.pkl\")\n",
    "joblib.dump(clf,\"clf.pkl\")"
   ]
  },
  {
   "cell_type": "code",
   "execution_count": null,
   "id": "c047cf84",
   "metadata": {},
   "outputs": [],
   "source": [
    "# joblib.load"
   ]
  },
  {
   "cell_type": "markdown",
   "id": "e4145f1c",
   "metadata": {},
   "source": [
    "# come back later and finish additional add-ons"
   ]
  },
  {
   "cell_type": "code",
   "execution_count": null,
   "id": "93ae491b",
   "metadata": {},
   "outputs": [],
   "source": []
  }
 ],
 "metadata": {
  "kernelspec": {
   "display_name": "Python 3 (ipykernel)",
   "language": "python",
   "name": "python3"
  },
  "language_info": {
   "codemirror_mode": {
    "name": "ipython",
    "version": 3
   },
   "file_extension": ".py",
   "mimetype": "text/x-python",
   "name": "python",
   "nbconvert_exporter": "python",
   "pygments_lexer": "ipython3",
   "version": "3.8.10"
  }
 },
 "nbformat": 4,
 "nbformat_minor": 5
}
