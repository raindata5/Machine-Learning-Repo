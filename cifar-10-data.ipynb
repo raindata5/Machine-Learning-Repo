{
 "cells": [
  {
   "cell_type": "markdown",
   "id": "085b8aff",
   "metadata": {},
   "source": [
    "Tried to download data but the issue is that the data is in form of bytes"
   ]
  },
  {
   "cell_type": "code",
   "execution_count": 1,
   "id": "8117b9d3",
   "metadata": {},
   "outputs": [],
   "source": [
    "import os\n",
    "import tarfile\n",
    "import urllib.request\n",
    "\n",
    "ROOT_DOWNLOAD = \"https://www.cs.toronto.edu/~kriz/cifar-10-python.tar.gz\"\n",
    "PATH_CIFAR = os.path.join(\"datasets\",\"cifar-10\")\n",
    "\n",
    "def fetch_cifar_10_data(root_download = ROOT_DOWNLOAD, path_cifar = PATH_CIFAR):\n",
    "    if not os.path.isdir(path_cifar):\n",
    "        os.makedirs(path_cifar)\n",
    "    path_tgz = os.path.join(path_cifar,\"cifar-10-python.tar.gz\")\n",
    "    urllib.request.urlretrieve(root_download, path_tgz)\n",
    "    cifar_tar = tarfile.open(path_tgz)\n",
    "    cifar_tar.extractall(path=path_cifar)\n",
    "    cifar_tar.close()"
   ]
  },
  {
   "cell_type": "code",
   "execution_count": 2,
   "id": "afe27c44",
   "metadata": {},
   "outputs": [],
   "source": [
    "fetch_cifar_10_data()"
   ]
  },
  {
   "cell_type": "code",
   "execution_count": 36,
   "id": "a94351be",
   "metadata": {},
   "outputs": [],
   "source": [
    "\n",
    "PATH_CIFAR_BATCHES = os.path.join(PATH_CIFAR,\"cifar-10-batches-py/\")\n",
    "file = None\n",
    "def unpickle(path_cifar_batches = PATH_CIFAR_BATCHES, the_file = file):\n",
    "    import pickle\n",
    "    dire = os.path.join(path_cifar_batches, the_file)\n",
    "    data_dict = open(dire, \"rb\")\n",
    "    data = data_dict.read()\n",
    "    data_dict.close()\n",
    "    # with open(dire, 'rb') as fo:\n",
    "    #     print(dire)\n",
    "    #     data_dict = BytesIO(fo.read())\n",
    "    #     print(type(data_dict)) #buf = BytesIO(fh.read())\n",
    "    #     #dict = pickle.load(fo, encoding='bytes')\n",
    "    return data\n",
    "\n",
    "\n",
    "\n",
    "\n",
    "\n",
    "\n",
    "def load_cifar_10_data(path_cifar_batches=PATH_CIFAR_BATCHES):\n",
    "    files = os.listdir(path_cifar_batches)\n",
    "    data_list = []\n",
    "    \n",
    "    for file in files:\n",
    "        data_list.append(unpickle(path_cifar_batches = PATH_CIFAR_BATCHES,the_file =file))\n",
    "    return files, data_list"
   ]
  },
  {
   "cell_type": "code",
   "execution_count": 37,
   "id": "4855dd2a",
   "metadata": {},
   "outputs": [],
   "source": [
    "files, data_list = load_cifar_10_data()"
   ]
  },
  {
   "cell_type": "code",
   "execution_count": 38,
   "id": "dfd3a658",
   "metadata": {},
   "outputs": [
    {
     "data": {
      "text/plain": [
       "['batches.meta',\n",
       " 'data_batch_1',\n",
       " 'data_batch_2',\n",
       " 'data_batch_3',\n",
       " 'data_batch_4',\n",
       " 'data_batch_5',\n",
       " 'readme.html',\n",
       " 'test_batch']"
      ]
     },
     "execution_count": 38,
     "metadata": {},
     "output_type": "execute_result"
    }
   ],
   "source": [
    "files"
   ]
  },
  {
   "cell_type": "code",
   "execution_count": 39,
   "id": "304b9c0c",
   "metadata": {},
   "outputs": [
    {
     "data": {
      "text/plain": [
       "bytes"
      ]
     },
     "execution_count": 39,
     "metadata": {},
     "output_type": "execute_result"
    }
   ],
   "source": [
    "len(data_list)\n",
    "type(data_list[0])"
   ]
  },
  {
   "cell_type": "code",
   "execution_count": null,
   "id": "fd6838cb",
   "metadata": {},
   "outputs": [],
   "source": []
  }
 ],
 "metadata": {
  "kernelspec": {
   "display_name": "Python 3 (ipykernel)",
   "language": "python",
   "name": "python3"
  },
  "language_info": {
   "codemirror_mode": {
    "name": "ipython",
    "version": 3
   },
   "file_extension": ".py",
   "mimetype": "text/x-python",
   "name": "python",
   "nbconvert_exporter": "python",
   "pygments_lexer": "ipython3",
   "version": "3.8.10"
  }
 },
 "nbformat": 4,
 "nbformat_minor": 5
}
